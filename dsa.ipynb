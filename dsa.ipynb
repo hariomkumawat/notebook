{
 "cells": [
  {
   "cell_type": "markdown",
   "metadata": {},
   "source": [
    "#Dynamic arrary"
   ]
  },
  {
   "cell_type": "code",
   "execution_count": 18,
   "metadata": {},
   "outputs": [],
   "source": [
    "import sys\n",
    "l = []\n"
   ]
  },
  {
   "cell_type": "code",
   "execution_count": 19,
   "metadata": {},
   "outputs": [],
   "source": [
    "l.append(120)"
   ]
  },
  {
   "cell_type": "code",
   "execution_count": 20,
   "metadata": {},
   "outputs": [
    {
     "data": {
      "text/plain": [
       "88"
      ]
     },
     "execution_count": 20,
     "metadata": {},
     "output_type": "execute_result"
    }
   ],
   "source": [
    "sys.getsizeof(l)"
   ]
  },
  {
   "cell_type": "markdown",
   "metadata": {},
   "source": [
    "# creating list "
   ]
  },
  {
   "cell_type": "code",
   "execution_count": 22,
   "metadata": {},
   "outputs": [],
   "source": [
    "import ctypes"
   ]
  },
  {
   "cell_type": "markdown",
   "metadata": {},
   "source": [
    "#ctypes is a foreign function library for Python. It provides C compatible data types, and allows calling functions in DLLs or shared libraries. It can be used to wrap these libraries in pure Python."
   ]
  },
  {
   "cell_type": "code",
   "execution_count": 64,
   "metadata": {},
   "outputs": [],
   "source": [
    "class Meralist:\n",
    "    def __init__(self) -> None:\n",
    "        self.size=1\n",
    "        self.n=0\n",
    "        self.A=self.__make_arrary(self.size)\n",
    "    def __len__(self):\n",
    "        return self.n\n",
    "\n",
    "    def __str__(self) -> str:\n",
    "        result=''\n",
    "        for i in range(self.n):\n",
    "            result=result+str(self.A[i])+','\n",
    "        return '['+result[:-1]+']'\n",
    "\n",
    "    def append(self,item):\n",
    "        if self.n==self.n:\n",
    "            # resize aarray\n",
    "            self.__resize(self.size*2)\n",
    "        #append\n",
    "        self.A[self.n]=item\n",
    "        self.n+=1\n",
    "    def __resize(self,new_capacity):\n",
    "        #create new arrary with new capacity\n",
    "        B=self.__make_arrary(new_capacity)\n",
    "        self.size=new_capacity\n",
    "        #copy containt of A to B\n",
    "        for i in range(self.n):\n",
    "            B[i]=self.A[i]\n",
    "        #reassign\n",
    "        self.A=B\n",
    "    def __make_arrary(self,capacity):\n",
    "        return (capacity*ctypes.py_object)()\n"
   ]
  },
  {
   "cell_type": "code",
   "execution_count": 65,
   "metadata": {},
   "outputs": [
    {
     "data": {
      "text/plain": [
       "0"
      ]
     },
     "execution_count": 65,
     "metadata": {},
     "output_type": "execute_result"
    }
   ],
   "source": [
    "L=Meralist()\n",
    "L.__len__()"
   ]
  },
  {
   "cell_type": "code",
   "execution_count": 68,
   "metadata": {},
   "outputs": [],
   "source": [
    "L.append('hello')\n",
    "L.append('om')\n",
    "L.append('ho')\n",
    "L.append('hello')\n",
    "L.append('om')\n",
    "L.append('ho')"
   ]
  },
  {
   "cell_type": "code",
   "execution_count": 69,
   "metadata": {},
   "outputs": [
    {
     "name": "stdout",
     "output_type": "stream",
     "text": [
      "[hello,om,ho,hello,om,ho,hello,om,ho]\n"
     ]
    }
   ],
   "source": [
    "print(L)"
   ]
  },
  {
   "cell_type": "code",
   "execution_count": null,
   "metadata": {},
   "outputs": [],
   "source": []
  }
 ],
 "metadata": {
  "kernelspec": {
   "display_name": "Python 3",
   "language": "python",
   "name": "python3"
  },
  "language_info": {
   "codemirror_mode": {
    "name": "ipython",
    "version": 3
   },
   "file_extension": ".py",
   "mimetype": "text/x-python",
   "name": "python",
   "nbconvert_exporter": "python",
   "pygments_lexer": "ipython3",
   "version": "3.10.12"
  }
 },
 "nbformat": 4,
 "nbformat_minor": 2
}

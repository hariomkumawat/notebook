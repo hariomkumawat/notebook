{
 "cells": [
  {
   "cell_type": "code",
   "execution_count": 5,
   "metadata": {},
   "outputs": [
    {
     "name": "stdout",
     "output_type": "stream",
     "text": [
      "21\n"
     ]
    }
   ],
   "source": [
    "# 1. Write a Python program to calculate the sum of a list of numbers using recursion.\n",
    "\n",
    "def sum_of_list(num):\n",
    "    if not num:\n",
    "        return 0\n",
    "    else:\n",
    "        return num[0]+ sum_of_list(num[1:])\n",
    "\n",
    "\n",
    "n = [1, 2, 3, 4, 5, 6]\n",
    "print(sum_of_list(n))"
   ]
  },
  {
   "cell_type": "code",
   "execution_count": 13,
   "metadata": {},
   "outputs": [
    {
     "name": "stdout",
     "output_type": "stream",
     "text": [
      "100001000000\n"
     ]
    }
   ],
   "source": [
    "#2. Write a Python program to convert an integer to a string in any base using recursion ..\n",
    "def to_string(n, base):\n",
    "    conver_tString = \"0123456789ABCDEF\"\n",
    "    if n < base:\n",
    "        return conver_tString[n]\n",
    "    else:\n",
    "        return to_string(n // base, base) + conver_tString[n % base]\n",
    "\n",
    "print(to_string(2112, 2))"
   ]
  },
  {
   "cell_type": "code",
   "execution_count": null,
   "metadata": {},
   "outputs": [],
   "source": []
  }
 ],
 "metadata": {
  "kernelspec": {
   "display_name": "Python 3",
   "language": "python",
   "name": "python3"
  },
  "language_info": {
   "codemirror_mode": {
    "name": "ipython",
    "version": 3
   },
   "file_extension": ".py",
   "mimetype": "text/x-python",
   "name": "python",
   "nbconvert_exporter": "python",
   "pygments_lexer": "ipython3",
   "version": "3.10.12"
  }
 },
 "nbformat": 4,
 "nbformat_minor": 2
}

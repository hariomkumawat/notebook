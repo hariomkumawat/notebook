{
 "cells": [
  {
   "cell_type": "code",
   "execution_count": 22,
   "metadata": {},
   "outputs": [
    {
     "name": "stdout",
     "output_type": "stream",
     "text": [
      "1 6\n",
      "2 5\n",
      "3 4\n",
      "[6, 5, 4, 3, 2, 1]\n"
     ]
    }
   ],
   "source": [
    "#reverse list\n",
    "l=[1,2,3,4,5,6]\n",
    "length=len(l)\n",
    "# print(length)\n",
    "mid=length//2\n",
    "# print(mid)\n",
    "for i in range(mid):\n",
    "    # print(i)\n",
    "    j=length-1-i\n",
    "    # print(j)\n",
    "    print(l[i],l[j])\n",
    "    l[i],l[j]=l[j],l[i]\n",
    "\n",
    "print(l)"
   ]
  },
  {
   "cell_type": "code",
   "execution_count": 25,
   "id": "0619526d",
   "metadata": {},
   "outputs": [
    {
     "name": "stdout",
     "output_type": "stream",
     "text": [
      "1 7\n",
      "2 6\n",
      "3 5\n",
      "[7, 6, 5, 4, 3, 2, 1]\n"
     ]
    }
   ],
   "source": [
    "#sort list\n",
    "l=[1,2,3,4,5,6,7]\n",
    "length=len(l)\n",
    "# print(length)\n",
    "mid=length//2\n",
    "# print(mid)\n",
    "for i in range(mid):\n",
    "    # print(i)\n",
    "    j=length-1-i\n",
    "    # print(j)\n",
    "    print(l[i],l[j])\n",
    "    l[i],l[j]=l[j],l[i]\n",
    "\n",
    "print(l)"
   ]
  },
  {
   "cell_type": "code",
   "execution_count": 30,
   "id": "ce5aec1a",
   "metadata": {},
   "outputs": [
    {
     "name": "stdout",
     "output_type": "stream",
     "text": [
      "[1, 3, 3, 5, 6, 47, 74, 89, 8723]\n"
     ]
    }
   ],
   "source": [
    "# sort list\n",
    "\n",
    "l=[1,3,6,5,47,3,89,8723,74]\n",
    "n=len(l)\n",
    "\n",
    "for i in range(n):\n",
    "    for j in range(i+1,n):\n",
    "        if l[i]>l[j]:\n",
    "            l[i],l[j]=l[j],l[i]\n",
    "print(l)"
   ]
  },
  {
   "cell_type": "code",
   "execution_count": 32,
   "id": "3664b402",
   "metadata": {},
   "outputs": [
    {
     "data": {
      "text/plain": [
       "87"
      ]
     },
     "execution_count": 32,
     "metadata": {},
     "output_type": "execute_result"
    }
   ],
   "source": [
    "l=[2,4,6,8,4,87,9]\n",
    "max=l[0]\n",
    "for i in l:\n",
    "    if i>max:\n",
    "        max=i\n",
    "max"
   ]
  },
  {
   "cell_type": "code",
   "execution_count": 5,
   "id": "1bfbefea",
   "metadata": {},
   "outputs": [
    {
     "data": {
      "text/plain": [
       "[2, 8, 4, 65, 7, 3, 65, 34]"
      ]
     },
     "execution_count": 5,
     "metadata": {},
     "output_type": "execute_result"
    }
   ],
   "source": [
    "#swap list \n",
    "def swap(lst,pos1,pos2):\n",
    "    lst[pos1],lst[pos2]=lst[pos2],lst[pos1]\n",
    "\n",
    "l=[2,3,4,65,7,8,65,34]\n",
    "swap(l,1,5)\n",
    "l"
   ]
  },
  {
   "cell_type": "code",
   "execution_count": 7,
   "id": "ed073d72",
   "metadata": {},
   "outputs": [
    {
     "data": {
      "text/plain": [
       "8"
      ]
     },
     "execution_count": 7,
     "metadata": {},
     "output_type": "execute_result"
    }
   ],
   "source": [
    "#length og list\n",
    "list=[323,4323,56,32335,66879,89,12,33]\n",
    "c=0\n",
    "for i in list:\n",
    "    c=c+1\n",
    "c"
   ]
  },
  {
   "cell_type": "code",
   "execution_count": 11,
   "id": "cfbee03b",
   "metadata": {},
   "outputs": [
    {
     "data": {
      "text/plain": [
       "[1, 2, 4, 5, 7, 4, 6, 100]"
      ]
     },
     "execution_count": 11,
     "metadata": {},
     "output_type": "execute_result"
    }
   ],
   "source": [
    "#add item in list\n",
    "\n",
    "def additem(l,item):\n",
    "    l+=[item]\n",
    "list=[1,2,4,5,7,4,6]\n",
    "additem(list,100)\n",
    "list"
   ]
  },
  {
   "cell_type": "code",
   "execution_count": 12,
   "id": "e0a51311",
   "metadata": {},
   "outputs": [
    {
     "name": "stdout",
     "output_type": "stream",
     "text": [
      "[1, 2, 4, 5]\n"
     ]
    }
   ],
   "source": [
    "#remove item from list\n",
    "my_list = [1, 2, 3, 4, 5]\n",
    "item_to_remove = 3\n",
    "my_list = [i for i in my_list if i != item_to_remove]\n",
    "\n",
    "print(my_list) # output: [1, 2, 4, 5]\n"
   ]
  },
  {
   "cell_type": "code",
   "execution_count": 18,
   "id": "b8b9ce16",
   "metadata": {},
   "outputs": [
    {
     "name": "stdout",
     "output_type": "stream",
     "text": [
      "5\n"
     ]
    }
   ],
   "source": [
    "#Python program to check if the list contains three consecutive common numbers in Python\n",
    "arr=[4,5,5,5,3,8]\n",
    "size=len(arr)\n",
    "for i in range(size-2):\n",
    "    if arr[i]==arr[i+1] and arr[i + 1] == arr[i + 2]:\n",
    "        print(arr[i])"
   ]
  },
  {
   "cell_type": "code",
   "execution_count": 24,
   "id": "d4a4cd31",
   "metadata": {},
   "outputs": [
    {
     "data": {
      "text/plain": [
       "120"
      ]
     },
     "execution_count": 24,
     "metadata": {},
     "output_type": "execute_result"
    }
   ],
   "source": [
    "# factorial number\n",
    "\n",
    "def fact(n):\n",
    "    if n==1:\n",
    "        return n\n",
    "    else:\n",
    "        return n*fact(n-1)\n",
    "fact(5)"
   ]
  },
  {
   "cell_type": "code",
   "execution_count": 25,
   "id": "f4328086",
   "metadata": {},
   "outputs": [
    {
     "name": "stdout",
     "output_type": "stream",
     "text": [
      "[3, 4, 6, 5]\n"
     ]
    }
   ],
   "source": [
    "# #Remove all the occurrences of an element from a list in Python\n",
    "l=[1, 3, 4, 6, 5, 1]\n",
    "ele=1\n",
    "x=[i for i in l if ele!=i]\n",
    "print (x)"
   ]
  },
  {
   "cell_type": "code",
   "execution_count": 30,
   "id": "54e3cf24",
   "metadata": {},
   "outputs": [
    {
     "data": {
      "text/plain": [
       "[1, 1, 2, 3, 4, 678, 6, 2, 1, 2]"
      ]
     },
     "execution_count": 30,
     "metadata": {},
     "output_type": "execute_result"
    }
   ],
   "source": [
    "\n"
   ]
  },
  {
   "cell_type": "code",
   "execution_count": 31,
   "id": "6cb1bef3",
   "metadata": {},
   "outputs": [],
   "source": [
    "def even_numbers(n):\n",
    "    i = 0\n",
    "    while i < n:\n",
    "        yield i * 2\n",
    "        i += 1\n"
   ]
  },
  {
   "cell_type": "code",
   "execution_count": 32,
   "id": "788e4229",
   "metadata": {},
   "outputs": [
    {
     "name": "stdout",
     "output_type": "stream",
     "text": [
      "0\n",
      "2\n",
      "4\n",
      "6\n",
      "8\n"
     ]
    }
   ],
   "source": [
    "my_generator = even_numbers(5)\n",
    "for num in my_generator:\n",
    "    print(num)"
   ]
  },
  {
   "cell_type": "code",
   "execution_count": 33,
   "id": "c94e23c6",
   "metadata": {},
   "outputs": [
    {
     "name": "stdout",
     "output_type": "stream",
     "text": [
      "List after empty list removal : [5, 6, 3, 9]\n"
     ]
    }
   ],
   "source": [
    "# Python Code to Remove empty List from List\n",
    "def empty_list_remove(input_list):\n",
    "    new_list = []\n",
    "    for ele in input_list:\n",
    "        if ele:\n",
    "            new_list.append(ele)\n",
    "    return new_list\n",
    "# input list values\n",
    "input_list = [5, 6, [], 3, [], [], 9]\n",
    "print (f\"List after empty list removal : {empty_list_remove(input_list)}\")"
   ]
  },
  {
   "cell_type": "code",
   "execution_count": 35,
   "id": "e1301fbc",
   "metadata": {},
   "outputs": [
    {
     "data": {
      "text/plain": [
       "{'fruit': ['apple', 'banana'], 'veg': ['ladi', 'tometo']}"
      ]
     },
     "execution_count": 35,
     "metadata": {},
     "output_type": "execute_result"
    }
   ],
   "source": [
    "#key to value in dict\n",
    "d={'apple':'fruit','banana':'fruit','ladi':'veg','tometo':'veg'}\n",
    "d2={}\n",
    "for i in d:\n",
    "    if d[i] not in d2:\n",
    "        d2[d[i]]=[i]\n",
    "    else:\n",
    "        d2[d[i]].append(i)\n",
    "d2"
   ]
  },
  {
   "cell_type": "code",
   "execution_count": 40,
   "id": "49021868",
   "metadata": {},
   "outputs": [
    {
     "data": {
      "text/plain": [
       "{'fruit': 'banana', 'veg': 'tometo'}"
      ]
     },
     "execution_count": 40,
     "metadata": {},
     "output_type": "execute_result"
    }
   ],
   "source": [
    "d={'apple':'fruit','banana':'fruit','ladi':'veg','tometo':'veg'}\n",
    "\n",
    "d3={ j:i  for i ,j in d.items()}\n",
    "d3"
   ]
  },
  {
   "cell_type": "code",
   "execution_count": 55,
   "id": "51fe268a",
   "metadata": {},
   "outputs": [
    {
     "name": "stdout",
     "output_type": "stream",
     "text": [
      "1,2,3,5,7,"
     ]
    }
   ],
   "source": [
    "num=9\n",
    "for n in range(1,num):\n",
    "    for i in range(2,n):\n",
    "        if (n%i==0):\n",
    "            break\n",
    "    else:\n",
    "        print(n,end=',')\n"
   ]
  },
  {
   "cell_type": "code",
   "execution_count": 60,
   "id": "7a2c261d",
   "metadata": {},
   "outputs": [
    {
     "name": "stdout",
     "output_type": "stream",
     "text": [
      "1 \n",
      "2 3 \n",
      "4 5 6 \n",
      "7 8 9 10 \n"
     ]
    }
   ],
   "source": [
    "num=1\n",
    "row=4\n",
    "for i in range(0,row):\n",
    "    for j in range(0,i+1):\n",
    "        print(num,end=' ')\n",
    "        num=num+1\n",
    "    print()"
   ]
  },
  {
   "cell_type": "code",
   "execution_count": null,
   "id": "3a08a373",
   "metadata": {},
   "outputs": [],
   "source": []
  }
 ],
 "metadata": {
  "kernelspec": {
   "display_name": "Python 3",
   "language": "python",
   "name": "python3"
  },
  "language_info": {
   "codemirror_mode": {
    "name": "ipython",
    "version": 3
   },
   "file_extension": ".py",
   "mimetype": "text/x-python",
   "name": "python",
   "nbconvert_exporter": "python",
   "pygments_lexer": "ipython3",
   "version": "3.8.10"
  }
 },
 "nbformat": 4,
 "nbformat_minor": 5
}

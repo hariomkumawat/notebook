{
 "cells": [
  {
   "cell_type": "code",
   "execution_count": null,
   "metadata": {},
   "outputs": [],
   "source": [
    "# 1. Write a Python program to sum all the items in a list.\n",
    "\n",
    "def sum_list_items(lst):\n",
    "    total = 0\n",
    "    for item in lst:\n",
    "        total += item\n",
    "    return total\n",
    "\n",
    "# Example usage\n",
    "numbers = [1, 2, 3, 4, 5]\n",
    "result = sum_list_items(numbers)\n",
    "print(\"The sum of the list items is:\", result)\n"
   ]
  },
  {
   "cell_type": "code",
   "execution_count": null,
   "metadata": {},
   "outputs": [],
   "source": [
    "# 2. Write a Python program to multiply all the items in a list.\n",
    "\n",
    "def multiply_list_items(lst):\n",
    "    result = 1\n",
    "    for item in lst:\n",
    "        result *= item\n",
    "    return result\n",
    "\n",
    "# Example usage\n",
    "numbers = [1, 2, 3, 4, 5]\n",
    "result = multiply_list_items(numbers)\n",
    "print(\"The product of the list items is:\", result)\n"
   ]
  },
  {
   "cell_type": "code",
   "execution_count": null,
   "metadata": {},
   "outputs": [],
   "source": [
    "#3. Write a Python program to get the largest number from a list.\n",
    "\n",
    "def largest(lst):\n",
    "    num=lst[0]\n",
    "    for i in lst:\n",
    "        if i>num:\n",
    "            num=i\n",
    "    return num\n",
    "lst=[12,3,54,6,32,34,67]\n",
    "print(largest(lst))"
   ]
  },
  {
   "cell_type": "code",
   "execution_count": null,
   "metadata": {},
   "outputs": [],
   "source": [
    "#4. Write a Python program to get the smallest number from a list.\n",
    "\n",
    "def smallest(lst):\n",
    "    num=lst[0]\n",
    "    for i in lst:\n",
    "        if i<num:\n",
    "            num=i\n",
    "    return num\n",
    "lst=[12,3,54,6,32,34,67]\n",
    "print(smallest(lst))"
   ]
  },
  {
   "cell_type": "code",
   "execution_count": null,
   "metadata": {},
   "outputs": [],
   "source": [
    "#5. Write a Python program to count the number of strings from a given list of strings. The string length is 2 or more and the first and last characters are the same.\n",
    "# Sample List : ['abc', 'xyz', 'aba', '1221']\n",
    "# Expected Result : 2\n",
    "\n",
    "def count_the_number_of_strings(str):\n",
    "    co=0\n",
    "    for i in str:\n",
    "        if i[0]==i[-1]:\n",
    "            co+=1\n",
    "    return co\n",
    "str=['abc', 'xyz', 'aba', '1221']\n",
    "print(count_the_number_of_strings(str))"
   ]
  },
  {
   "cell_type": "code",
   "execution_count": 1,
   "metadata": {},
   "outputs": [
    {
     "name": "stdout",
     "output_type": "stream",
     "text": [
      "The sorted list of tuples is: [(2, 1), (1, 2), (2, 3), (4, 4), (2, 5)]\n"
     ]
    }
   ],
   "source": [
    "# 6. Write a Python program to get a list, sorted in increasing order by the last element in each tuple from a given list of non-empty tuples.\n",
    "# Sample List : [(2, 5), (1, 2), (4, 4), (2, 3), (2, 1)]\n",
    "# Expected Result : [(2, 1), (1, 2), (2, 3), (4, 4), (2, 5)]\n",
    "\n",
    "def sort_tuples_by_last_element(lst):\n",
    "    sorted_list = sorted(lst, key=lambda x: x[-1])\n",
    "    return sorted_list\n",
    "\n",
    "# Example usage\n",
    "tuples = [(2, 5), (1, 2), (4, 4), (2, 3), (2, 1)]\n",
    "result = sort_tuples_by_last_element(tuples)\n",
    "print(\"The sorted list of tuples is:\", result)\n"
   ]
  },
  {
   "cell_type": "code",
   "execution_count": 3,
   "metadata": {},
   "outputs": [
    {
     "name": "stdout",
     "output_type": "stream",
     "text": [
      "The sorted list of tuples is: [(2, 1), (1, 2), (2, 3), (4, 4), (2, 5)]\n"
     ]
    }
   ],
   "source": [
    "def sort_tuples_by_last_element(lst):\n",
    "    n = len(lst)\n",
    "    for i in range(n):\n",
    "        for j in range(0, n-i-1):\n",
    "            if lst[j][-1] > lst[j+1][-1]:\n",
    "                lst[j], lst[j+1] = lst[j+1], lst[j]\n",
    "    return lst\n",
    "\n",
    "# Example usage\n",
    "tuples = [(2, 5), (1, 2), (4, 4), (2, 3), (2, 1)]\n",
    "result = sort_tuples_by_last_element(tuples)\n",
    "print(\"The sorted list of tuples is:\", result)\n"
   ]
  },
  {
   "cell_type": "code",
   "execution_count": 2,
   "metadata": {},
   "outputs": [
    {
     "data": {
      "text/plain": [
       "[1, 2, 3, 4, 5, 7]"
      ]
     },
     "execution_count": 2,
     "metadata": {},
     "output_type": "execute_result"
    }
   ],
   "source": [
    "#7. Write a Python program to remove duplicates from a list.\n",
    "\n",
    "l=[1,2,3,4,2,3,1,4,3,5,4,5,7]\n",
    "l1=[]\n",
    "for i in l:\n",
    "    if i not in l1:\n",
    "        l1.append(i)\n",
    "\n",
    "l1"
   ]
  },
  {
   "cell_type": "code",
   "execution_count": null,
   "metadata": {},
   "outputs": [],
   "source": [
    "#8. Write a Python program to check if a list is empty or not.\n",
    "\n",
    "l1=[1,2]\n",
    "if not l1:\n",
    "    print('empty')\n",
    "else :\n",
    "    print('not empty')"
   ]
  },
  {
   "cell_type": "code",
   "execution_count": 4,
   "metadata": {},
   "outputs": [
    {
     "name": "stdout",
     "output_type": "stream",
     "text": [
      "The list is empty.\n",
      "The list is not empty.\n"
     ]
    }
   ],
   "source": [
    "def is_list_empty(lst):\n",
    "    if len(lst) == 0:\n",
    "        return True\n",
    "    else:\n",
    "        return False\n",
    "\n",
    "# Example usage\n",
    "empty_list = []\n",
    "non_empty_list = [1, 2, 3]\n",
    "\n",
    "if is_list_empty(empty_list):\n",
    "    print(\"The list is empty.\")\n",
    "else:\n",
    "    print(\"The list is not empty.\")\n",
    "\n",
    "if is_list_empty(non_empty_list):\n",
    "    print(\"The list is empty.\")\n",
    "else:\n",
    "    print(\"The list is not empty.\")\n"
   ]
  },
  {
   "cell_type": "code",
   "execution_count": null,
   "metadata": {},
   "outputs": [],
   "source": [
    "#9. Write a Python program to clone or copy a list.\n",
    "l=[2,3,4,6,3,2,5,2,5,23]\n",
    "l1=[]\n",
    "l1=l.copy()\n",
    "# l1=l\n",
    "l1"
   ]
  },
  {
   "cell_type": "code",
   "execution_count": 5,
   "metadata": {},
   "outputs": [
    {
     "name": "stdout",
     "output_type": "stream",
     "text": [
      "Words longer than 5 characters: ['banana', 'orange', 'watermelon']\n"
     ]
    }
   ],
   "source": [
    "# 10. Write a Python program to find the list of words that are longer than n from a given list of words.\n",
    "def find_long_words(word_list, n):\n",
    "    long_words = []\n",
    "    for word in word_list:\n",
    "        if len(word) > n:\n",
    "            long_words.append(word)\n",
    "    return long_words\n",
    "\n",
    "# Example usage\n",
    "words = ['apple', 'banana', 'orange', 'grape', 'watermelon']\n",
    "length = 5\n",
    "\n",
    "result = find_long_words(words, length)\n",
    "print(\"Words longer than\", length, \"characters:\", result)\n"
   ]
  },
  {
   "cell_type": "code",
   "execution_count": 6,
   "metadata": {},
   "outputs": [
    {
     "name": "stdout",
     "output_type": "stream",
     "text": [
      "False\n",
      "True\n"
     ]
    }
   ],
   "source": [
    "#11. Write a Python function that takes two lists and returns True if they have at least one common member.\n",
    "\n",
    "\n",
    "def has_common_member(list1, list2):\n",
    "    for item in list1:\n",
    "        if item in list2:\n",
    "            return True\n",
    "    return False\n",
    "\n",
    "# Example usage\n",
    "listA = [1, 2, 3, 4, 5]\n",
    "listB = [6, 7, 8, 9, 10]\n",
    "listC = [4, 5, 6, 7, 8]\n",
    "\n",
    "print(has_common_member(listA, listB))  # False\n",
    "print(has_common_member(listA, listC))  # True\n",
    "\n"
   ]
  },
  {
   "cell_type": "code",
   "execution_count": 8,
   "metadata": {},
   "outputs": [
    {
     "name": "stdout",
     "output_type": "stream",
     "text": [
      "Modified list: ['Green', 'White', 'Black']\n"
     ]
    }
   ],
   "source": [
    "# 12. Write a Python program to print a specified list after removing the 0th, 4th and 5th elements.\n",
    "# Sample List : ['Red', 'Green', 'White', 'Black', 'Pink', 'Yellow']\n",
    "# Expected Output : ['Green', 'White', 'Black']\n",
    "def remove_elements(lst, indices):\n",
    "    result = []\n",
    "    for i in range(len(lst)):\n",
    "        if i not in indices:\n",
    "            result.append(lst[i])\n",
    "    return result\n",
    "\n",
    "# Example usage\n",
    "sample_list = ['Red', 'Green', 'White', 'Black', 'Pink', 'Yellow']\n",
    "indices_to_remove = [0, 4, 5]\n",
    "\n",
    "output = remove_elements(sample_list, indices_to_remove)\n",
    "print(\"Modified list:\", output)"
   ]
  },
  {
   "cell_type": "code",
   "execution_count": 9,
   "metadata": {},
   "outputs": [
    {
     "name": "stdout",
     "output_type": "stream",
     "text": [
      "* * * * * * \n",
      "* * * * * * \n",
      "* * * * * * \n",
      "* * * * * * \n",
      "\n",
      "* * * * * * \n",
      "* * * * * * \n",
      "* * * * * * \n",
      "* * * * * * \n",
      "\n",
      "* * * * * * \n",
      "* * * * * * \n",
      "* * * * * * \n",
      "* * * * * * \n",
      "\n"
     ]
    }
   ],
   "source": [
    "#13. Write a Python program to generate a 3*4*6 3D array whose each element is *.\n",
    "array_3d = [[[ '*' for _ in range(6)] for _ in range(4)] for _ in range(3)]\n",
    "\n",
    "# Print the 3D array\n",
    "for i in range(3):\n",
    "    for j in range(4):\n",
    "        for k in range(6):\n",
    "            print(array_3d[i][j][k], end=' ')\n",
    "        print()\n",
    "    print()\n",
    "\n"
   ]
  },
  {
   "cell_type": "code",
   "execution_count": 11,
   "metadata": {},
   "outputs": [
    {
     "name": "stdout",
     "output_type": "stream",
     "text": [
      "Numbers after removing even numbers: [1, 3, 5, 7, 9]\n"
     ]
    }
   ],
   "source": [
    "#14. Write a Python program to print the numbers of a specified list after removing even numbers from it.\n",
    "def remove_even_numbers(lst):\n",
    "    result = []\n",
    "    for num in lst:\n",
    "        if num % 2 != 0:\n",
    "            result.append(num)\n",
    "    return result\n",
    "\n",
    "# Example usage\n",
    "numbers = [1, 2, 3, 4, 5, 6, 7, 8, 9, 10]\n",
    "\n",
    "output = remove_even_numbers(numbers)\n",
    "print(\"Numbers after removing even numbers:\", output)\n",
    "\n"
   ]
  },
  {
   "cell_type": "code",
   "execution_count": 12,
   "metadata": {},
   "outputs": [
    {
     "name": "stdout",
     "output_type": "stream",
     "text": [
      "Shuffled list: [2, 3, 1, 5, 4]\n"
     ]
    }
   ],
   "source": [
    "#15. Write a Python program to shuffle and print a specified list.\n",
    "import random\n",
    "\n",
    "def shuffle_list(lst):\n",
    "    random.shuffle(lst)\n",
    "    return lst\n",
    "\n",
    "# Example usage\n",
    "my_list = [1, 2, 3, 4, 5]\n",
    "\n",
    "shuffled_list = shuffle_list(my_list)\n",
    "print(\"Shuffled list:\", shuffled_list)\n"
   ]
  },
  {
   "cell_type": "code",
   "execution_count": 13,
   "metadata": {},
   "outputs": [
    {
     "name": "stdout",
     "output_type": "stream",
     "text": [
      "List of the first and last 5 square numbers between 1 and 30:\n",
      "[1, 4, 9, 16, 25, 1, 4, 9, 16, 25]\n"
     ]
    }
   ],
   "source": [
    "# 16. Write a Python program to generate and print a list of the first and last 5 elements where the values are square numbers between 1 and 30 (both included).\n",
    "\n",
    "def generate_square_list():\n",
    "    square_list = []\n",
    "    for num in range(1, 31):\n",
    "        if num**0.5 == int(num**0.5):\n",
    "            square_list.append(num)\n",
    "    return square_list[:5] + square_list[-5:]\n",
    "\n",
    "# Example usage\n",
    "result_list = generate_square_list()\n",
    "print(\"List of the first and last 5 square numbers between 1 and 30:\")\n",
    "print(result_list)\n"
   ]
  },
  {
   "cell_type": "code",
   "execution_count": 18,
   "metadata": {},
   "outputs": [
    {
     "data": {
      "text/plain": [
       "2.0"
      ]
     },
     "execution_count": 18,
     "metadata": {},
     "output_type": "execute_result"
    }
   ],
   "source": [
    "# 17. Write a Python program to check if each number is prime in a given list of numbers. Return True if all numbers are prime otherwise False.\n",
    "# Sample Data:\n",
    "# ([0, 3, 4, 7, 9]) -> False\n",
    "# ([3, 5, 7, 13]) -> True\n",
    "# ([1, 5, 3]) -> False\n",
    "\n",
    "def is_prime(n):\n",
    "    if n <= 1:\n",
    "        return False\n",
    "    for i in range(2, int(n**0.5) + 1):\n",
    "        if n % i == 0:\n",
    "            return False\n",
    "    return True\n",
    "\n",
    "def check_prime_numbers(numbers):\n",
    "    for num in numbers:\n",
    "        if not is_prime(num):\n",
    "            return False\n",
    "    return True\n",
    "\n",
    "# Example usage\n",
    "sample_data = [0, 3, 4, 7, 9]\n",
    "result = check_prime_numbers(sample_data)\n",
    "print(result)\n"
   ]
  },
  {
   "cell_type": "code",
   "execution_count": 19,
   "metadata": {},
   "outputs": [
    {
     "name": "stdout",
     "output_type": "stream",
     "text": [
      "Permutations of the list: [[1, 2, 3], [1, 3, 2], [2, 1, 3], [2, 3, 1], [3, 1, 2], [3, 2, 1]]\n"
     ]
    }
   ],
   "source": [
    "# 18. Write a Python program to generate all permutations of a list in Python.\n",
    "def permutations(lst):\n",
    "    if len(lst) == 0:\n",
    "        return [[]]\n",
    "    else:\n",
    "        result = []\n",
    "        for i in range(len(lst)):\n",
    "            rest = lst[:i] + lst[i+1:]\n",
    "            for p in permutations(rest):\n",
    "                result.append([lst[i]] + p)\n",
    "        return result\n",
    "\n",
    "# Example usage\n",
    "my_list = [1, 2, 3]\n",
    "permutations_list = permutations(my_list)\n",
    "print(\"Permutations of the list:\", permutations_list)\n",
    "\n"
   ]
  },
  {
   "cell_type": "code",
   "execution_count": 20,
   "metadata": {},
   "outputs": [
    {
     "name": "stdout",
     "output_type": "stream",
     "text": [
      "Difference between the two lists: [1, 2]\n"
     ]
    }
   ],
   "source": [
    "# 19. Write a Python program to calculate the difference between the two lists.\n",
    "def list_difference(list1, list2):\n",
    "    set1 = set(list1)\n",
    "    set2 = set(list2)\n",
    "    difference = set1 - set2\n",
    "    return list(difference)\n",
    "\n",
    "# Example usage\n",
    "list1 = [1, 2, 3, 4, 5]\n",
    "list2 = [3, 4, 5, 6, 7]\n",
    "difference_list = list_difference(list1, list2)\n",
    "print(\"Difference between the two lists:\", difference_list)\n"
   ]
  },
  {
   "cell_type": "code",
   "execution_count": 21,
   "metadata": {},
   "outputs": [
    {
     "name": "stdout",
     "output_type": "stream",
     "text": [
      "Index: 0  Element: 10\n",
      "Index: 1  Element: 20\n",
      "Index: 2  Element: 30\n",
      "Index: 3  Element: 40\n",
      "Index: 4  Element: 50\n"
     ]
    }
   ],
   "source": [
    "#20. Write a Python program to access the index of a list.\n",
    "\n",
    "\n",
    "def access_list_index(lst):\n",
    "    for index, element in enumerate(lst):\n",
    "        print(\"Index:\", index, \" Element:\", element)\n",
    "\n",
    "# Example usage\n",
    "my_list = [10, 20, 30, 40, 50]\n",
    "access_list_index(my_list)\n"
   ]
  },
  {
   "cell_type": "code",
   "execution_count": 22,
   "metadata": {},
   "outputs": [
    {
     "name": "stdout",
     "output_type": "stream",
     "text": [
      "String representation: Hello\n"
     ]
    }
   ],
   "source": [
    "# 21. Write a Python program to convert a list of characters into a string.\n",
    "def list_to_string(char_list):\n",
    "    string = ''.join(char_list)\n",
    "    return string\n",
    "\n",
    "# Example usage\n",
    "characters = ['H', 'e', 'l', 'l', 'o']\n",
    "result_string = list_to_string(characters)\n",
    "print(\"String representation:\", result_string)\n"
   ]
  },
  {
   "cell_type": "code",
   "execution_count": 1,
   "metadata": {},
   "outputs": [
    {
     "name": "stdout",
     "output_type": "stream",
     "text": [
      "Index of 30 in the list: 2\n"
     ]
    }
   ],
   "source": [
    "# 22. Write a Python program to find the index of an item in a specified list.\n",
    "def find_index(lst, item):\n",
    "    for index, element in enumerate(lst):\n",
    "        if element == item:\n",
    "            return index\n",
    "    return -1\n",
    "\n",
    "# Example usage\n",
    "my_list = [10, 20, 30, 40, 50]\n",
    "search_item = 30\n",
    "result_index = find_index(my_list, search_item)\n",
    "if result_index != -1:\n",
    "    print(\"Index of\", search_item, \"in the list:\", result_index)\n",
    "else:\n",
    "    print(search_item, \"not found in the list.\")\n"
   ]
  },
  {
   "cell_type": "code",
   "execution_count": 2,
   "metadata": {},
   "outputs": [
    {
     "name": "stdout",
     "output_type": "stream",
     "text": [
      "Flattened list: [1, 2, 3, 4, 5, 6, 7, 8]\n"
     ]
    }
   ],
   "source": [
    "# 23. Write a Python program to flatten a shallow list.\n",
    "def flatten_list(shallow_list):\n",
    "    flattened_list = []\n",
    "    for sublist in shallow_list:\n",
    "        if isinstance(sublist, list):\n",
    "            flattened_list.extend(sublist)\n",
    "        else:\n",
    "            flattened_list.append(sublist)\n",
    "    return flattened_list\n",
    "\n",
    "# Example usage\n",
    "shallow_list = [1, 2, [3, 4], 5, [6, 7, 8]]\n",
    "flattened_list = flatten_list(shallow_list)\n",
    "print(\"Flattened list:\", flattened_list)\n"
   ]
  },
  {
   "cell_type": "code",
   "execution_count": 3,
   "metadata": {},
   "outputs": [
    {
     "name": "stdout",
     "output_type": "stream",
     "text": [
      "Appended list: [1, 2, 3, 4, 5, 6]\n"
     ]
    }
   ],
   "source": [
    "# 24. Write a Python program to append a list to the second list.\n",
    "def append_lists(list1, list2):\n",
    "    list1.extend(list2)\n",
    "    return list1\n",
    "\n",
    "# Example usage\n",
    "first_list = [1, 2, 3]\n",
    "second_list = [4, 5, 6]\n",
    "result_list = append_lists(first_list, second_list)\n",
    "print(\"Appended list:\", result_list)\n"
   ]
  },
  {
   "cell_type": "code",
   "execution_count": 4,
   "metadata": {},
   "outputs": [
    {
     "name": "stdout",
     "output_type": "stream",
     "text": [
      "Randomly selected item: 3\n"
     ]
    }
   ],
   "source": [
    "#25. Write a Python program to select an item randomly from a list.\n",
    "import random\n",
    "\n",
    "def select_random_item(lst):\n",
    "    random_item = random.choice(lst)\n",
    "    return random_item\n",
    "\n",
    "# Example usage\n",
    "my_list = [1, 2, 3, 4, 5]\n",
    "random_item = select_random_item(my_list)\n",
    "print(\"Randomly selected item:\", random_item)\n"
   ]
  },
  {
   "cell_type": "code",
   "execution_count": 5,
   "metadata": {},
   "outputs": [
    {
     "name": "stdout",
     "output_type": "stream",
     "text": [
      "List 1 and List 2 are circularly identical: True\n",
      "List 1 and List 3 are circularly identical: True\n",
      "List 1 and List 4 are circularly identical: False\n"
     ]
    }
   ],
   "source": [
    "#26. Write a Python program to check whether two lists are circularly identical.\n",
    "\n",
    "def are_lists_circularly_identical(list1, list2):\n",
    "    if len(list1) != len(list2):\n",
    "        return False\n",
    "\n",
    "    concatenated_list = list1 + list1\n",
    "\n",
    "    if all(element in concatenated_list for element in list2):\n",
    "        return True\n",
    "\n",
    "    return False\n",
    "\n",
    "# Example usage\n",
    "first_list = [1, 2, 3, 4, 5]\n",
    "second_list = [3, 4, 5, 1, 2]\n",
    "third_list = [5, 4, 3, 2, 1]\n",
    "fourth_list = [1, 2, 3, 6, 7]\n",
    "\n",
    "print(\"List 1 and List 2 are circularly identical:\", are_lists_circularly_identical(first_list, second_list))\n",
    "print(\"List 1 and List 3 are circularly identical:\", are_lists_circularly_identical(first_list, third_list))\n",
    "print(\"List 1 and List 4 are circularly identical:\", are_lists_circularly_identical(first_list, fourth_list))\n"
   ]
  },
  {
   "cell_type": "code",
   "execution_count": 6,
   "metadata": {},
   "outputs": [
    {
     "name": "stdout",
     "output_type": "stream",
     "text": [
      "The second smallest number is: 2\n"
     ]
    }
   ],
   "source": [
    "#27. Write a Python program to find the second smallest number in a list.\n",
    "def find_second_smallest(numbers):\n",
    "    if len(numbers) < 2:\n",
    "        return None\n",
    "\n",
    "    smallest = float('inf')\n",
    "    second_smallest = float('inf')\n",
    "\n",
    "    for num in numbers:\n",
    "        if num < smallest:\n",
    "            second_smallest = smallest\n",
    "            smallest = num\n",
    "        elif num < second_smallest and num != smallest:\n",
    "            second_smallest = num\n",
    "\n",
    "    if second_smallest == float('inf'):\n",
    "        return None\n",
    "\n",
    "    return second_smallest\n",
    "\n",
    "# Example usage\n",
    "my_list = [5, 2, 7, 1, 8, 3]\n",
    "result = find_second_smallest(my_list)\n",
    "if result is not None:\n",
    "    print(\"The second smallest number is:\", result)\n",
    "else:\n",
    "    print(\"There is no second smallest number in the list.\")\n"
   ]
  },
  {
   "cell_type": "code",
   "execution_count": 7,
   "metadata": {},
   "outputs": [
    {
     "name": "stdout",
     "output_type": "stream",
     "text": [
      "The second largest number is: 7\n"
     ]
    }
   ],
   "source": [
    "#28. Write a Python program to find the second largest number in a list.\n",
    "def find_second_largest(numbers):\n",
    "    if len(numbers) < 2:\n",
    "        return None\n",
    "\n",
    "    largest = float('-inf')\n",
    "    second_largest = float('-inf')\n",
    "\n",
    "    for num in numbers:\n",
    "        if num > largest:\n",
    "            second_largest = largest\n",
    "            largest = num\n",
    "        elif num > second_largest and num != largest:\n",
    "            second_largest = num\n",
    "\n",
    "    if second_largest == float('-inf'):\n",
    "        return None\n",
    "\n",
    "    return second_largest\n",
    "\n",
    "# Example usage\n",
    "my_list = [5, 2, 7, 1, 8, 3]\n",
    "result = find_second_largest(my_list)\n",
    "if result is not None:\n",
    "    print(\"The second largest number is:\", result)\n",
    "else:\n",
    "    print(\"There is no second largest number in the list.\")\n"
   ]
  },
  {
   "cell_type": "code",
   "execution_count": 8,
   "metadata": {},
   "outputs": [
    {
     "name": "stdout",
     "output_type": "stream",
     "text": [
      "Unique values: [1, 2, 3, 4, 5]\n"
     ]
    }
   ],
   "source": [
    "#29. Write a Python program to get unique values from a list.\n",
    "\n",
    "\n",
    "def get_unique_values(lst):\n",
    "    unique_values = []\n",
    "    for item in lst:\n",
    "        if item not in unique_values:\n",
    "            unique_values.append(item)\n",
    "    return unique_values\n",
    "\n",
    "# Example usage\n",
    "my_list = [1, 2, 3, 2, 4, 3, 5, 1]\n",
    "unique_values = get_unique_values(my_list)\n",
    "print(\"Unique values:\", unique_values)\n"
   ]
  },
  {
   "cell_type": "code",
   "execution_count": 9,
   "metadata": {},
   "outputs": [
    {
     "name": "stdout",
     "output_type": "stream",
     "text": [
      "Frequency of elements: {1: 2, 2: 2, 3: 2, 4: 1, 5: 1}\n"
     ]
    }
   ],
   "source": [
    "# 30. Write a Python program to get the frequency of elements in a list.\n",
    "def get_frequency(lst):\n",
    "    frequency = {}\n",
    "    for item in lst:\n",
    "        if item in frequency:\n",
    "            frequency[item] += 1\n",
    "        else:\n",
    "            frequency[item] = 1\n",
    "    return frequency\n",
    "\n",
    "# Example usage\n",
    "my_list = [1, 2, 3, 2, 4, 3, 5, 1]\n",
    "frequency = get_frequency(my_list)\n",
    "print(\"Frequency of elements:\", frequency)\n"
   ]
  },
  {
   "cell_type": "code",
   "execution_count": 10,
   "metadata": {},
   "outputs": [
    {
     "name": "stdout",
     "output_type": "stream",
     "text": [
      "Number of elements in range: 5\n"
     ]
    }
   ],
   "source": [
    "#31. Write a Python program to count the number of elements in a list within a specified range.\n",
    "def count_elements_in_range(lst, start, end):\n",
    "    count = 0\n",
    "    for item in lst:\n",
    "        if start <= item <= end:\n",
    "            count += 1\n",
    "    return count\n",
    "\n",
    "# Example usage\n",
    "my_list = [1, 2, 3, 4, 5, 6, 7, 8, 9]\n",
    "start_range = 3\n",
    "end_range = 7\n",
    "count = count_elements_in_range(my_list, start_range, end_range)\n",
    "print(\"Number of elements in range:\", count)\n"
   ]
  },
  {
   "cell_type": "code",
   "execution_count": 11,
   "metadata": {},
   "outputs": [
    {
     "name": "stdout",
     "output_type": "stream",
     "text": [
      "The list contains the sublist.\n"
     ]
    }
   ],
   "source": [
    "#32. Write a Python program to check whether a list contains a sublist.\n",
    "\n",
    "def contains_sublist(main_list, sublist):\n",
    "    if not sublist:\n",
    "        return True\n",
    "\n",
    "    for i in range(len(main_list)):\n",
    "        if main_list[i:i+len(sublist)] == sublist:\n",
    "            return True\n",
    "\n",
    "    return False\n",
    "\n",
    "# Example usage\n",
    "my_list = [1, 2, 3, 4, 5, 6, 7, 8, 9]\n",
    "sub_list = [3, 4, 5]\n",
    "result = contains_sublist(my_list, sub_list)\n",
    "if result:\n",
    "    print(\"The list contains the sublist.\")\n",
    "else:\n",
    "    print(\"The list does not contain the sublist.\")\n"
   ]
  },
  {
   "cell_type": "code",
   "execution_count": 12,
   "metadata": {},
   "outputs": [
    {
     "name": "stdout",
     "output_type": "stream",
     "text": [
      "Sublists: [[1], [1, 2], [1, 2, 3], [2], [2, 3], [3]]\n"
     ]
    }
   ],
   "source": [
    "#33. Write a Python program to generate all sublists of a list.\n",
    "def generate_sublists(lst):\n",
    "    sublists = []\n",
    "    n = len(lst)\n",
    "    for i in range(n):\n",
    "        for j in range(i+1, n+1):\n",
    "            sublists.append(lst[i:j])\n",
    "    return sublists\n",
    "\n",
    "# Example usage\n",
    "my_list = [1, 2, 3]\n",
    "sublists = generate_sublists(my_list)\n",
    "print(\"Sublists:\", sublists)\n"
   ]
  },
  {
   "cell_type": "code",
   "execution_count": 13,
   "metadata": {},
   "outputs": [
    {
     "name": "stdout",
     "output_type": "stream",
     "text": [
      "Prime numbers up to 30 are: [2, 3, 5, 7, 11, 13, 17, 19, 23, 29]\n"
     ]
    }
   ],
   "source": [
    "# 34. Write a Python program that uses the Sieve of Eratosthenes method to compute prime numbers up to a specified number.\n",
    "# Note: In mathematics, the sieve of Eratosthenes, (Ancient Greek: κόσκινον Ἐρατοσθένους, kóskinon Eratosthénous) one of a number of prime number sieves, is a simple, ancient algorithm for finding all prime numbers up to any given limit.\n",
    "# # \n",
    "\n",
    "def sieve_of_eratosthenes(n):\n",
    "    # Create a boolean array \"is_prime[0..n]\" and initialize all entries as true\n",
    "    is_prime = [True] * (n+1)\n",
    "    is_prime[0] = is_prime[1] = False  # 0 and 1 are not prime\n",
    "\n",
    "    # Iterate from 2 to sqrt(n)\n",
    "    p = 2\n",
    "    while p**2 <= n:\n",
    "        # If is_prime[p] is not changed, then it is a prime number\n",
    "        if is_prime[p] == True:\n",
    "            # Update all multiples of p\n",
    "            for i in range(p**2, n+1, p):\n",
    "                is_prime[i] = False\n",
    "        p += 1\n",
    "\n",
    "    # Generate the list of prime numbers\n",
    "    primes = []\n",
    "    for i in range(2, n+1):\n",
    "        if is_prime[i]:\n",
    "            primes.append(i)\n",
    "\n",
    "    return primes\n",
    "\n",
    "# Example usage\n",
    "limit = 30\n",
    "prime_numbers = sieve_of_eratosthenes(limit)\n",
    "print(\"Prime numbers up to\", limit, \"are:\", prime_numbers)\n"
   ]
  },
  {
   "cell_type": "code",
   "execution_count": 14,
   "metadata": {},
   "outputs": [
    {
     "name": "stdout",
     "output_type": "stream",
     "text": [
      "Output: ['p1', 'q1', 'p2', 'q2', 'p3', 'q3', 'p4', 'q4', 'p5', 'q5']\n"
     ]
    }
   ],
   "source": [
    "# 35. Write a Python program to create a list by concatenating a given list with a range from 1 to n.\n",
    "# Sample list : ['p', 'q']\n",
    "# n =5\n",
    "# Sample Output : ['p1', 'q1', 'p2', 'q2', 'p3', 'q3', 'p4', 'q4', 'p5', 'q5']\n",
    "\n",
    "\n",
    "def concatenate_list_with_range(lst, n):\n",
    "    result = []\n",
    "    for i in range(1, n+1):\n",
    "        for item in lst:\n",
    "            result.append(item + str(i))\n",
    "    return result\n",
    "\n",
    "# Example usage\n",
    "my_list = ['p', 'q']\n",
    "n = 5\n",
    "output = concatenate_list_with_range(my_list, n)\n",
    "print(\"Output:\", output)\n"
   ]
  },
  {
   "cell_type": "code",
   "execution_count": 15,
   "metadata": {},
   "outputs": [
    {
     "name": "stdout",
     "output_type": "stream",
     "text": [
      "Identification Number: 12345\n",
      "Identification String: ABCDEF\n"
     ]
    }
   ],
   "source": [
    "#36. Write a Python program to get a variable with an identification number or string.\n",
    "\n",
    "identification_number = 12345\n",
    "identification_string = \"ABCDEF\"\n",
    "\n",
    "print(\"Identification Number:\", identification_number)\n",
    "print(\"Identification String:\", identification_string)\n"
   ]
  },
  {
   "cell_type": "code",
   "execution_count": 16,
   "metadata": {},
   "outputs": [
    {
     "name": "stdout",
     "output_type": "stream",
     "text": [
      "Common Items: [4, 5]\n"
     ]
    }
   ],
   "source": [
    "#37. Write a Python program to find common items in two lists.\n",
    "\n",
    "def find_common_items(list1, list2):\n",
    "    common_items = []\n",
    "    for item in list1:\n",
    "        if item in list2:\n",
    "            common_items.append(item)\n",
    "    return common_items\n",
    "\n",
    "# Example usage\n",
    "list1 = [1, 2, 3, 4, 5]\n",
    "list2 = [4, 5, 6, 7, 8]\n",
    "common_items = find_common_items(list1, list2)\n",
    "print(\"Common Items:\", common_items)\n"
   ]
  },
  {
   "cell_type": "code",
   "execution_count": 19,
   "metadata": {},
   "outputs": [
    {
     "name": "stdout",
     "output_type": "stream",
     "text": [
      "Output: [1, 0, 3, 2, 5, 4]\n"
     ]
    }
   ],
   "source": [
    "# 38. Write a Python program to change the position of every n-th value to the (n+1)th in a list.\n",
    "# Sample list: [0,1,2,3,4,5]\n",
    "# Expected Output: [1, 0, 3, 2, 5, 4]\n",
    "\n",
    "def change_position(lst):\n",
    "    for i in range(0, len(lst)-1, 2):\n",
    "        lst[i], lst[i+1] = lst[i+1], lst[i]\n",
    "    return lst\n",
    "\n",
    "# Example usage\n",
    "sample_list = [0, 1, 2, 3, 4, 5]\n",
    "output = change_position(sample_list)\n",
    "print(\"Output:\", output)\n"
   ]
  },
  {
   "cell_type": "code",
   "execution_count": 20,
   "metadata": {},
   "outputs": [
    {
     "name": "stdout",
     "output_type": "stream",
     "text": [
      "Output: 113350\n"
     ]
    }
   ],
   "source": [
    "# 39. Write a Python program to convert a list of multiple integers into a single integer.\n",
    "# Sample list: [11, 33, 50]\n",
    "# Expected Output: 113350\n",
    "\n",
    "def convert_to_single_integer(lst):\n",
    "    result = \"\"\n",
    "    for num in lst:\n",
    "        result += str(num)\n",
    "    return int(result)\n",
    "\n",
    "# Example usage\n",
    "sample_list = [11, 33, 50]\n",
    "output = convert_to_single_integer(sample_list)\n",
    "print(\"Output:\", output)\n"
   ]
  },
  {
   "cell_type": "code",
   "execution_count": 21,
   "metadata": {},
   "outputs": [
    {
     "name": "stdout",
     "output_type": "stream",
     "text": [
      "Output: {'a': ['apple', 'avocado'], 'b': ['banana', 'blueberry'], 'c': ['cherry']}\n"
     ]
    }
   ],
   "source": [
    "# 40. Write a Python program to split a list based on the first character of a word.\n",
    "def split_list_by_first_character(lst):\n",
    "    result = {}\n",
    "    for word in lst:\n",
    "        first_char = word[0]\n",
    "        if first_char in result:\n",
    "            result[first_char].append(word)\n",
    "        else:\n",
    "            result[first_char] = [word]\n",
    "    return result\n",
    "\n",
    "# Example usage\n",
    "sample_list = ['apple', 'banana', 'cherry', 'avocado', 'blueberry']\n",
    "output = split_list_by_first_character(sample_list)\n",
    "print(\"Output:\", output)\n"
   ]
  },
  {
   "cell_type": "code",
   "execution_count": 22,
   "metadata": {},
   "outputs": [
    {
     "name": "stdout",
     "output_type": "stream",
     "text": [
      "Output: [[], [], []]\n"
     ]
    }
   ],
   "source": [
    "#41. Write a Python program to create multiple lists.\n",
    "\n",
    "def create_multiple_lists(num_lists):\n",
    "    lists = []\n",
    "    for i in range(num_lists):\n",
    "        new_list = []\n",
    "        lists.append(new_list)\n",
    "    return lists\n",
    "\n",
    "# Example usage\n",
    "num_lists = 3\n",
    "output = create_multiple_lists(num_lists)\n",
    "print(\"Output:\", output)\n"
   ]
  },
  {
   "cell_type": "code",
   "execution_count": 23,
   "metadata": {},
   "outputs": [
    {
     "name": "stdout",
     "output_type": "stream",
     "text": [
      "Missing values in second list: []\n",
      "Additional values in second list: ['g', 'h']\n"
     ]
    }
   ],
   "source": [
    "# 42. Write a Python program to find missing and additional values in two lists.\n",
    "# Sample data : Missing values in second list: b,a,c\n",
    "# Additional values in second list: g,h\n",
    "\n",
    "def find_missing_and_additional_values(list1, list2):\n",
    "    missing_values = [val for val in list1 if val not in list2]\n",
    "    additional_values = [val for val in list2 if val not in list1]\n",
    "    return missing_values, additional_values\n",
    "\n",
    "# Example usage\n",
    "list1 = ['a', 'b', 'c']\n",
    "list2 = ['b', 'a', 'c', 'g', 'h']\n",
    "missing, additional = find_missing_and_additional_values(list1, list2)\n",
    "print(\"Missing values in second list:\", missing)\n",
    "print(\"Additional values in second list:\", additional)\n"
   ]
  },
  {
   "cell_type": "code",
   "execution_count": 24,
   "metadata": {},
   "outputs": [
    {
     "name": "stdout",
     "output_type": "stream",
     "text": [
      "Output: (1, 2, [3, 4, 5])\n"
     ]
    }
   ],
   "source": [
    "#43. Write a Python program to split a list into different variables.\n",
    "def split_list_into_variables(lst):\n",
    "    if len(lst) >= 3:\n",
    "        var1, var2, *var3 = lst\n",
    "        return var1, var2, var3\n",
    "    elif len(lst) == 2:\n",
    "        var1, var2 = lst\n",
    "        return var1, var2\n",
    "    elif len(lst) == 1:\n",
    "        return lst[0]\n",
    "    else:\n",
    "        return None\n",
    "\n",
    "# Example usage\n",
    "sample_list = [1, 2, 3, 4, 5]\n",
    "output = split_list_into_variables(sample_list)\n",
    "print(\"Output:\", output)\n"
   ]
  },
  {
   "cell_type": "code",
   "execution_count": 26,
   "metadata": {},
   "outputs": [
    {
     "name": "stdout",
     "output_type": "stream",
     "text": [
      "Output: [[1, 2, 3, 4, 5], [6, 7, 8, 9, 10], [11, 12, 13, 14, 15], [16, 17, 18, 19, 20]]\n"
     ]
    }
   ],
   "source": [
    "#44. Write a Python program to generate groups of five consecutive numbers in a list.\n",
    "def generate_groups_of_five(start, end):\n",
    "    groups = []\n",
    "    for i in range(start, end + 1, 5):\n",
    "        group = list(range(i, i + 5))\n",
    "        groups.append(group)\n",
    "    return groups\n",
    "\n",
    "# Example usage\n",
    "start = 1\n",
    "end = 20\n",
    "output = generate_groups_of_five(start, end)\n",
    "print(\"Output:\", output)\n"
   ]
  },
  {
   "cell_type": "code",
   "execution_count": 27,
   "metadata": {},
   "outputs": [
    {
     "name": "stdout",
     "output_type": "stream",
     "text": [
      "Output: [2, 5]\n"
     ]
    }
   ],
   "source": [
    "#45. Write a Python program to convert a pair of values into a sorted unique array.\n",
    "def convert_pair_to_sorted_array(value1, value2):\n",
    "    unique_values = list(set([value1, value2]))\n",
    "    sorted_array = sorted(unique_values)\n",
    "    return sorted_array\n",
    "\n",
    "# Example usage\n",
    "value1 = 5\n",
    "value2 = 2\n",
    "output = convert_pair_to_sorted_array(value1, value2)\n",
    "print(\"Output:\", output)\n"
   ]
  },
  {
   "cell_type": "code",
   "execution_count": 1,
   "metadata": {},
   "outputs": [
    {
     "name": "stdout",
     "output_type": "stream",
     "text": [
      "Output: [1, 3, 5, 7, 9]\n"
     ]
    }
   ],
   "source": [
    "# 46. Write a Python program to select the odd items from a list.\n",
    "def select_odd_items(lst):\n",
    "    odd_items = [item for item in lst if item % 2 != 0]\n",
    "    return odd_items\n",
    "\n",
    "# Example usage\n",
    "sample_list = [1, 2, 3, 4, 5, 6, 7, 8, 9]\n",
    "output = select_odd_items(sample_list)\n",
    "print(\"Output:\", output)\n"
   ]
  },
  {
   "cell_type": "code",
   "execution_count": 3,
   "metadata": {},
   "outputs": [
    {
     "name": "stdout",
     "output_type": "stream",
     "text": [
      "Output: ['A1', 'A2', 'A3', 'A4', 'A5']\n"
     ]
    }
   ],
   "source": [
    "# 47. Write a Python program to insert an element before each element of a list.\n",
    "\n",
    "def insert_before_each_element(lst, element):\n",
    "    new_list = [element + str(item) for item in lst]\n",
    "    return new_list\n",
    "\n",
    "# Example usage\n",
    "sample_list = [1, 2, 3, 4, 5]\n",
    "element = \"A\"\n",
    "output = insert_before_each_element(sample_list, element)\n",
    "print(\"Output:\", output)\n"
   ]
  },
  {
   "cell_type": "code",
   "execution_count": 1,
   "metadata": {},
   "outputs": [
    {
     "name": "stdout",
     "output_type": "stream",
     "text": [
      "Output: [{'color_name': 'Black', 'color_code': '#000000'}, {'color_name': 'Red', 'color_code': '#FF0000'}, {'color_name': 'Maroon', 'color_code': '#800000'}, {'color_name': 'Yellow', 'color_code': '#FFFF00'}]\n"
     ]
    }
   ],
   "source": [
    "# 49. Write a Python program to convert a list to a list of dictionaries.\n",
    "# Sample lists: [\"Black\", \"Red\", \"Maroon\", \"Yellow\"], [\"#000000\", \"#FF0000\", \"#800000\", \"#FFFF00\"]\n",
    "# Expected Output: [{'color_name': 'Black', 'color_code': '#000000'}, {'color_name': 'Red', 'color_code': '#FF0000'}, {'color_name': 'Maroon', 'color_code': '#800000'}, {'color_name': 'Yellow', 'color_code': '#FFFF00'}]\n",
    "\n",
    "def convert_to_list_of_dictionaries(color_names, color_codes):\n",
    "    result = []\n",
    "    for i in range(len(color_names)):\n",
    "        dictionary = {'color_name': color_names[i], 'color_code': color_codes[i]}\n",
    "        result.append(dictionary)\n",
    "    return result\n",
    "\n",
    "# Example usage\n",
    "color_names = [\"Black\", \"Red\", \"Maroon\", \"Yellow\"]\n",
    "color_codes = [\"#000000\", \"#FF0000\", \"#800000\", \"#FFFF00\"]\n",
    "output = convert_to_list_of_dictionaries(color_names, color_codes)\n",
    "print(\"Output:\", output)\n"
   ]
  },
  {
   "cell_type": "code",
   "execution_count": 2,
   "metadata": {},
   "outputs": [
    {
     "name": "stdout",
     "output_type": "stream",
     "text": [
      "Output: [{'name': 'Bob', 'age': 19}, {'name': 'John', 'age': 25}, {'name': 'Alice', 'age': 32}]\n"
     ]
    }
   ],
   "source": [
    "# 50. Write a Python program to sort a list of nested dictionaries.\n",
    "\n",
    "def sort_nested_dictionaries(lst, key):\n",
    "    sorted_list = sorted(lst, key=lambda x: x[key])\n",
    "    return sorted_list\n",
    "\n",
    "# Example usage\n",
    "sample_list = [\n",
    "    {'name': 'John', 'age': 25},\n",
    "    {'name': 'Alice', 'age': 32},\n",
    "    {'name': 'Bob', 'age': 19}\n",
    "]\n",
    "key = 'age'\n",
    "output = sort_nested_dictionaries(sample_list, key)\n",
    "print(\"Output:\", output)\n"
   ]
  },
  {
   "cell_type": "code",
   "execution_count": 3,
   "metadata": {},
   "outputs": [
    {
     "name": "stdout",
     "output_type": "stream",
     "text": [
      "Output: [['a', 'd', 'g', 'j', 'm'], ['b', 'e', 'h', 'k', 'n'], ['c', 'f', 'i', 'l']]\n"
     ]
    }
   ],
   "source": [
    "# 51. Write a Python program to split a list every Nth element.\n",
    "# Sample list: ['a', 'b', 'c', 'd', 'e', 'f', 'g', 'h', 'i', 'j', 'k', 'l', 'm', 'n']\n",
    "# Expected Output: [['a', 'd', 'g', 'j', 'm'], ['b', 'e', 'h', 'k', 'n'], ['c', 'f', 'i', 'l']]\n",
    "\n",
    "def split_list_every_nth(lst, n):\n",
    "    split_list = [lst[i::n] for i in range(n)]\n",
    "    return split_list\n",
    "\n",
    "# Example usage\n",
    "sample_list = ['a', 'b', 'c', 'd', 'e', 'f', 'g', 'h', 'i', 'j', 'k', 'l', 'm', 'n']\n",
    "n = 3\n",
    "output = split_list_every_nth(sample_list, n)\n",
    "print(\"Output:\", output)\n"
   ]
  },
  {
   "cell_type": "code",
   "execution_count": 4,
   "metadata": {},
   "outputs": [
    {
     "name": "stdout",
     "output_type": "stream",
     "text": [
      "Color1-Color2: ['red', 'orange', 'white']\n",
      "Color2-Color1: ['black', 'yellow']\n"
     ]
    }
   ],
   "source": [
    "# 52. Write a Python program to compute the difference between two lists.\n",
    "# Sample data: [\"red\", \"orange\", \"green\", \"blue\", \"white\"], [\"black\", \"yellow\", \"green\", \"blue\"]\n",
    "# Expected Output:\n",
    "# Color1-Color2: ['white', 'orange', 'red']\n",
    "# Color2-Color1: ['black', 'yellow']\n",
    "\n",
    "def compute_list_difference(list1, list2):\n",
    "    difference1 = [item for item in list1 if item not in list2]\n",
    "    difference2 = [item for item in list2 if item not in list1]\n",
    "    return difference1, difference2\n",
    "\n",
    "# Example usage\n",
    "color1 = [\"red\", \"orange\", \"green\", \"blue\", \"white\"]\n",
    "color2 = [\"black\", \"yellow\", \"green\", \"blue\"]\n",
    "\n",
    "color1_color2, color2_color1 = compute_list_difference(color1, color2)\n",
    "print(\"Color1-Color2:\", color1_color2)\n",
    "print(\"Color2-Color1:\", color2_color1)\n"
   ]
  },
  {
   "cell_type": "code",
   "execution_count": 6,
   "metadata": {},
   "outputs": [
    {
     "name": "stdout",
     "output_type": "stream",
     "text": [
      "[1, 2, 3, 4, 5, 6, 7, 8, 9, 10]\n"
     ]
    }
   ],
   "source": [
    "# 53. Write a Python program to create a list with infinite elements.\n",
    "\n",
    "# Create a list with \"infinite\" elements\n",
    "infinite_list = []\n",
    "counter = 1\n",
    "\n",
    "# Add elements to the list indefinitely\n",
    "while True:\n",
    "    infinite_list.append(counter)\n",
    "    counter += 1\n",
    "\n",
    "    # Stop the loop after adding a finite number of elements\n",
    "    if len(infinite_list) == 10:\n",
    "        break\n",
    "\n",
    "# Print the finite elements\n",
    "print(infinite_list)\n"
   ]
  },
  {
   "cell_type": "code",
   "execution_count": 7,
   "metadata": {},
   "outputs": [
    {
     "name": "stdout",
     "output_type": "stream",
     "text": [
      "HelloWorldPythonProgramming\n"
     ]
    }
   ],
   "source": [
    "#54. Write a Python program to concatenate elements of a list.\n",
    "# Define a list of elements\n",
    "my_list = ['Hello', 'World', 'Python', 'Programming']\n",
    "\n",
    "# Concatenate the elements using the join() method\n",
    "concatenated_string = ''.join(my_list)\n",
    "\n",
    "# Print the concatenated string\n",
    "print(concatenated_string)\n"
   ]
  },
  {
   "cell_type": "code",
   "execution_count": 8,
   "metadata": {},
   "outputs": [
    {
     "name": "stdout",
     "output_type": "stream",
     "text": [
      "[{'name': 'John', 'city': 'New York'}, {'name': 'Alice', 'city': 'London'}, {'name': 'Bob', 'city': 'Paris'}]\n"
     ]
    }
   ],
   "source": [
    "#55. Write a Python program to remove key-value pairs from a list of dictionaries.\n",
    "# Define a list of dictionaries\n",
    "my_list = [\n",
    "    {'name': 'John', 'age': 25, 'city': 'New York'},\n",
    "    {'name': 'Alice', 'age': 30, 'city': 'London'},\n",
    "    {'name': 'Bob', 'age': 35, 'city': 'Paris'}\n",
    "]\n",
    "\n",
    "# Remove the 'age' key from each dictionary\n",
    "for dictionary in my_list:\n",
    "    if 'age' in dictionary:\n",
    "        del dictionary['age']\n",
    "\n",
    "# Print the updated list of dictionaries\n",
    "print(my_list)\n"
   ]
  },
  {
   "cell_type": "code",
   "execution_count": 1,
   "metadata": {},
   "outputs": [
    {
     "name": "stdout",
     "output_type": "stream",
     "text": [
      "['H', 'e', 'l', 'l', 'o', ',', ' ', 'W', 'o', 'r', 'l', 'd', '!']\n"
     ]
    }
   ],
   "source": [
    "# Convert a string to a list\n",
    "my_string = \"Hello, World!\"\n",
    "my_list = list(my_string)\n",
    "\n",
    "# Print the converted list\n",
    "print(my_list)\n"
   ]
  },
  {
   "cell_type": "code",
   "execution_count": 2,
   "metadata": {},
   "outputs": [
    {
     "name": "stdout",
     "output_type": "stream",
     "text": [
      "True\n",
      "False\n"
     ]
    }
   ],
   "source": [
    "#57. Write a Python program to check if all items in a given list of strings are equal to a given string.\n",
    "# Check if all items in a list are equal to a given string\n",
    "def check_all_items_equal(lst, string):\n",
    "    return all(item == string for item in lst)\n",
    "\n",
    "# Test the function\n",
    "my_list = ['apple', 'apple', 'apple']\n",
    "given_string = 'apple'\n",
    "print(check_all_items_equal(my_list, given_string))  # Output: True\n",
    "\n",
    "my_list = ['apple', 'banana', 'apple']\n",
    "given_string = 'apple'\n",
    "print(check_all_items_equal(my_list, given_string))  # Output: False\n"
   ]
  },
  {
   "cell_type": "code",
   "execution_count": 3,
   "metadata": {},
   "outputs": [
    {
     "name": "stdout",
     "output_type": "stream",
     "text": [
      "[1, 3, 5, 7, 9, 2, 4, 6, 8]\n"
     ]
    }
   ],
   "source": [
    "# 58. Write a Python program to replace the last element in a list with another list.\n",
    "# Sample data : [1, 3, 5, 7, 9, 10], [2, 4, 6, 8]\n",
    "# Expected Output: [1, 3, 5, 7, 9, 2, 4, 6, 8]\n",
    "# Replace the last element in a list with another list\n",
    "def replace_last_element(lst, replace_list):\n",
    "    return lst[:-1] + replace_list\n",
    "\n",
    "# Test the function\n",
    "sample_data = [1, 3, 5, 7, 9, 10]\n",
    "replace_list = [2, 4, 6, 8]\n",
    "result = replace_last_element(sample_data, replace_list)\n",
    "print(result)\n"
   ]
  },
  {
   "cell_type": "code",
   "execution_count": 5,
   "metadata": {},
   "outputs": [
    {
     "name": "stdout",
     "output_type": "stream",
     "text": [
      "True\n",
      "False\n"
     ]
    }
   ],
   "source": [
    "#59. Write a Python program to check whether the n-th element exists in a given list.\n",
    "# Check whether the n-th element exists in a list\n",
    "def check_nth_element(lst, n):\n",
    "    return n < len(lst) and lst[n] is not None\n",
    "\n",
    "# Test the function\n",
    "my_list = [1, 2, 3, 4, 5]\n",
    "n = 2\n",
    "print(check_nth_element(my_list, n))  # Output: True\n",
    "\n",
    "n = 10\n",
    "print(check_nth_element(my_list, n))  # Output: False\n"
   ]
  },
  {
   "cell_type": "code",
   "execution_count": 6,
   "metadata": {},
   "outputs": [],
   "source": [
    "#60. Write a Python program to find a tuple, the smallest second index value from a list of tuples.\n",
    "# Find the tuple with the smallest second index value\n",
    "def find_smallest_second_index(lst):\n",
    "    return min(lst, key=lambda tup: tup[1])\n",
    "\n",
    "# Test the function\n",
    "my_list = [(1, 5), (2, 3), (3, 7), (4, 1), (5, 2)]\n",
    "result = find_smallest_second_index(my_list)\n",
    "print(result)  # Output: (4, 1)\n"
   ]
  },
  {
   "cell_type": "code",
   "execution_count": null,
   "metadata": {},
   "outputs": [],
   "source": []
  }
 ],
 "metadata": {
  "kernelspec": {
   "display_name": "jupyterenv",
   "language": "python",
   "name": "python3"
  },
  "language_info": {
   "codemirror_mode": {
    "name": "ipython",
    "version": 3
   },
   "file_extension": ".py",
   "mimetype": "text/x-python",
   "name": "python",
   "nbconvert_exporter": "python",
   "pygments_lexer": "ipython3",
   "version": "3.8.10"
  },
  "orig_nbformat": 4
 },
 "nbformat": 4,
 "nbformat_minor": 2
}

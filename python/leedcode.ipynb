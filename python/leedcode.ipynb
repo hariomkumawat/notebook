{
 "cells": [
  {
   "cell_type": "code",
   "execution_count": null,
   "metadata": {},
   "outputs": [
    {
     "ename": "",
     "evalue": "",
     "output_type": "error",
     "traceback": [
      "\u001b[1;31mRunning cells with 'jupyterenv' requires the ipykernel package.\n",
      "\u001b[1;31mRun the following command to install 'ipykernel' into the Python environment. \n",
      "\u001b[1;31mCommand: '/home/hariom/notebook/jupyterenv/bin/python -m pip install ipykernel -U --force-reinstall'"
     ]
    }
   ],
   "source": [
    "#3. Longest Substring Without Repeating Characters\n",
    "# Input: s = \"abcabcbb\"\n",
    "# Output: 3\n",
    "# Explanation: The answer is \"abc\", with the length of 3.\n",
    "# Input: s = \"bbbbb\"\n",
    "# Output: 1\n",
    "# Explanation: The answer is \"b\", with the length of 1.\n",
    "# Input: s = \"pwwkew\"\n",
    "# Output: 3\n",
    "# Explanation: The answer is \"wke\", with the length of 3.\n",
    "def lengthOfLongestSubstring(s):\n",
    "    mx=0\n",
    "    start=0\n",
    "    chars={}\n",
    "    for i in range(len(s)):\n",
    "        if s[i] in chars and start <= chars[s[i]]: \n",
    "            start = chars[s[i]] + 1\n",
    "        else:\n",
    "            mx = max(mx, i - start + 1)\n",
    "        chars[s[i]] = i\n",
    "    return mx\n",
    "\n",
    "s = \"abcabcbb\"\n",
    "print(lengthOfLongestSubstring(s))\n"
   ]
  },
  {
   "cell_type": "code",
   "execution_count": null,
   "metadata": {},
   "outputs": [
    {
     "ename": "",
     "evalue": "",
     "output_type": "error",
     "traceback": [
      "\u001b[1;31mRunning cells with 'jupyterenv' requires the ipykernel package.\n",
      "\u001b[1;31mRun the following command to install 'ipykernel' into the Python environment. \n",
      "\u001b[1;31mCommand: '/home/hariom/notebook/jupyterenv/bin/python -m pip install ipykernel -U --force-reinstall'"
     ]
    }
   ],
   "source": [
    "def lengthOfLogeSubstring(s: str) -> int:\n",
    "    max_len = 0\n",
    "    curr_len = 0\n",
    "    chars = set()\n",
    "    i = 0\n",
    "    j = 0\n",
    "    \n",
    "    while j < len(s):\n",
    "        if s[j] not in chars:\n",
    "            chars.add(s[j])\n",
    "            j += 1\n",
    "            curr_len += 1\n",
    "            max_len = max(max_len, curr_len)\n",
    "        else:\n",
    "            chars.remove(s[i])\n",
    "            i += 1\n",
    "            curr_len -= 1\n",
    "    \n",
    "    return max_len\n",
    "s = \"abcabcbb\"\n",
    "print(lengthOfLogeSubstring(s))"
   ]
  },
  {
   "cell_type": "code",
   "execution_count": null,
   "metadata": {},
   "outputs": [
    {
     "ename": "",
     "evalue": "",
     "output_type": "error",
     "traceback": [
      "\u001b[1;31mRunning cells with 'jupyterenv' requires the ipykernel package.\n",
      "\u001b[1;31mRun the following command to install 'ipykernel' into the Python environment. \n",
      "\u001b[1;31mCommand: '/home/hariom/notebook/jupyterenv/bin/python -m pip install ipykernel -U --force-reinstall'"
     ]
    }
   ],
   "source": [
    "def lengthOfLongestSubstr(s: str) -> int:\n",
    "    max_len = 0\n",
    "    curr_len = 0\n",
    "    chars = {}\n",
    "    start = 0\n",
    "    \n",
    "    for i in range(len(s)):\n",
    "        if s[i] in chars and chars[s[i]] >= start:\n",
    "            start = chars[s[i]] + 1\n",
    "            curr_len = i - start + 1\n",
    "        else:\n",
    "            curr_len += 1\n",
    "            \n",
    "        chars[s[i]] = i\n",
    "        max_len = max(max_len, curr_len)\n",
    "        \n",
    "    return max_len\n",
    "s = \"abcabcbb\"\n",
    "print(lengthOfLongestSubstr(s))"
   ]
  },
  {
   "cell_type": "code",
   "execution_count": null,
   "metadata": {},
   "outputs": [
    {
     "ename": "",
     "evalue": "",
     "output_type": "error",
     "traceback": [
      "\u001b[1;31mRunning cells with 'jupyterenv' requires the ipykernel package.\n",
      "\u001b[1;31mRun the following command to install 'ipykernel' into the Python environment. \n",
      "\u001b[1;31mCommand: '/home/hariom/notebook/jupyterenv/bin/python -m pip install ipykernel -U --force-reinstall'"
     ]
    }
   ],
   "source": [
    "# google.com, pub-3120211189508493, DIRECT, f08c47fec0942fa0"
   ]
  },
  {
   "attachments": {},
   "cell_type": "markdown",
   "metadata": {},
   "source": [
    "<!-- nums=[-1,2,1-4]\n",
    "target=1 -->\n",
    "\n"
   ]
  },
  {
   "cell_type": "code",
   "execution_count": null,
   "metadata": {},
   "outputs": [
    {
     "ename": "",
     "evalue": "",
     "output_type": "error",
     "traceback": [
      "\u001b[1;31mRunning cells with 'jupyterenv' requires the ipykernel package.\n",
      "\u001b[1;31mRun the following command to install 'ipykernel' into the Python environment. \n",
      "\u001b[1;31mCommand: '/home/hariom/notebook/jupyterenv/bin/python -m pip install ipykernel -U --force-reinstall'"
     ]
    }
   ],
   "source": [
    "# <!-- nums=[-1,2,1-4]\n",
    "# target=1 -->\n",
    "# op=2\n",
    "\n",
    "def threesumclosest(nums,target)->int:\n",
    "    nums.sort()\n",
    "    res=sum(nums[:3])\n",
    "    for i in range(len(nums)-2):\n",
    "        s=i+1\n",
    "        e=len(nums)-1\n",
    "        while s<e:\n",
    "            sumhere=nums[i]+nums[s]+nums[e]\n",
    "            if abs(sumhere-target)<abs(res-target):\n",
    "                res=sumhere\n",
    "            if sumhere<target:\n",
    "                s+=1\n",
    "            else:\n",
    "                e-=1\n",
    "    return res\n",
    "nums=[-1,2,1,-4]\n",
    "target=1\n",
    "print(threesumclosest(nums,target))"
   ]
  },
  {
   "cell_type": "code",
   "execution_count": null,
   "metadata": {},
   "outputs": [
    {
     "ename": "",
     "evalue": "",
     "output_type": "error",
     "traceback": [
      "\u001b[1;31mRunning cells with 'jupyterenv' requires the ipykernel package.\n",
      "\u001b[1;31mRun the following command to install 'ipykernel' into the Python environment. \n",
      "\u001b[1;31mCommand: '/home/hariom/notebook/jupyterenv/bin/python -m pip install ipykernel -U --force-reinstall'"
     ]
    }
   ],
   "source": [
    "def is_eligible(test_cases):\n",
    "    for case in test_cases:\n",
    "        X, Y, A = case\n",
    "        if X <= A < Y:\n",
    "            print(\"YES\")\n",
    "        else:\n",
    "            print(\"NO\")\n",
    "\n",
    "# Input processing\n",
    "if __name__ == \"__main__\":\n",
    "    T = int(input().strip())\n",
    "    test_cases = []\n",
    "    for _ in range(T):\n",
    "        X, Y, A = map(int, input().strip().split())\n",
    "        test_cases.append((X, Y, A))\n",
    "\n",
    "    is_eligible(test_cases)\n"
   ]
  },
  {
   "cell_type": "code",
   "execution_count": null,
   "metadata": {},
   "outputs": [],
   "source": []
  }
 ],
 "metadata": {
  "kernelspec": {
   "display_name": "Python 3",
   "language": "python",
   "name": "python3"
  },
  "language_info": {
   "codemirror_mode": {
    "name": "ipython",
    "version": 3
   },
   "file_extension": ".py",
   "mimetype": "text/x-python",
   "name": "python",
   "nbconvert_exporter": "python",
   "pygments_lexer": "ipython3",
   "version": "3.10.6"
  },
  "orig_nbformat": 4
 },
 "nbformat": 4,
 "nbformat_minor": 2
}

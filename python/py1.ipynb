{
 "cells": [
  {
   "cell_type": "code",
   "execution_count": 8,
   "metadata": {},
   "outputs": [
    {
     "ename": "TypeError",
     "evalue": "int() argument must be a string, a bytes-like object or a number, not 'list'",
     "output_type": "error",
     "traceback": [
      "\u001b[0;31m---------------------------------------------------------------------------\u001b[0m",
      "\u001b[0;31mTypeError\u001b[0m                                 Traceback (most recent call last)",
      "Cell \u001b[0;32mIn [8], line 6\u001b[0m\n\u001b[1;32m      4\u001b[0m s \u001b[38;5;241m=\u001b[39m \u001b[38;5;28minput\u001b[39m()\n\u001b[1;32m      5\u001b[0m i \u001b[38;5;241m=\u001b[39m \u001b[38;5;28minput\u001b[39m()\u001b[38;5;241m.\u001b[39msplit()\n\u001b[0;32m----> 6\u001b[0m s_new \u001b[38;5;241m=\u001b[39m mutate_string(s, \u001b[38;5;28mint\u001b[39m(i))\n\u001b[1;32m      7\u001b[0m \u001b[38;5;28mprint\u001b[39m(s_new)\n",
      "\u001b[0;31mTypeError\u001b[0m: int() argument must be a string, a bytes-like object or a number, not 'list'"
     ]
    }
   ],
   "source": [
    "def mutate_string(string, position, character):\n",
    "     return string[:position] + character + string[position + 1:]\n",
    "\n",
    "s = input()\n",
    "i = input().split()\n",
    "s_new = mutate_string(s, int(i))\n",
    "print(s_new)\n"
   ]
  },
  {
   "cell_type": "code",
   "execution_count": 13,
   "id": "091de5a5",
   "metadata": {},
   "outputs": [
    {
     "name": "stdout",
     "output_type": "stream",
     "text": [
      "1.0\n"
     ]
    }
   ],
   "source": [
    "def average(array):\n",
    "    # your code goes here\n",
    "    return round(sum(set(array))/len(set(array)),3)\n",
    "  \n",
    "\n",
    "if __name__ == '__main__':\n",
    "    n = int(input())\n",
    "    arr = list(map(int, input().split()))\n",
    "    result = average(arr)\n",
    "    print(result)"
   ]
  },
  {
   "cell_type": "code",
   "execution_count": 16,
   "id": "165d3b72",
   "metadata": {},
   "outputs": [
    {
     "name": "stdout",
     "output_type": "stream",
     "text": [
      "[6, 5, 10]\n",
      "[1, 5, 9, 10]\n",
      "[9, 5, 1]\n"
     ]
    }
   ],
   "source": [
    "list=[]\n",
    "n=int(input())\n",
    "list.insert(0,5)\n",
    "list.insert(1,10)\n",
    "list.insert(0,6)\n",
    "print(list)\n",
    "list.remove(6)\n",
    "list.append(9)\n",
    "list.append(1)\n",
    "list.sort()\n",
    "print(list)\n",
    "list.pop()\n",
    "list.sort(reverse=True)\n",
    "print(list)"
   ]
  },
  {
   "cell_type": "code",
   "execution_count": 19,
   "id": "f7c662ab",
   "metadata": {},
   "outputs": [
    {
     "name": "stdout",
     "output_type": "stream",
     "text": [
      "0\n",
      "5\n",
      "1\n",
      "10\n",
      "0\n",
      "6\n",
      "6\n",
      "9\n",
      "1\n",
      "1\n",
      "1\n",
      "1\n"
     ]
    }
   ],
   "source": [
    "N = int(input())\n",
    "l=[]\n",
    "for i in range(N):\n",
    "    n = input().split()\n",
    "    cmd = n[0]\n",
    "    print(cmd)\n",
    "    if cmd == 'insert':\n",
    "        l.insert(int(n[1]),int(n[2]))\n",
    "    elif cmd == 'print':\n",
    "        print(l)\n",
    "    elif cmd == 'remove':\n",
    "        l.remove(int(n[1]))\n",
    "    elif cmd == 'append':\n",
    "        l.append(int(n[1]))\n",
    "    elif cmd == 'sort':\n",
    "        l.sort()\n",
    "    elif cmd == 'pop':\n",
    "        l.pop()\n",
    "    elif cmd == 'reverse':\n",
    "        l.reverse()\n",
    "        "
   ]
  },
  {
   "cell_type": "code",
   "execution_count": null,
   "id": "502db9c8",
   "metadata": {},
   "outputs": [],
   "source": [
    "\n"
   ]
  },
  {
   "cell_type": "code",
   "execution_count": null,
   "id": "a878f1cd",
   "metadata": {},
   "outputs": [],
   "source": []
  }
 ],
 "metadata": {
  "kernelspec": {
   "display_name": "Python 3.8.10 64-bit",
   "language": "python",
   "name": "python3"
  },
  "language_info": {
   "codemirror_mode": {
    "name": "ipython",
    "version": 3
   },
   "file_extension": ".py",
   "mimetype": "text/x-python",
   "name": "python",
   "nbconvert_exporter": "python",
   "pygments_lexer": "ipython3",
   "version": "3.8.10"
  },
  "vscode": {
   "interpreter": {
    "hash": "916dbcbb3f70747c44a77c7bcd40155683ae19c65e1c03b4aa3499c5328201f1"
   }
  }
 },
 "nbformat": 4,
 "nbformat_minor": 5
}

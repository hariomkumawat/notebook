{
 "cells": [
  {
   "cell_type": "code",
   "execution_count": 3,
   "metadata": {},
   "outputs": [
    {
     "name": "stdout",
     "output_type": "stream",
     "text": [
      "[[0, 3], [4, 7]]\n"
     ]
    }
   ],
   "source": [
    "# 281. Write a Python program that takes a list of integers and finds all pairs of integers that differ by three. Return all pairs of integers in a list. Go to the editor\n",
    "# Sample Data:\n",
    "# ([0, 3, 4, 7, 9]) -> [[0, 3], [4, 7]]\n",
    "# [0, -3, -5, -7, -8] -> [[-3, 0], [-8, -5]]\n",
    "# ([1, 2, 3, 4, 5]) -> [[1, 4], [2, 5]]\n",
    "# ([100, 102, 103, 114, 115]) -> [[100, 103]]\n",
    "\n",
    "\n",
    "num=[0,3,4,7,9]\n",
    "res=[]\n",
    "for i ,j in enumerate(sorted(num)):\n",
    "    for y in num[i+1:]:\n",
    "        if y == j+3:\n",
    "            res.append([j,y])\n",
    "print(res)"
   ]
  },
  {
   "cell_type": "code",
   "execution_count": 5,
   "metadata": {},
   "outputs": [
    {
     "data": {
      "text/plain": [
       "'n is less than number of vowels present in the string.'"
      ]
     },
     "execution_count": 5,
     "metadata": {},
     "output_type": "execute_result"
    }
   ],
   "source": [
    "# 280. Write a Python program to extract the first specified number of vowels from a given string. If the specified number is less than the number of vowels present in the string then display \"n is less than the number of vowels present in the string\". Go to the editor\n",
    "# Sample Data:\n",
    "# (\"Python\", 2) -> \"n is less than number of vowels present in the string.\"\n",
    "# (\"Python Exercises\", 3) -> \"oEe\"\n",
    "# (\"aeiou\") -> \"AEI\"\n",
    "def test(text, n):\n",
    "\tresult_str = ''\n",
    "\tfor i in text:\n",
    "\t\tif i in 'aioueAEIOU':\n",
    "\t\t\tresult_str+=i\n",
    "\treturn result_str[:n] if len(result_str) >= n else 'n is less than number of vowels present in the string.'\n",
    "    \n",
    "word = \"Python\"\n",
    "n=2\n",
    "test(word,n)\n"
   ]
  },
  {
   "cell_type": "code",
   "execution_count": 6,
   "metadata": {},
   "outputs": [
    {
     "name": "stdout",
     "output_type": "stream",
     "text": [
      "['Yellow', 'Green', 'Red', 'Pink', 'White', 'Black']\n"
     ]
    }
   ],
   "source": [
    "# 15. Write a Python program to shuffle and print a specified list. \n",
    "from random import shuffle\n",
    "color = ['Red', 'Green', 'White', 'Black', 'Pink', 'Yellow']\n",
    "shuffle(color)\n",
    "print(color)\n"
   ]
  },
  {
   "cell_type": "code",
   "execution_count": 7,
   "metadata": {},
   "outputs": [
    {
     "name": "stdout",
     "output_type": "stream",
     "text": [
      "[1, 4, 9, 16, 25]\n",
      "[256, 289, 324, 361, 400]\n"
     ]
    }
   ],
   "source": [
    "# 16. Write a Python program to generate and print a list of the first and last 5 elements where the values are square numbers between 1 and 30 (both included). \n",
    "\n",
    "def printValues():\n",
    "\tl = list()\n",
    "\tfor i in range(1,21):\n",
    "\t\tl.append(i**2)\n",
    "\tprint(l[:5])\n",
    "\tprint(l[-5:])\n",
    "\n",
    "printValues()\n"
   ]
  },
  {
   "cell_type": "code",
   "execution_count": 10,
   "metadata": {},
   "outputs": [
    {
     "name": "stdout",
     "output_type": "stream",
     "text": [
      "[36, 49, 64, 81, 100, 121, 144, 169, 196, 225, 256, 289, 324, 361, 400, 441, 484, 529, 576, 625, 676, 729, 784, 841, 900]\n"
     ]
    }
   ],
   "source": [
    "# 17. Write a Python program to generate and print a list except for the first 5 elements, where the values are square numbers between 1 and 30 (both included). \n",
    "\n",
    "def printValues():\n",
    "\tl = list()\n",
    "\tfor i in range(1,31):\n",
    "\t\tl.append(i**2)\n",
    "\tprint(l[5:])\n",
    "printValues()\n"
   ]
  },
  {
   "cell_type": "code",
   "execution_count": 11,
   "metadata": {},
   "outputs": [
    {
     "name": "stdout",
     "output_type": "stream",
     "text": [
      "[(1, 2, 3), (1, 3, 2), (2, 1, 3), (2, 3, 1), (3, 1, 2), (3, 2, 1)]\n"
     ]
    }
   ],
   "source": [
    "#18. Write a Python program to generate all permutations of a list in Python.\n",
    "\n",
    "import itertools\n",
    "print(list(itertools.permutations([1,2,3])))\n"
   ]
  },
  {
   "cell_type": "code",
   "execution_count": 12,
   "metadata": {},
   "outputs": [
    {
     "name": "stdout",
     "output_type": "stream",
     "text": [
      "[9, 3, 5, 8, 2, 4, 6]\n"
     ]
    }
   ],
   "source": [
    "#19. Write a Python program to calculate the difference between the two lists.\n",
    "\n",
    "list1 = [1, 3, 5, 7, 9]\n",
    "list2=[1, 2, 4, 6, 7, 8]\n",
    "diff_list1_list2 = list(set(list1) - set(list2))\n",
    "diff_list2_list1 = list(set(list2) - set(list1))\n",
    "total_diff = diff_list1_list2 + diff_list2_list1\n",
    "print(total_diff)\n"
   ]
  },
  {
   "cell_type": "code",
   "execution_count": 13,
   "metadata": {},
   "outputs": [
    {
     "name": "stdout",
     "output_type": "stream",
     "text": [
      "0 5\n",
      "1 15\n",
      "2 35\n",
      "3 8\n",
      "4 98\n"
     ]
    }
   ],
   "source": [
    "#20. Write a Python program to access the index of a list.\n",
    "\n",
    "nums = [5, 15, 35, 8, 98]\n",
    "for num_index, num_val in enumerate(nums):\n",
    "    print(num_index, num_val)\n",
    "\t"
   ]
  },
  {
   "cell_type": "code",
   "execution_count": 14,
   "metadata": {},
   "outputs": [
    {
     "name": "stdout",
     "output_type": "stream",
     "text": [
      "abcd\n"
     ]
    }
   ],
   "source": [
    "#21. Write a Python program to convert a list of characters into a string\n",
    "\n",
    "s = ['a', 'b', 'c', 'd']\n",
    "str1 = ''.join(s)\n",
    "print(str1)\n"
   ]
  },
  {
   "cell_type": "code",
   "execution_count": 15,
   "metadata": {},
   "outputs": [
    {
     "name": "stdout",
     "output_type": "stream",
     "text": [
      "1\n"
     ]
    }
   ],
   "source": [
    "#22. Write a Python program to find the index of an item in a specified list. \n",
    "\n",
    "num =[10, 30, 4, -6]\n",
    "print(num.index(30))\n"
   ]
  },
  {
   "cell_type": "code",
   "execution_count": 16,
   "metadata": {},
   "outputs": [
    {
     "name": "stdout",
     "output_type": "stream",
     "text": [
      "[2, 4, 3, 1, 5, 6, 9, 7, 9, 0]\n"
     ]
    }
   ],
   "source": [
    "#23. Write a Python program to flatten a shallow list.\n",
    "\n",
    "import itertools\n",
    "original_list = [[2,4,3],[1,5,6], [9], [7,9,0]]\n",
    "new_merged_list = list(itertools.chain(*original_list))\n",
    "print(new_merged_list)\n"
   ]
  },
  {
   "cell_type": "code",
   "execution_count": 17,
   "metadata": {},
   "outputs": [
    {
     "name": "stdout",
     "output_type": "stream",
     "text": [
      "[1, 2, 3, 0, 'Red', 'Green', 'Black']\n"
     ]
    }
   ],
   "source": [
    "#24. Write a Python program to append a list to the second list. \n",
    "\n",
    "list1 = [1, 2, 3, 0]\n",
    "list2 = ['Red', 'Green', 'Black']\n",
    "final_list = list1 + list2\n",
    "print(final_list)\n"
   ]
  },
  {
   "cell_type": "code",
   "execution_count": 19,
   "metadata": {},
   "outputs": [
    {
     "name": "stdout",
     "output_type": "stream",
     "text": [
      "Black\n"
     ]
    }
   ],
   "source": [
    "#25. Write a Python program to select an item randomly from a list.\n",
    "\n",
    "import random\n",
    "color_list = ['Red', 'Blue', 'Green', 'White', 'Black']\n",
    "print(random.choice(color_list))\n"
   ]
  },
  {
   "cell_type": "code",
   "execution_count": 20,
   "metadata": {},
   "outputs": [
    {
     "name": "stdout",
     "output_type": "stream",
     "text": [
      "Compare list1 and list2\n",
      "True\n",
      "Compare list1 and list3\n",
      "False\n"
     ]
    }
   ],
   "source": [
    "#26. Write a Python program to check whether two lists are circularly identical.\n",
    "\n",
    "list1 = [10, 10, 0, 0, 10]\n",
    "list2 = [10, 10, 10, 0, 0]\n",
    "list3 = [1, 10, 10, 0, 0]\n",
    "\n",
    "print('Compare list1 and list2')\n",
    "print(' '.join(map(str, list2)) in ' '.join(map(str, list1 * 2)))\n",
    "print('Compare list1 and list3')\n",
    "print(' '.join(map(str, list3)) in ' '.join(map(str, list1 * 2)))\n"
   ]
  },
  {
   "cell_type": "code",
   "execution_count": 24,
   "metadata": {},
   "outputs": [
    {
     "name": "stdout",
     "output_type": "stream",
     "text": [
      "-2\n",
      "0\n",
      "0\n",
      "None\n",
      "None\n"
     ]
    }
   ],
   "source": [
    "#27. Write a Python program to find the second smallest number in a list.\n",
    "\n",
    "def second_smallest(numbers):\n",
    "  if (len(numbers)<2):\n",
    "    return\n",
    "  if ((len(numbers)==2)  and (numbers[0] == numbers[1]) ):\n",
    "    return\n",
    "  dup_items = set()\n",
    "  uniq_items = []\n",
    "  for x in numbers:\n",
    "    if x not in dup_items:\n",
    "      uniq_items.append(x)\n",
    "      dup_items.add(x)\n",
    "  uniq_items.sort()    \n",
    "  return  uniq_items[1]   \n",
    "\n",
    "print(second_smallest([1, 2, -8, -2, 0, -2]))\n",
    "print(second_smallest([1, 1, 0, 0, 2, -2, -2]))\n",
    "print(second_smallest([1, 1, 1, 0, 0, 0, 2, -2, -2]))\n",
    "print(second_smallest([2,2]))\n",
    "print(second_smallest([2]))\n"
   ]
  },
  {
   "cell_type": "code",
   "execution_count": 26,
   "metadata": {},
   "outputs": [
    {
     "name": "stdout",
     "output_type": "stream",
     "text": [
      "4\n",
      "1\n",
      "None\n",
      "None\n"
     ]
    }
   ],
   "source": [
    "#28. Write a Python program to find the second largest number in a list\n",
    "\n",
    "def second_largest(numbers):\n",
    "  if (len(numbers)<2):\n",
    "    return\n",
    "  if ((len(numbers)==2)  and (numbers[0] == numbers[1]) ):\n",
    "    return\n",
    "  dup_items = set()\n",
    "  uniq_items = []\n",
    "  for x in numbers:\n",
    "    if x not in dup_items:\n",
    "      uniq_items.append(x)\n",
    "      dup_items.add(x)\n",
    "  uniq_items.sort()    \n",
    "  return  uniq_items[-2]   \n",
    "print(second_largest([1,2,3,4,4]))\n",
    "print(second_largest([1, 1, 1, 0, 0, 0, 2, -2, -2]))\n",
    "print(second_largest([2,2]))\n",
    "print(second_largest([1]))\n"
   ]
  },
  {
   "cell_type": "code",
   "execution_count": 29,
   "metadata": {},
   "outputs": [
    {
     "name": "stdout",
     "output_type": "stream",
     "text": [
      "List of unique numbers :  [40, 10, 50, 20, 60, 30]\n",
      "list seed [10, 20, 30, 40, 50, 60]\n"
     ]
    }
   ],
   "source": [
    "#29. Write a Python program to get unique values from a list\n",
    "\n",
    "my_list = [10, 20, 30, 40, 20, 50, 60, 40]\n",
    "my_set = set(my_list)\n",
    "my_new_list = list(my_set)\n",
    "print(\"List of unique numbers : \",my_new_list)\n",
    "################\n",
    "l2=[]\n",
    "for i in my_list:\n",
    "    if i not in l2:\n",
    "        l2.append(i)\n",
    "print('list seed',l2)"
   ]
  },
  {
   "cell_type": "code",
   "execution_count": 33,
   "metadata": {},
   "outputs": [
    {
     "name": "stdout",
     "output_type": "stream",
     "text": [
      "Frequency of the elements in the List :  Counter({10: 4, 20: 4, 40: 2, 50: 2, 30: 1})\n"
     ]
    },
    {
     "data": {
      "text/plain": [
       "{10: 4, 20: 4, 40: 2, 50: 2, 30: 1}"
      ]
     },
     "execution_count": 33,
     "metadata": {},
     "output_type": "execute_result"
    }
   ],
   "source": [
    "#30. Write a Python program to get the frequency of elements in a list.\n",
    "\n",
    "import collections\n",
    "my_list = [10,10,10,10,20,20,20,20,40,40,50,50,30]\n",
    "ctr = collections.Counter(my_list)\n",
    "print(\"Frequency of the elements in the List : \",ctr)\n",
    "#####\n",
    "d={}\n",
    "for i in my_list:\n",
    "    if i not in d:\n",
    "        d[i]=my_list.count(i)\n",
    "d"
   ]
  },
  {
   "cell_type": "code",
   "execution_count": 34,
   "metadata": {},
   "outputs": [
    {
     "name": "stdout",
     "output_type": "stream",
     "text": [
      "6\n",
      "5\n"
     ]
    }
   ],
   "source": [
    "#31. Write a Python program to count the number of elements in a list within a specified range\n",
    "\n",
    "def count_range_in_list(li, min, max):\n",
    "\tctr = 0\n",
    "\tfor x in li:\n",
    "\t\tif min <= x <= max:\n",
    "\t\t\tctr += 1\n",
    "\treturn ctr\n",
    "\n",
    "list1 = [10,20,30,40,40,40,70,80,99]\n",
    "print(count_range_in_list(list1, 40, 100))\n",
    "\n",
    "list2 = ['a','b','c','d','e','f']\n",
    "print(count_range_in_list(list2, 'a', 'e'))\n"
   ]
  },
  {
   "cell_type": "code",
   "execution_count": 35,
   "metadata": {},
   "outputs": [
    {
     "name": "stdout",
     "output_type": "stream",
     "text": [
      "True\n",
      "False\n"
     ]
    }
   ],
   "source": [
    "#32. Write a Python program to check whether a list contains a sublist. \n",
    "\n",
    "def is_Sublist(l, s):\n",
    "\tsub_set = False\n",
    "\tif s == []:\n",
    "\t\tsub_set = True\n",
    "\telif s == l:\n",
    "\t\tsub_set = True\n",
    "\telif len(s) > len(l):\n",
    "\t\tsub_set = False\n",
    "\n",
    "\telse:\n",
    "\t\tfor i in range(len(l)):\n",
    "\t\t\tif l[i] == s[0]:\n",
    "\t\t\t\tn = 1\n",
    "\t\t\t\twhile (n < len(s)) and (l[i+n] == s[n]):\n",
    "\t\t\t\t\tn += 1\n",
    "\t\t\t\t\n",
    "\t\t\t\tif n == len(s):\n",
    "\t\t\t\t\tsub_set = True\n",
    "\n",
    "\treturn sub_set\n",
    "\n",
    "a = [2,4,3,5,7]\n",
    "b = [4,3]\n",
    "c = [3,7]\n",
    "print(is_Sublist(a, b))\n",
    "print(is_Sublist(a, c))\n"
   ]
  },
  {
   "cell_type": "code",
   "execution_count": 36,
   "metadata": {},
   "outputs": [
    {
     "name": "stdout",
     "output_type": "stream",
     "text": [
      "Original list:\n",
      "[10, 20, 30, 40]\n",
      "S\n",
      "[[], [10], [20], [30], [40], [10, 20], [10, 30], [10, 40], [20, 30], [20, 40], [30, 40], [10, 20, 30], [10, 20, 40], [10, 30, 40], [20, 30, 40], [10, 20, 30, 40]]\n",
      "Sublists of the said list:\n",
      "[[], [10], [20], [30], [40], [10, 20], [10, 30], [10, 40], [20, 30], [20, 40], [30, 40], [10, 20, 30], [10, 20, 40], [10, 30, 40], [20, 30, 40], [10, 20, 30, 40]]\n",
      "\n",
      "Original list:\n",
      "['X', 'Y', 'Z']\n",
      "Sublists of the said list:\n",
      "[[], ['X'], ['Y'], ['Z'], ['X', 'Y'], ['X', 'Z'], ['Y', 'Z'], ['X', 'Y', 'Z']]\n"
     ]
    }
   ],
   "source": [
    "#33. Write a Python program to generate all sublists of a list\n",
    "\n",
    "from itertools import combinations\n",
    "def sub_lists(my_list):\n",
    "\tsubs = []\n",
    "\tfor i in range(0, len(my_list)+1):\n",
    "\t  temp = [list(x) for x in combinations(my_list, i)]\n",
    "\t  if len(temp)>0:\n",
    "\t    subs.extend(temp)\n",
    "\treturn subs\n",
    "\n",
    "\n",
    "l1 = [10, 20, 30, 40]\n",
    "l2 = ['X', 'Y', 'Z']\n",
    "print(\"Original list:\")\n",
    "print(l1)\n",
    "print(\"S\")\n",
    "print(sub_lists(l1))\n",
    "print(\"Sublists of the said list:\")\n",
    "print(sub_lists(l1))\n",
    "print(\"\\nOriginal list:\")\n",
    "print(l2)\n",
    "print(\"Sublists of the said list:\")\n",
    "print(sub_lists(l2))\n"
   ]
  },
  {
   "cell_type": "code",
   "execution_count": 37,
   "metadata": {},
   "outputs": [
    {
     "name": "stdout",
     "output_type": "stream",
     "text": [
      "2\n",
      "3\n",
      "5\n",
      "7\n",
      "11\n",
      "13\n",
      "17\n",
      "19\n",
      "23\n",
      "29\n",
      "31\n",
      "37\n",
      "41\n",
      "43\n",
      "47\n",
      "53\n",
      "59\n",
      "61\n",
      "67\n",
      "71\n",
      "73\n",
      "79\n",
      "83\n",
      "89\n",
      "97\n",
      "None\n"
     ]
    }
   ],
   "source": [
    "# 34. Write a Python program that uses the Sieve of Eratosthenes method to compute prime numbers up to a specified number. Go to the editor\n",
    "# Note: In mathematics, the sieve of Eratosthenes, (Ancient Greek: κόσκινον Ἐρατοσθένους, kóskinon Eratosthénous) one of a number of prime number sieves, is a simple, ancient algorithm for finding all prime numbers up to any given limit.\n",
    "\n",
    "def prime_eratosthenes(n):\n",
    "    prime_list = []\n",
    "    for i in range(2, n+1):\n",
    "        if i not in prime_list:\n",
    "            print (i)\n",
    "            for j in range(i*i, n+1, i):\n",
    "                prime_list.append(j)\n",
    "\n",
    "print(prime_eratosthenes(100));\n"
   ]
  },
  {
   "cell_type": "code",
   "execution_count": 38,
   "metadata": {},
   "outputs": [
    {
     "name": "stdout",
     "output_type": "stream",
     "text": [
      "['p1', 'q1', 'p2', 'q2', 'p3', 'q3', 'p4', 'q4']\n"
     ]
    }
   ],
   "source": [
    "# 35. Write a Python program to create a list by concatenating a given list with a range from 1 to n. Go to the editor\n",
    "# Sample list : ['p', 'q']\n",
    "# n =5\n",
    "# Sample Output : ['p1', 'q1', 'p2', 'q2', 'p3', 'q3', 'p4', 'q4', 'p5', 'q5']\n",
    "\n",
    "my_list = ['p', 'q']\n",
    "n = 4\n",
    "new_list = ['{}{}'.format(x, y) for y in range(1, n+1) for x in my_list]\n",
    "print(new_list)\n"
   ]
  },
  {
   "cell_type": "code",
   "execution_count": 39,
   "metadata": {},
   "outputs": [
    {
     "name": "stdout",
     "output_type": "stream",
     "text": [
      "[1, 0, 3, 2, 5, 4]\n"
     ]
    }
   ],
   "source": [
    "#38. Write a Python program to change the position of every n-th value to the (n+1)th in a list. Go to the editor\n",
    "# Sample list: [0,1,2,3,4,5]\n",
    "# Expected Output: [1, 0, 3, 2, 5, 4]\n",
    "from itertools import zip_longest, chain, tee\n",
    "def replace2copy(lst):\n",
    "    lst1, lst2 = tee(iter(lst), 2)\n",
    "    return list(chain.from_iterable(zip_longest(lst[1::2], lst[::2])))\n",
    "n = [0,1,2,3,4,5]\n",
    "print(replace2copy(n))\n"
   ]
  },
  {
   "cell_type": "code",
   "execution_count": 40,
   "metadata": {},
   "outputs": [
    {
     "name": "stdout",
     "output_type": "stream",
     "text": [
      "{'1': [], '2': [], '3': [], '4': [], '5': [], '6': [], '7': [], '8': [], '9': [], '10': [], '11': [], '12': [], '13': [], '14': [], '15': [], '16': [], '17': [], '18': [], '19': [], '20': []}\n"
     ]
    }
   ],
   "source": [
    "#41. Write a Python program to create multiple lists.\n",
    "obj = {}\n",
    "for i in range(1, 21):\n",
    "    obj[str(i)] = []\n",
    "print(obj)\n"
   ]
  },
  {
   "cell_type": "code",
   "execution_count": 41,
   "metadata": {},
   "outputs": [
    {
     "name": "stdout",
     "output_type": "stream",
     "text": [
      "[{'color_name': 'Black', 'color_code': '#000000'}, {'color_name': 'Red', 'color_code': '#FF0000'}, {'color_name': 'Maroon', 'color_code': '#800000'}, {'color_name': 'Yellow', 'color_code': '#FFFF00'}]\n"
     ]
    }
   ],
   "source": [
    "# 49. Write a Python program to convert a list to a list of dictionaries. Go to the editor\n",
    "# Sample lists: [\"Black\", \"Red\", \"Maroon\", \"Yellow\"], [\"#000000\", \"#FF0000\", \"#800000\", \"#FFFF00\"]\n",
    "# Expected Output: [{'color_name': 'Black', 'color_code': '#000000'}, {'color_name': 'Red', 'color_code': '#FF0000'}, {'color_name': 'Maroon', 'color_code': '#800000'}, {'color_name': 'Yellow', 'color_code': '#FFFF00'}]\n",
    "\n",
    "color_name = [\"Black\", \"Red\", \"Maroon\", \"Yellow\"]\n",
    "color_code = [\"#000000\", \"#FF0000\", \"#800000\", \"#FFFF00\"]\n",
    "print([{'color_name': f, 'color_code': c} for f, c in zip(color_name, color_code)])\n"
   ]
  },
  {
   "cell_type": "code",
   "execution_count": 47,
   "metadata": {},
   "outputs": [
    {
     "data": {
      "text/plain": [
       "{'Black': '#000000',\n",
       " 'Red': '#FF0000',\n",
       " 'Maroon': '#800000',\n",
       " 'Yellow': '#FFFF00'}"
      ]
     },
     "execution_count": 47,
     "metadata": {},
     "output_type": "execute_result"
    }
   ],
   "source": [
    "color_name = [\"Black\", \"Red\", \"Maroon\", \"Yellow\"]\n",
    "color_code = [\"#000000\", \"#FF0000\", \"#800000\", \"#FFFF00\"]\n",
    "d={}\n",
    "for i , j in zip(color_name,color_code):\n",
    "    d[i]=j\n",
    "d"
   ]
  },
  {
   "cell_type": "code",
   "execution_count": 48,
   "metadata": {},
   "outputs": [
    {
     "name": "stdout",
     "output_type": "stream",
     "text": [
      "Sorted List: \n",
      "[{'key': {'subkey': 10}}, {'key': {'subkey': 5}}, {'key': {'subkey': 1}}]\n"
     ]
    }
   ],
   "source": [
    "#50. Write a Python program to sort a list of nested dictionaries. \n",
    "\n",
    "my_list = [{'key': {'subkey': 1}}, {'key': {'subkey': 10}}, {'key': {'subkey': 5}}]\n",
    "my_list.sort(key=lambda e: e['key']['subkey'], reverse=True)\n",
    "print(\"Sorted List: \")\n",
    "print(my_list)\n"
   ]
  },
  {
   "cell_type": "code",
   "execution_count": 49,
   "metadata": {},
   "outputs": [
    {
     "name": "stdout",
     "output_type": "stream",
     "text": [
      "Color1-Color2:  ['red', 'orange', 'white']\n",
      "Color2-Color1:  ['black', 'yellow']\n"
     ]
    }
   ],
   "source": [
    "# 52. Write a Python program to compute the difference between two lists. Go to the editor\n",
    "# Sample data: [\"red\", \"orange\", \"green\", \"blue\", \"white\"], [\"black\", \"yellow\", \"green\", \"blue\"]\n",
    "# Expected Output:\n",
    "# Color1-Color2: ['white', 'orange', 'red']\n",
    "# Color2-Color1: ['black', 'yellow']\n",
    "\n",
    "from collections import Counter\n",
    "color1 = [\"red\", \"orange\", \"green\", \"blue\", \"white\"]\n",
    "color2 = [\"black\", \"yellow\", \"green\", \"blue\"]\n",
    "counter1 = Counter(color1)\n",
    "counter2 = Counter(color2)\n",
    "print(\"Color1-Color2: \",list(counter1 - counter2))\n",
    "print(\"Color2-Color1: \",list(counter2 - counter1))\n"
   ]
  },
  {
   "cell_type": "code",
   "execution_count": 50,
   "metadata": {},
   "outputs": [
    {
     "name": "stdout",
     "output_type": "stream",
     "text": [
      "[1, 3, 5, 7, 9, 2, 4, 6, 8]\n"
     ]
    }
   ],
   "source": [
    "# 58. Write a Python program to replace the last element in a list with another list. Go to the editor\n",
    "# Sample data : [1, 3, 5, 7, 9, 10], [2, 4, 6, 8]\n",
    "# Expected Output: [1, 3, 5, 7, 9, 2, 4, 6, 8]\n",
    "\n",
    "num1 = [1, 3, 5, 7, 9, 10]\n",
    "num2 = [2, 4, 6, 8]\n",
    "num1[-1:] = num2\n",
    "print(num1)\n"
   ]
  },
  {
   "cell_type": "code",
   "execution_count": 51,
   "metadata": {},
   "outputs": [
    {
     "name": "stdout",
     "output_type": "stream",
     "text": [
      "[10, 11, 12]\n"
     ]
    }
   ],
   "source": [
    "# 66. Write a Python program to find the list in a list of lists whose sum of elements is the highest. Go to the editor\n",
    "# Sample lists: [1,2,3], [4,5,6], [10,11,12], [7,8,9]\n",
    "# Expected Output: [10, 11, 12]\n",
    "\n",
    "num = [[1,2,3], [4,5,6], [10,11,12], [7,8,9]]\n",
    "print(max(num, key=sum))\n"
   ]
  },
  {
   "cell_type": "code",
   "execution_count": 1,
   "metadata": {},
   "outputs": [
    {
     "name": "stdout",
     "output_type": "stream",
     "text": [
      "['emp1', 'emp2', 'emp3', 'emp4']\n"
     ]
    }
   ],
   "source": [
    "# Write a Python program to insert a given string at the beginning of all items in a list.\n",
    "\n",
    "# Sample list : [1,2,3,4], string : emp\n",
    "# Expected output : ['emp1', 'emp2', 'emp3', 'emp4']\n",
    "\n",
    "num = [1,2,3,4]\n",
    "print(['emp{0}'.format(i) for i in  num])\n"
   ]
  },
  {
   "cell_type": "code",
   "execution_count": 5,
   "metadata": {},
   "outputs": [
    {
     "name": "stdout",
     "output_type": "stream",
     "text": [
      "[3, 4, 6, 2, 6, 7, 6, 9, 10, 7, 4, 4, 5, 3, 2, 9, 7, 1, 0, 0, 0, 0, 0, 0, 0, 0, 0]\n"
     ]
    }
   ],
   "source": [
    "# 65. Write a Python program to move all zero digits to the end of a given list of numbers. Go to the editor\n",
    "# Expected output:\n",
    "# Original list:\n",
    "# [3, 4, 0, 0, 0, 6, 2, 0, 6, 7, 6, 0, 0, 0, 9, 10, 7, 4, 4, 5, 3, 0, 0, 2, 9, 7, 1]\n",
    "# Move all zero digits to end of the said list of numbers:\n",
    "# [3, 4, 6, 2, 6, 7, 6, 9, 10, 7, 4, 4, 5, 3, 2, 9, 7, 1, 0, 0, 0, 0, 0, 0, 0, 0, 0]\n",
    "\n",
    "\n",
    "def test(lst):\n",
    "    result = sorted(lst, key=lambda x: not x) \n",
    "    return result\n",
    "nums = [3,4,0,0,0,6,2,0,6,7,6,0,0,0,9,10,7,4,4,5,3,0,0,2,9,7,1]\n",
    "print(test(nums)) "
   ]
  },
  {
   "cell_type": "code",
   "execution_count": 7,
   "metadata": {},
   "outputs": [
    {
     "name": "stdout",
     "output_type": "stream",
     "text": [
      "True\n",
      "False\n"
     ]
    }
   ],
   "source": [
    "#67. Write a Python program to find all the values in a list that are greater than a specified number\n",
    "\n",
    "list1 = [220, 330, 500]\n",
    "list2 = [12, 17, 21]\n",
    "print(all(x >= 200 for x in list1))\n",
    "print(all(x >= 25 for x in list2))\n"
   ]
  },
  {
   "cell_type": "code",
   "execution_count": 15,
   "metadata": {},
   "outputs": [
    {
     "name": "stdout",
     "output_type": "stream",
     "text": [
      "[40, 50, 60, 10, 20, 30]\n",
      "[10, 20, 30, 40, 50, 60]\n"
     ]
    }
   ],
   "source": [
    "# 68. Write a Python program to extend a list without appending. Go to the editor\n",
    "# Sample data: [10, 20, 30]\n",
    "# [40, 50, 60]\n",
    "# Expected output : [40, 50, 60, 10, 20, 30]\n",
    "\n",
    "x = [10, 20, 30]\n",
    "y = [40, 50, 60]\n",
    "x[:0] =y\n",
    "print(x)\n",
    "\n",
    "\n",
    "\n",
    "a = [10, 20, 30]\n",
    "b = [40, 50, 60]\n",
    "\n",
    "a.extend(b)\n",
    "print(a)"
   ]
  },
  {
   "cell_type": "code",
   "execution_count": 19,
   "metadata": {},
   "outputs": [
    {
     "name": "stdout",
     "output_type": "stream",
     "text": [
      "[[10, 20], [30, 56, 25], [33], [40]]\n",
      "[[10, 20], [40], [30, 56, 25], [33]]\n"
     ]
    }
   ],
   "source": [
    "#69. Write a Python program to remove duplicates from a list of lists. Go to the editor\n",
    "# Sample list : [[10, 20], [40], [30, 56, 25], [10, 20], [33], [40]]\n",
    "# New List : [[10, 20], [30, 56, 25], [33], [40]]\n",
    "\n",
    "import itertools\n",
    "num = [[10, 20], [40], [30, 56, 25], [10, 20], [33], [40]]\n",
    "num.sort()\n",
    "new_num = list(num for num,_ in itertools.groupby(num))\n",
    "print(new_num)\n",
    "\n",
    "\n",
    "####################\n",
    "nums = [[10, 20], [40], [30, 56, 25], [10, 20], [33], [40]]\n",
    "l2=[]\n",
    "for i in nums:\n",
    "    if i not in l2:\n",
    "        l2.append(i)\n",
    "print(l2)"
   ]
  },
  {
   "cell_type": "code",
   "execution_count": 21,
   "metadata": {},
   "outputs": [
    {
     "name": "stdout",
     "output_type": "stream",
     "text": [
      "['abcd', 'abc', 'acjd']\n",
      "['dagfa']\n",
      "[]\n"
     ]
    }
   ],
   "source": [
    "# 70. Write a Python program to find items starting with a specific character from a list. Go to the editor\n",
    "# Expected Output:\n",
    "# Original list:\n",
    "# ['abcd', 'abc', 'bcd', 'bkie', 'cder', 'cdsw', 'sdfsd', 'dagfa', 'acjd']\n",
    "# Items start with a from the said list:\n",
    "# ['abcd', 'abc', 'acjd']\n",
    "# Items start with d from the said list:\n",
    "# ['dagfa']\n",
    "# Items start with w from the said list:\n",
    "# []\n",
    "\n",
    "def test(lst, char):\n",
    "    result = [i for i in lst if i.startswith(char)]\n",
    "    return result\n",
    "text = [\"abcd\", \"abc\", \"bcd\", \"bkie\", \"cder\", \"cdsw\", \"sdfsd\", \"dagfa\", \"acjd\"]\n",
    "char = \"a\"\n",
    "print(test(text, char))\n",
    "char = \"d\"\n",
    "print(test(text, char))\n",
    "char = \"w\"\n",
    "print(test(text, char))\n"
   ]
  },
  {
   "cell_type": "code",
   "execution_count": 32,
   "metadata": {},
   "outputs": [
    {
     "name": "stdout",
     "output_type": "stream",
     "text": [
      "['bcd', 'bkie']\n",
      "['abcd', 'abc', 'acjd']\n",
      "[]\n"
     ]
    }
   ],
   "source": [
    "def fun(text,char):\n",
    "    l2=[]\n",
    "    for i in text:\n",
    "        if i.startswith(char):\n",
    "            l2.append(i)\n",
    "    return l2\n",
    "text = [\"abcd\", \"abc\", \"bcd\", \"bkie\", \"cder\", \"cdsw\", \"sdfsd\", \"dagfa\", \"acjd\"]\n",
    "char='b'\n",
    "print(fun(text,char))\n",
    "print(fun(text,'a'))\n",
    "print(fun(text,'z'))"
   ]
  },
  {
   "cell_type": "code",
   "execution_count": 34,
   "metadata": {},
   "outputs": [
    {
     "name": "stdout",
     "output_type": "stream",
     "text": [
      "[0, 10, 20, 30, 40, 50, 60, 70, 80, 90, 100, 110, 120]\n"
     ]
    }
   ],
   "source": [
    "# 72. Write a Python program to flatten a given nested list structure. Go to the editor\n",
    "# Original list: [0, 10, [20, 30], 40, 50, [60, 70, 80], [90, 100, 110, 120]]\n",
    "# Flatten list:\n",
    "# [0, 10, 20, 30, 40, 50, 60, 70, 80, 90, 100, 110, 120]\n",
    "\n",
    "def flatten_list(n_list):\n",
    "    result_list = []\n",
    "    if not n_list: return result_list\n",
    "    stack = [list(n_list)]\n",
    "    while stack:\n",
    "        c_num = stack.pop()\n",
    "        next = c_num.pop()\n",
    "        if c_num: stack.append(c_num)\n",
    "        if isinstance(next, list):\n",
    "            if next: stack.append(list(next))\n",
    "        else: result_list.append(next)\n",
    "    result_list.reverse()\n",
    "    return result_list \n",
    "n_list = [0, 10, [20, 30], 40, 50, [60, 70, 80], [90, 100, 110, 120]]\n",
    "print(flatten_list(n_list))\n",
    "\n",
    "\n"
   ]
  },
  {
   "cell_type": "code",
   "execution_count": 44,
   "metadata": {},
   "outputs": [
    {
     "name": "stdout",
     "output_type": "stream",
     "text": [
      "[0, 10, 20, 30, 40, 50, 60, 70, 80, 90, 100, 110, 120]\n"
     ]
    }
   ],
   "source": [
    "n= [0, 10, [20, 30], 40, 50, [60, 70, 80], [90, 100, 110, 120]]\n",
    "l1=[]\n",
    "for i in n:\n",
    "    if isinstance(i,int):\n",
    "        l1.append(i)\n",
    "    else:\n",
    "        for j in i:\n",
    "            l1.append(j)\n",
    "print(l1)"
   ]
  },
  {
   "cell_type": "code",
   "execution_count": 48,
   "metadata": {},
   "outputs": [
    {
     "name": "stdout",
     "output_type": "stream",
     "text": [
      "[0, 1, 2, 3, 4, 5, 6, 7, 8, 9, 4]\n"
     ]
    }
   ],
   "source": [
    "# 73. Write a Python program to remove consecutive (following each other continuously) duplicates (elements) from a given list. Go to the editor\n",
    "# Original list:\n",
    "# [0, 0, 1, 2, 3, 4, 4, 5, 6, 6, 6, 7, 8, 9, 4, 4]\n",
    "# After removing consecutive duplicates:\n",
    "# [0, 1, 2, 3, 4, 5, 6, 7, 8, 9, 4]\n",
    "\n",
    "from itertools import groupby\n",
    "def compress(l_nums):\n",
    "    return [key for key, group in groupby(l_nums)] \n",
    "n_list = [0, 0, 1, 2, 3, 4, 4, 5, 6, 6, 6, 7, 8, 9, 4, 4 ]\n",
    "print(compress(n_list)) "
   ]
  },
  {
   "cell_type": "code",
   "execution_count": 50,
   "metadata": {},
   "outputs": [
    {
     "name": "stdout",
     "output_type": "stream",
     "text": [
      "[1, 1, 2, 3, 4, 4, 5, 1]\n",
      "\n",
      "Length of the first part of the list: 3\n",
      "([1, 1, 2], [3, 4, 4, 5, 1])\n"
     ]
    }
   ],
   "source": [
    "# 78. Write a Python program to split a given list into two parts where the length of the first part of the list is given. Go to the editor\n",
    "# Original list:\n",
    "# [1, 1, 2, 3, 4, 4, 5, 1]\n",
    "# Length of the first part of the list: 3\n",
    "# Splited the said list into two parts:\n",
    "# ([1, 1, 2], [3, 4, 4, 5, 1])\n",
    "\n",
    "\n",
    "def split_two_parts(n_list, L):\n",
    "    return n_list[:L], n_list[L:]\n",
    "n_list = [1,1,2,3,4,4,5, 1]\n",
    "print(n_list)\n",
    "first_list_length = 3\n",
    "print(\"\\nLength of the first part of the list:\",first_list_length)\n",
    "print(split_two_parts(n_list, first_list_length))\n",
    "\n"
   ]
  },
  {
   "cell_type": "code",
   "execution_count": 51,
   "metadata": {},
   "outputs": [
    {
     "name": "stdout",
     "output_type": "stream",
     "text": [
      "Original list:\n",
      "[1, 1, 2, 3, 4, 4, 5, 1]\n",
      "\n",
      "After removing an element at the kth position of the said list:\n",
      "[1, 1, 3, 4, 4, 5, 1]\n"
     ]
    }
   ],
   "source": [
    "# 79. Write a Python program to remove the K'th element from a given list, and print the updated list. Go to the editor\n",
    "# Original list:\n",
    "# [1, 1, 2, 3, 4, 4, 5, 1]\n",
    "# After removing an element at the kth position of the said list:\n",
    "# [1, 1, 3, 4, 4, 5, 1]\n",
    "def remove_kth_element(n_list, L):\n",
    "    return  n_list[:L-1] + n_list[L:]\n",
    "\n",
    "n_list = [1,1,2,3,4,4,5,1]\n",
    "print(\"Original list:\") \n",
    "print(n_list)\n",
    "kth_position = 3\n",
    "result = remove_kth_element(n_list, kth_position)\n",
    "print(\"\\nAfter removing an element at the kth position of the said list:\")\n",
    "print(result)\n"
   ]
  },
  {
   "cell_type": "code",
   "execution_count": 52,
   "metadata": {},
   "outputs": [
    {
     "name": "stdout",
     "output_type": "stream",
     "text": [
      "Original list:\n",
      "[1, 1, 2, 3, 4, 4, 5, 1]\n",
      "\n",
      "After inserting an element at kth position in the said list:\n",
      "[1, 1, 12, 2, 3, 4, 4, 5, 1]\n"
     ]
    }
   ],
   "source": [
    "# 80. Write a Python program to insert an element at a specified position into a given list. Go to the editor\n",
    "# Original list:\n",
    "# [1, 1, 2, 3, 4, 4, 5, 1]\n",
    "# After inserting an element at kth position in the said list:\n",
    "# [1, 1, 12, 2, 3, 4, 4, 5, 1]\n",
    "def insert_spec_position(x, n_list, pos):\n",
    "    return n_list[:pos-1]+[x]+n_list[pos-1:]\n",
    "n_list = [1,1,2,3,4,4,5,1]\n",
    "print(\"Original list:\") \n",
    "print(n_list)\n",
    "kth_position = 3\n",
    "x = 12\n",
    "result = insert_spec_position(x, n_list, kth_position)\n",
    "print(\"\\nAfter inserting an element at kth position in the said list:\")\n",
    "print(result)\n"
   ]
  },
  {
   "cell_type": "code",
   "execution_count": 54,
   "metadata": {},
   "outputs": [
    {
     "name": "stdout",
     "output_type": "stream",
     "text": [
      "\n",
      "Selected 3 random numbers of the above list:\n",
      "[5, 4, 1]\n"
     ]
    }
   ],
   "source": [
    "# 81. Write a Python program to extract a given number of randomly selected elements from a given list. Go to the editor\n",
    "# Original list:\n",
    "# [1, 1, 2, 3, 4, 4, 5, 1]\n",
    "# Selected 3 random numbers of the above list:\n",
    "# [4, 4, 1]\n",
    "\n",
    "import random\n",
    "def random_select_nums(n_list, n):\n",
    "        return random.sample(n_list, n)\n",
    "n_list = [1,1,2,3,4,4,5,1]\n",
    "selec_nums = 3\n",
    "result = random_select_nums(n_list, selec_nums)\n",
    "print(\"\\nSelected 3 random numbers of the above list:\")\n",
    "print(result) \n"
   ]
  },
  {
   "cell_type": "code",
   "execution_count": null,
   "metadata": {},
   "outputs": [],
   "source": [
    "82. Write a Python program to generate combinations of n distinct objects taken from the elements of a given list. Go to the editor\n",
    "Original list: [1, 2, 3, 4, 5, 6, 7, 8, 9] Combinations of 2 distinct objects: [1, 2] [1, 3] [1, 4] [1, 5] .... [7, 8] [7, 9] [8, 9]"
   ]
  }
 ],
 "metadata": {
  "kernelspec": {
   "display_name": "Python 3",
   "language": "python",
   "name": "python3"
  },
  "language_info": {
   "codemirror_mode": {
    "name": "ipython",
    "version": 3
   },
   "file_extension": ".py",
   "mimetype": "text/x-python",
   "name": "python",
   "nbconvert_exporter": "python",
   "pygments_lexer": "ipython3",
   "version": "3.8.10"
  },
  "orig_nbformat": 4
 },
 "nbformat": 4,
 "nbformat_minor": 2
}

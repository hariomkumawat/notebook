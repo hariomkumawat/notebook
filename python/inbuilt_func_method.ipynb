{
 "cells": [
  {
   "cell_type": "code",
   "execution_count": 1,
   "metadata": {},
   "outputs": [
    {
     "data": {
      "text/plain": [
       "[1, 2, 3, 4, 67, 8, 4, 90]"
      ]
     },
     "execution_count": 1,
     "metadata": {},
     "output_type": "execute_result"
    }
   ],
   "source": [
    "l=[1,2,3,4,67,8,4]\n",
    "l.append(90)\n",
    "l"
   ]
  },
  {
   "cell_type": "code",
   "execution_count": 4,
   "metadata": {},
   "outputs": [
    {
     "name": "stdout",
     "output_type": "stream",
     "text": [
      "[1, 2, 3, 4, 6]\n"
     ]
    }
   ],
   "source": [
    "# append function\n",
    "def append(lst,value):\n",
    "    length=len(lst)\n",
    "    lst+=[None]\n",
    "    lst[length]=value\n",
    "my_list=[1,2,3,4]\n",
    "append(my_list,6)\n",
    "print(my_list)"
   ]
  },
  {
   "cell_type": "code",
   "execution_count": 5,
   "metadata": {},
   "outputs": [
    {
     "name": "stdout",
     "output_type": "stream",
     "text": [
      "[2, 3, 5, 7, 8, 80]\n"
     ]
    }
   ],
   "source": [
    "# append function\n",
    "\n",
    "def append(lst,value):\n",
    "    l=0\n",
    "    for i in lst:\n",
    "        l+=1\n",
    "    lst+=[None]\n",
    "    lst[l]=value\n",
    "my_list=[2,3,5,7,8]\n",
    "append(my_list,80)\n",
    "print(my_list)"
   ]
  },
  {
   "cell_type": "code",
   "execution_count": 6,
   "metadata": {},
   "outputs": [
    {
     "name": "stdout",
     "output_type": "stream",
     "text": [
      "[213, 43, 56, 76, 3, 4, 2, 4, 5, 6, 65]\n"
     ]
    }
   ],
   "source": [
    "# extend function \n",
    "def extend(lst,new_lst):\n",
    "    for i in new_lst:\n",
    "        lst+=[i]\n",
    "my_list=[213,43,56,76,3,4]\n",
    "new_lst=[2,4,5,6,65]\n",
    "extend(my_list,new_lst)\n",
    "print(my_list)"
   ]
  },
  {
   "cell_type": "code",
   "execution_count": 18,
   "metadata": {},
   "outputs": [
    {
     "name": "stdout",
     "output_type": "stream",
     "text": [
      "[21, 4, 34, 5, 67, 32]\n"
     ]
    }
   ],
   "source": [
    "# insert funcion\n",
    "\n",
    "def insert(lst,index,value):\n",
    "    lst+=[None]\n",
    "    for i in range(len(lst)-1,index,-1):\n",
    "        lst[i]=lst[i-1]\n",
    "    lst[index]=value\n",
    "my_list=[21,34,5,67,32]\n",
    "insert(my_list,1,4)\n",
    "print(my_list)"
   ]
  },
  {
   "cell_type": "code",
   "execution_count": 23,
   "metadata": {},
   "outputs": [
    {
     "name": "stdout",
     "output_type": "stream",
     "text": [
      "[23, 54, 3, 56, 87, 87]\n"
     ]
    }
   ],
   "source": [
    "# remove function\n",
    "def remove(lst,value):\n",
    "    index=None\n",
    "    for i in range(len(lst)):\n",
    "        if lst[i]==value:\n",
    "            index=i\n",
    "            break\n",
    "    if index is None:\n",
    "        raise ValueError('value not found in list')\n",
    "    for i in range(index,len(lst)-1):\n",
    "        lst[i]=lst[i+1]\n",
    "    lst=lst[:-1]\n",
    "my_list=[23,54,67,3,56,87]\n",
    "remove(my_list,67)\n",
    "print(my_list)"
   ]
  },
  {
   "cell_type": "code",
   "execution_count": null,
   "metadata": {},
   "outputs": [],
   "source": [
    "def remove(lst, value):\n",
    "    \"\"\"\n",
    "    Removes the first occurrence of the given value from the list.\n",
    "\n",
    "    :param lst: The list to remove from.\n",
    "    :param value: The value to remove.\n",
    "    \"\"\"\n",
    "    # Find the index of the first occurrence of the value\n",
    "    index = None\n",
    "    for i in range(len(lst)):\n",
    "        if lst[i] == value:\n",
    "            index = i\n",
    "            break\n",
    "    # If the value was not found, raise a ValueError\n",
    "    if index is None:\n",
    "        raise ValueError(\"Value not found in list\")\n",
    "    # Shift all elements to the right of the index to the left\n",
    "    for i in range(index, len(lst)-1):\n",
    "        lst[i] = lst[i+1]\n",
    "    # Resize the list to remove the last element\n",
    "    lst = lst[:-1]\n",
    "my_list = [1, 2, 3, 2]\n",
    "remove(my_list,2)\n",
    "print(my_list)  # Output: [1, 3, 2]\n"
   ]
  },
  {
   "cell_type": "code",
   "execution_count": 30,
   "metadata": {},
   "outputs": [
    {
     "name": "stdout",
     "output_type": "stream",
     "text": [
      "[4, 56, 78, 45, 34, 34]\n"
     ]
    }
   ],
   "source": [
    "def pop_func(lst,index=-1):\n",
    "    if len(lst)==0:\n",
    "        raise IndexError('pop from empty list')\n",
    "    if index<-len(lst) or index>=len(lst):\n",
    "        raise IndexError('pop index out of range')\n",
    "    if index<0:\n",
    "        index+=len(lst)\n",
    "    remove_ele=lst[index]\n",
    "    for i in range(index,len(lst)-1):\n",
    "        lst[i]=lst[i+1]\n",
    "    lst=lst[:-1]\n",
    "    return remove_ele\n",
    "my_list=[23,4,56,78,45,34]\n",
    "pop_func(my_list,0)\n",
    "print(my_list)"
   ]
  },
  {
   "cell_type": "code",
   "execution_count": 31,
   "metadata": {},
   "outputs": [
    {
     "name": "stdout",
     "output_type": "stream",
     "text": [
      "[1, 3, 3]\n",
      "2\n"
     ]
    }
   ],
   "source": [
    "def pop(lst, index=-1):\n",
    "    \"\"\"\n",
    "    Removes and returns the element at the specified index. If no index is specified, removes and returns the last element.\n",
    "\n",
    "    :param lst: The list to pop from.\n",
    "    :param index: The index of the element to remove.\n",
    "    :return: The removed element.\n",
    "    \"\"\"\n",
    "    # Handle the case where the list is empty\n",
    "    if len(lst) == 0:\n",
    "        raise IndexError(\"pop from empty list\")\n",
    "    # Handle the case where the index is out of range\n",
    "    if index < -len(lst) or index >= len(lst):\n",
    "        raise IndexError(\"pop index out of range\")\n",
    "    # Handle the case where a negative index is specified\n",
    "    if index < 0:\n",
    "        index += len(lst)\n",
    "    # Remove the element at the specified index\n",
    "    removed_element = lst[index]\n",
    "    # Shift all elements to the left of the index to the right by one position\n",
    "    for i in range(index, len(lst)-1):\n",
    "        lst[i] = lst[i+1]\n",
    "    # Remove the last element of the list\n",
    "    lst = lst[:-1]\n",
    "    # Return the removed element\n",
    "    return removed_element\n",
    "my_list = [1, 2, 3]\n",
    "removed_element = pop(my_list, 1)\n",
    "print(my_list)  # Output: [1, 3]\n",
    "print(removed_element)  # Output: 2\n"
   ]
  },
  {
   "cell_type": "code",
   "execution_count": 33,
   "metadata": {},
   "outputs": [
    {
     "name": "stdout",
     "output_type": "stream",
     "text": [
      "[]\n"
     ]
    }
   ],
   "source": [
    "def clear(lst):\n",
    "    \"\"\"\n",
    "    Removes all elements from the list.\n",
    "\n",
    "    :param lst: The list to clear.\n",
    "    \"\"\"\n",
    "    while len(lst) > 0:\n",
    "        lst.pop()\n",
    "my_list = [1, 2, 3]\n",
    "clear(my_list)\n",
    "print(my_list)  # Output: []\n"
   ]
  },
  {
   "cell_type": "code",
   "execution_count": 34,
   "metadata": {},
   "outputs": [
    {
     "name": "stdout",
     "output_type": "stream",
     "text": [
      "[]\n"
     ]
    }
   ],
   "source": [
    "def clear(lst):\n",
    "    \"\"\"\n",
    "    Removes all elements from the list.\n",
    "\n",
    "    :param lst: The list to clear.\n",
    "    \"\"\"\n",
    "    # Set the length of the list to 0\n",
    "    lst_length = len(lst)\n",
    "    i = 0\n",
    "    while i < lst_length:\n",
    "        lst[i] = None\n",
    "        i += 1\n",
    "    del lst[:]\n",
    "my_list = [1, 2, 3]\n",
    "clear(my_list)\n",
    "print(my_list)  # Output: []"
   ]
  },
  {
   "cell_type": "code",
   "execution_count": 37,
   "metadata": {},
   "outputs": [
    {
     "name": "stdout",
     "output_type": "stream",
     "text": [
      "4\n"
     ]
    }
   ],
   "source": [
    "#index return \n",
    "def index(lst,value):\n",
    "    for i in range(len(lst)):\n",
    "        if lst[i]==value:\n",
    "            return i\n",
    "    raise ValueError('item not in list')\n",
    "l=[21,43,56,76,67]\n",
    "i=index(l,67)\n",
    "print(i)"
   ]
  },
  {
   "cell_type": "code",
   "execution_count": 38,
   "metadata": {},
   "outputs": [
    {
     "name": "stdout",
     "output_type": "stream",
     "text": [
      "[6, 12, 21, 21, 23, 23, 23, 43, 43, 54, 54, 76, 78]\n"
     ]
    }
   ],
   "source": [
    "def sort(lst):\n",
    "    for i in range(len(lst)):\n",
    "        for j in range(i+1,len(lst)):\n",
    "            if lst[i]>lst[j]:\n",
    "                lst[i],lst[j]=lst[j],lst[i]\n",
    "l=[21,43,54,6,78,54,23,21,23,76,23,12,43,]\n",
    "sort(l)\n",
    "print(l)"
   ]
  },
  {
   "cell_type": "code",
   "execution_count": 39,
   "metadata": {},
   "outputs": [
    {
     "name": "stdout",
     "output_type": "stream",
     "text": [
      "[78, 76, 54, 54, 43, 43, 23, 23, 23, 21, 21, 12, 6]\n"
     ]
    }
   ],
   "source": [
    "def sort_reverse(lst):\n",
    "    for i in range(len(lst)):\n",
    "        for j in range(i+1,len(lst)):\n",
    "            if lst[i]<lst[j]:\n",
    "                lst[i],lst[j]=lst[j],lst[i]\n",
    "l=[21,43,54,6,78,54,23,21,23,76,23,12,43,]\n",
    "sort_reverse(l)\n",
    "print(l)"
   ]
  },
  {
   "cell_type": "code",
   "execution_count": 48,
   "metadata": {},
   "outputs": [
    {
     "name": "stdout",
     "output_type": "stream",
     "text": [
      "[5, 4, 3, 8, 10, 2, 1]\n"
     ]
    }
   ],
   "source": [
    "#reverse function\n",
    "def reverse(lst):\n",
    "    left=0\n",
    "    right=len(lst)-1\n",
    "    while left<right:\n",
    "        lst[left],lst[right]=lst[right],lst[left]\n",
    "        left+=1\n",
    "        right-=1\n",
    "l=[1,2,10,8,3,4,5]\n",
    "reverse(l)\n",
    "print(l)\n"
   ]
  },
  {
   "cell_type": "code",
   "execution_count": 50,
   "metadata": {},
   "outputs": [
    {
     "name": "stdout",
     "output_type": "stream",
     "text": [
      "[1, 2, 3, 4]\n"
     ]
    }
   ],
   "source": [
    "#copy function\n",
    "def copy(lst):\n",
    "    new_lst=[]\n",
    "    n=len(lst)\n",
    "    for i in range(n):\n",
    "        new_lst[i:i+1]=[lst[i]]\n",
    "    return new_lst\n",
    "l=[1,2,3,4]\n",
    "new_lst=copy(l)\n",
    "print(new_lst)"
   ]
  },
  {
   "cell_type": "code",
   "execution_count": 55,
   "metadata": {},
   "outputs": [
    {
     "name": "stdout",
     "output_type": "stream",
     "text": [
      "4\n"
     ]
    }
   ],
   "source": [
    "def count(lst,item):\n",
    "    count=0\n",
    "    for i in lst:\n",
    "        if i ==item:\n",
    "            count+=1\n",
    "    return count\n",
    "l=[2,3,2,3,2,3,4,5,2,45]\n",
    "c=count(l,2)\n",
    "print(c)"
   ]
  },
  {
   "cell_type": "code",
   "execution_count": 8,
   "metadata": {},
   "outputs": [
    {
     "name": "stdout",
     "output_type": "stream",
     "text": [
      "[2, 4, 4, 21, 32, 34, 45, 67]\n",
      "4489\n",
      "209\n",
      "True\n"
     ]
    }
   ],
   "source": [
    "# sort a array and sum of array and which product are 2 gretest value and then\n",
    "# the product is greater then sum*2 retun true else False \n",
    "def sort(lst):\n",
    "    for i in range(len(lst)):\n",
    "        for j in range(i+1,len(lst)):\n",
    "            if lst[i]>lst[j]:\n",
    "                lst[i],lst[j]=lst[j],lst[i]\n",
    "l=[2,4,4,67,34,21,45,32]\n",
    "sort(l)\n",
    "print(l)\n",
    "gretest=l[-1]*l[-1]\n",
    "print(gretest)\n",
    "sum=0\n",
    "for i in l:\n",
    "    sum=sum+i\n",
    "print(sum)\n",
    "if gretest>(sum*2):\n",
    "    print('True')\n",
    "else:\n",
    "    print('Flase')"
   ]
  },
  {
   "cell_type": "code",
   "execution_count": 33,
   "metadata": {},
   "outputs": [
    {
     "name": "stdout",
     "output_type": "stream",
     "text": [
      "Duplicate characters: ['l', 'o']\n"
     ]
    }
   ],
   "source": []
  },
  {
   "cell_type": "code",
   "execution_count": null,
   "metadata": {},
   "outputs": [],
   "source": []
  }
 ],
 "metadata": {
  "kernelspec": {
   "display_name": "Python 3",
   "language": "python",
   "name": "python3"
  },
  "language_info": {
   "codemirror_mode": {
    "name": "ipython",
    "version": 3
   },
   "file_extension": ".py",
   "mimetype": "text/x-python",
   "name": "python",
   "nbconvert_exporter": "python",
   "pygments_lexer": "ipython3",
   "version": "3.8.10"
  },
  "orig_nbformat": 4,
  "vscode": {
   "interpreter": {
    "hash": "916dbcbb3f70747c44a77c7bcd40155683ae19c65e1c03b4aa3499c5328201f1"
   }
  }
 },
 "nbformat": 4,
 "nbformat_minor": 2
}

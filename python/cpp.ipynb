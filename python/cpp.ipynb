{
 "cells": [
  {
   "cell_type": "code",
   "execution_count": 4,
   "metadata": {},
   "outputs": [
    {
     "name": "stdout",
     "output_type": "stream",
     "text": [
      "dlrow olleh\n"
     ]
    }
   ],
   "source": [
    "#1. Write a python  program to reverse a given string without  using inbuilt function and method.\n",
    "string='hello world'\n",
    "ns=''\n",
    "for i in range(len(string)-1,-1,-1):\n",
    "    ns+=string[i]\n",
    "print(ns)"
   ]
  },
  {
   "cell_type": "code",
   "execution_count": 7,
   "metadata": {},
   "outputs": [
    {
     "name": "stdout",
     "output_type": "stream",
     "text": [
      "Ifmmp xpsme\n"
     ]
    }
   ],
   "source": [
    "#2. Write a python program to change every letter in a given string with the letter following it in the alphabet (i.e. a becomes b, p becomes q, z becomes a)  without using an inbuilt function and method.\n",
    "\n",
    "s='Hello world'\n",
    "res=''\n",
    "for i in s:\n",
    "    if i.isalpha():\n",
    "        if i=='z':\n",
    "            res+='a'\n",
    "        elif i=='Z':\n",
    "            res+='A'\n",
    "        else:\n",
    "            res+=chr(ord(i)+1)\n",
    "    else:\n",
    "        res+=i\n",
    "print(res)"
   ]
  },
  {
   "cell_type": "code",
   "execution_count": 10,
   "metadata": {},
   "outputs": [
    {
     "name": "stdout",
     "output_type": "stream",
     "text": [
      "HelloWorld,HowAreYouToday?\n"
     ]
    }
   ],
   "source": [
    "#3. Write a Python program to capitalize the first letter of each word in a given string. Words must be separated by only one space without using an inbuilt function or method.\n",
    "string = 'hello world, how are you today?'\n",
    "result = \"\"\n",
    "capitalize_next = True\n",
    "for char in string:\n",
    "    if char == ' ':\n",
    "        capitalize_next = True\n",
    "    elif capitalize_next:\n",
    "        result += char.upper()\n",
    "        capitalize_next = False\n",
    "    else:\n",
    "        result += char\n",
    "\n",
    "print( result)\n"
   ]
  },
  {
   "cell_type": "code",
   "execution_count": 13,
   "metadata": {},
   "outputs": [
    {
     "name": "stdout",
     "output_type": "stream",
     "text": [
      "programming\n"
     ]
    }
   ],
   "source": [
    "#4. Write a python program to find the largest word in a given string without using an inbuilt function or method.\n",
    "string = 'C++ is a general - purpose programming language'\n",
    "max_word = \"\"\n",
    "current_word = \"\"\n",
    "for char in string:\n",
    "    if char != ' ':\n",
    "        current_word += char\n",
    "    else:\n",
    "        if len(current_word) > len(max_word):\n",
    "            max_word = current_word\n",
    "        current_word = \"\"\n",
    "# Check if last word is the largest\n",
    "if len(current_word) > len(max_word):\n",
    "    max_word = current_word\n",
    "print( max_word)"
   ]
  },
  {
   "cell_type": "code",
   "execution_count": 14,
   "metadata": {},
   "outputs": [
    {
     "name": "stdout",
     "output_type": "stream",
     "text": [
      "hnopty\n"
     ]
    }
   ],
   "source": [
    "#5. Write a C++ program to sort characters (numbers and punctuation symbols are not included) in a string. without using an inbuilt function or method.\n",
    "string = 'python'\n",
    "# Create a list to hold the sorted characters\n",
    "sorted_chars = []\n",
    "# Iterate over each character in the string\n",
    "for char in string:\n",
    "    # Check if the character is a letter\n",
    "    if char.isalpha():\n",
    "        # Append the character to the sorted list\n",
    "        sorted_chars.append(char)\n",
    "# Sort the list of characters\n",
    "for i in range(len(sorted_chars)):\n",
    "    for j in range(i + 1, len(sorted_chars)):\n",
    "        if sorted_chars[i] > sorted_chars[j]:\n",
    "            sorted_chars[i], sorted_chars[j] = sorted_chars[j], sorted_chars[i]\n",
    "# Print the sorted list of characters\n",
    "print(\"\".join(sorted_chars))"
   ]
  },
  {
   "cell_type": "code",
   "execution_count": 1,
   "metadata": {},
   "outputs": [
    {
     "name": "stdout",
     "output_type": "stream",
     "text": [
      "Original string:  hello\n",
      "New string:  HELLO\n"
     ]
    }
   ],
   "source": [
    "string = input(\"Enter a string: \")\n",
    "new_string = \"\"\n",
    "\n",
    "for char in string:\n",
    "    if char >= 'a' and char <= 'z':\n",
    "        new_string += chr(ord(char) - 32)\n",
    "    elif char >= 'A' and char <= 'Z':\n",
    "        new_string += chr(ord(char) + 32)\n",
    "    else:\n",
    "        new_string += char\n",
    "\n",
    "print(\"Original string: \", string)\n",
    "print(\"New string: \", new_string)\n"
   ]
  },
  {
   "cell_type": "code",
   "execution_count": null,
   "metadata": {},
   "outputs": [],
   "source": []
  }
 ],
 "metadata": {
  "kernelspec": {
   "display_name": "Python 3",
   "language": "python",
   "name": "python3"
  },
  "language_info": {
   "codemirror_mode": {
    "name": "ipython",
    "version": 3
   },
   "file_extension": ".py",
   "mimetype": "text/x-python",
   "name": "python",
   "nbconvert_exporter": "python",
   "pygments_lexer": "ipython3",
   "version": "3.8.10"
  },
  "orig_nbformat": 4,
  "vscode": {
   "interpreter": {
    "hash": "916dbcbb3f70747c44a77c7bcd40155683ae19c65e1c03b4aa3499c5328201f1"
   }
  }
 },
 "nbformat": 4,
 "nbformat_minor": 2
}

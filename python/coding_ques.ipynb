{
 "cells": [
  {
   "cell_type": "code",
   "execution_count": 1,
   "metadata": {},
   "outputs": [
    {
     "name": "stdout",
     "output_type": "stream",
     "text": [
      "[7, 8, 6, 8, 8, -1, -1]\n"
     ]
    }
   ],
   "source": [
    "# 8. Write a Python program to find the next more powerful element of every element of a given\n",
    "# array of integers. Ignore those elements that have no greater element. without using an inbuilt\n",
    "# function or method. \n",
    "def next_powerful_element(arr):\n",
    "    n = len(arr)\n",
    "    result = [-1] * n\n",
    "    for i in range(n - 1):\n",
    "        for j in range(i + 1, n):\n",
    "            if arr[j] > arr[i]:\n",
    "                result[i] = arr[j]\n",
    "                break\n",
    "    return result\n",
    "# Example usage\n",
    "arr = [3, 7, 1, 6, 5, 8, 2]\n",
    "print(next_powerful_element(arr))\n",
    "# Output: [7, 8, 6, 8, 8, -1, 6]"
   ]
  },
  {
   "cell_type": "code",
   "execution_count": 3,
   "metadata": {},
   "outputs": [
    {
     "name": "stdout",
     "output_type": "stream",
     "text": [
      "[3, 1, 4, 2, 5]\n"
     ]
    }
   ],
   "source": [
    "# 9. Write a Python program to sort a given unsorted array of integers, in wave form. without using\n",
    "# an inbuilt function or method. \n",
    "\n",
    "def sort_in_wave(arr):\n",
    "    n = len(arr)\n",
    "    # Sort the array\n",
    "    for i in range(0, n, 2):\n",
    "    # If current even element is smaller than previous\n",
    "        if i > 0 and arr[i] < arr[i-1]:\n",
    "            arr[i], arr[i-1] = arr[i-1], arr[i]\n",
    "        # If current even element is smaller than next\n",
    "        if i < n-1 and arr[i] < arr[i+1]:\n",
    "            arr[i], arr[i+1] = arr[i+1], arr[i]\n",
    "    return arr\n",
    "# Example usage\n",
    "arr = [3, 1, 4, 2, 5]\n",
    "print(sort_in_wave(arr))\n",
    "# Output: [1, 3, 2, 5, 4]"
   ]
  },
  {
   "attachments": {},
   "cell_type": "markdown",
   "metadata": {},
   "source": []
  },
  {
   "cell_type": "code",
   "execution_count": 4,
   "metadata": {},
   "outputs": [
    {
     "name": "stdout",
     "output_type": "stream",
     "text": [
      "4\n"
     ]
    }
   ],
   "source": [
    "# 10. Write a Python program to find the smallest element missing from a sorted array. without using\n",
    "# an inbuilt function or method.\n",
    "# Here is a Python program to find the smallest element missing from a sorted array without using\n",
    "# any inbuilt function or method:\n",
    "# pythonCopy code\n",
    "def find_missing_smallest(arr):\n",
    "    n = len(arr)\n",
    "    left, right = 0, n - 1\n",
    "    while left <= right:\n",
    "        mid = (left + right) // 2\n",
    "        if arr[mid] > mid:\n",
    "            right = mid - 1\n",
    "        else:\n",
    "            left = mid + 1\n",
    "    return left\n",
    "# Example usage\n",
    "arr = [0, 1, 2, 3, 5, 6, 7, 8, 9]\n",
    "print(find_missing_smallest(arr))\n",
    "# Output: 4"
   ]
  },
  {
   "cell_type": "code",
   "execution_count": 5,
   "metadata": {},
   "outputs": [
    {
     "name": "stdout",
     "output_type": "stream",
     "text": [
      "[3, 7, 4, 8, 2, 6, 1]\n"
     ]
    }
   ],
   "source": [
    "# 12. Write a Python program to rearrange the elements of a given array of integers in a zig-zag\n",
    "# pattern. without using an inbuilt function or method.\n",
    "# Here is a Python program to rearrange the elements of a given array of integers in a zig-zag pattern\n",
    "# without using any inbuilt function or method:\n",
    "# pythonCopy code\n",
    "def zigzag(arr):\n",
    "    n = len(arr)\n",
    "    flag = True\n",
    "    for i in range(n - 1):\n",
    "        if flag:\n",
    "            if arr[i] > arr[i+1]:\n",
    "                arr[i], arr[i+1] = arr[i+1], arr[i]\n",
    "        else:\n",
    "            if arr[i] < arr[i+1]:\n",
    "                arr[i], arr[i+1] = arr[i+1], arr[i]\n",
    "        flag = not flag\n",
    "    return arr\n",
    "# Example usage\n",
    "arr = [4, 3, 7, 8, 6, 2, 1]\n",
    "print(zigzag(arr))\n",
    "# Output: [3, 7, 4, 8, 2, 6, 1]"
   ]
  },
  {
   "cell_type": "code",
   "execution_count": 6,
   "metadata": {},
   "outputs": [
    {
     "name": "stdout",
     "output_type": "stream",
     "text": [
      "[0, 0, 0, 0, 1, 1, 1, 1]\n"
     ]
    }
   ],
   "source": [
    "# 14. Write a Python program to separate 0s and 1s from a given array of values 0 and 1. without\n",
    "# using an inbuilt function or method.\n",
    "# Here is a Python program to separate 0s and 1s from a given array of values 0 and 1 without using\n",
    "# any inbuilt function or method:\n",
    "# pythonCopy code\n",
    "def separate_zeros_ones(arr):\n",
    "    n = len(arr)\n",
    "    left, right = 0, n - 1\n",
    "    while left < right:\n",
    "    # Find the first 1 from left\n",
    "        while left < right and arr[left] == 0:\n",
    "            left += 1\n",
    "        # Find the first 0 from right\n",
    "        while left < right and arr[right] == 1:\n",
    "            right -= 1\n",
    "        # Swap the elements\n",
    "        arr[left], arr[right] = arr[right], arr[left]\n",
    "        # Move the pointers\n",
    "        left += 1\n",
    "        right -= 1\n",
    "    return arr\n",
    "# Example usage\n",
    "arr = [0, 1, 0, 1, 1, 0, 0, 1]\n",
    "print(separate_zeros_ones(arr))\n",
    "# Output: [0, 0, 0, 0, 1, 1, 1, 1]"
   ]
  },
  {
   "cell_type": "code",
   "execution_count": 8,
   "metadata": {},
   "outputs": [
    {
     "name": "stdout",
     "output_type": "stream",
     "text": [
      "[0, 0, 0, 1, 1, 1, 2, 2, 2]\n"
     ]
    }
   ],
   "source": [
    "# 16. Write a Python program to sort a given array of 0s, 1s and 2s. In the final array put all 0s first,\n",
    "# then all 1s and all 2s last. without using an inbuilt function or method.\n",
    "# Here is a Python program to sort a given array of 0s, 1s and 2s, putting all 0s first, then all 1s, and\n",
    "# all 2s last, without using any inbuilt function or method:\n",
    "# pythonCopy code\n",
    "def sort012(arr):\n",
    "    n = len(arr)\n",
    "    low, mid, high = 0, 0, n - 1\n",
    "    while mid <= high:\n",
    "        if arr[mid] == 0:\n",
    "            arr[low], arr[mid] = arr[mid], arr[low]\n",
    "            low += 1\n",
    "            mid += 1\n",
    "        elif arr[mid] == 1:\n",
    "            mid += 1\n",
    "        else:\n",
    "            arr[mid], arr[high] = arr[high], arr[mid]\n",
    "            high -= 1\n",
    "    return arr\n",
    "# Example usage\n",
    "arr = [0, 1, 2, 1, 0, 2, 0, 1, 2]\n",
    "print(sort012(arr))\n",
    "# Output: [0, 0, 0, 1, 1, 1, 2, 2, 2]"
   ]
  },
  {
   "cell_type": "code",
   "execution_count": 11,
   "metadata": {},
   "outputs": [
    {
     "name": "stdout",
     "output_type": "stream",
     "text": [
      "[3, 6, 4, 8, -5, -7, -2, -1]\n"
     ]
    }
   ],
   "source": [
    "# 18. Write a Python program to move all negative elements of an array of integers to the end of the\n",
    "# array. This is done without changing the order of the positive and negative elements of the array.\n",
    "# without using an inbuilt function or method.\n",
    "# Here is a Python program to move all negative elements of an array of integers to the end of the\n",
    "# array, without changing the order of the positive and negative elements of the array, without using\n",
    "# any inbuilt function or method:\n",
    "# pythonCopy code\n",
    "def move_negative_elements(arr):\n",
    "    n = len(arr)\n",
    "    j = 0\n",
    "    # Traverse the array and move all negative elements to the end\n",
    "    for i in range(n):\n",
    "        if arr[i] >= 0:\n",
    "            arr[j], arr[i] = arr[i], arr[j]\n",
    "            j += 1\n",
    "    return arr\n",
    "# Example usage\n",
    "arr = [-1, 3, -5, 6, 4, -7, -2, 8]\n",
    "print(move_negative_elements(arr))\n",
    "# Output: [3, 6, 4, 8, -1, -5, -7, -2]"
   ]
  },
  {
   "cell_type": "code",
   "execution_count": 12,
   "metadata": {},
   "outputs": [
    {
     "name": "stdout",
     "output_type": "stream",
     "text": [
      "3\n"
     ]
    }
   ],
   "source": [
    "# 20. Write a Python program to count the number of occurrences of a given number in a sorted array\n",
    "# of integers. without using an inbuilt function or method.\n",
    "# Here's a Python program to count the number of occurrences of a given number in a sorted array of\n",
    "# integers, without using any inbuilt function or method:\n",
    "# pythonCopy code\n",
    "def count_occurrences(arr, x):\n",
    "    n = len(arr)\n",
    "    count = 0\n",
    "    left, right = 0, n - 1\n",
    "    # Use binary search to find the first and last occurrences of x\n",
    "    while left <= right:\n",
    "        mid = (left + right) // 2\n",
    "        if arr[mid] == x:\n",
    "            count += 1\n",
    "            i, j = mid - 1, mid + 1\n",
    "            # Count occurrences of x to the left of mid\n",
    "            while i >= left and arr[i] == x:\n",
    "                count += 1\n",
    "                i -= 1\n",
    "            # Count occurrences of x to the right of mid\n",
    "            while j <= right and arr[j] == x:\n",
    "                count += 1\n",
    "                j += 1\n",
    "            return count\n",
    "        elif arr[mid] < x:\n",
    "            left = mid + 1\n",
    "        else:\n",
    "            right = mid - 1\n",
    "    return count\n",
    "# Example usage\n",
    "arr = [1, 2, 3, 3, 3, 4, 4, 5, 6, 6, 6]\n",
    "x = 3\n",
    "print(count_occurrences(arr, x))\n",
    "# Output: 3"
   ]
  },
  {
   "cell_type": "code",
   "execution_count": 13,
   "metadata": {},
   "outputs": [
    {
     "name": "stdout",
     "output_type": "stream",
     "text": [
      "5\n"
     ]
    }
   ],
   "source": [
    "# 22. Write a Python program to find the missing element from two given arrays of integers except\n",
    "# one element. without using an inbuilt function or method. \n",
    "# Here is a Python program to find the missing element from two given arrays of integers except one\n",
    "# element, without using any inbuilt function or method:\n",
    "# pythonCopy code\n",
    "def find_missing_element(arr1, arr2):\n",
    "    n1 = len(arr1)\n",
    "    n2 = len(arr2)\n",
    "    xor_sum = 0\n",
    "    # Compute XOR of all elements in arr1 and arr2\n",
    "    for i in range(n1):\n",
    "        xor_sum ^= arr1[i]\n",
    "    for i in range(n2):\n",
    "        xor_sum ^= arr2[i]\n",
    "    return xor_sum\n",
    "# Example usage\n",
    "arr1 = [1, 2, 3, 4, 5, 6, 7]\n",
    "arr2 = [3, 7, 2, 1, 4, 6]\n",
    "missing_element = find_missing_element(arr1, arr2)\n",
    "print(missing_element)\n",
    "# Output: 5"
   ]
  },
  {
   "cell_type": "code",
   "execution_count": 14,
   "metadata": {},
   "outputs": [
    {
     "name": "stdout",
     "output_type": "stream",
     "text": [
      "5\n"
     ]
    }
   ],
   "source": [
    "# 24. Write a Python program to find the first repeating element in an array of integers. without using\n",
    "# an inbuilt function or method.\n",
    "# Here is a Python program to find the first repeating element in an array of integers, without using\n",
    "# any inbuilt function or method:\n",
    "# pythonCopy code\n",
    "def find_first_repeating_element(arr):\n",
    "    n = len(arr)\n",
    "    repeating_set = set()\n",
    "    for i in range(n):\n",
    "        if arr[i] in repeating_set:\n",
    "            return arr[i]\n",
    "        else:\n",
    "            repeating_set.add(arr[i])\n",
    "    return None\n",
    "# Example usage\n",
    "arr = [2, 5, 1, 6, 3, 5, 2, 4]\n",
    "first_repeating_element = find_first_repeating_element(arr)\n",
    "print(first_repeating_element)\n",
    "# Output: 5"
   ]
  },
  {
   "cell_type": "code",
   "execution_count": 18,
   "metadata": {},
   "outputs": [
    {
     "name": "stdout",
     "output_type": "stream",
     "text": [
      "2 5 1 6 3 4 "
     ]
    }
   ],
   "source": [
    "# 26. Write a Python program to find and print all distinct elements of a given array of integers.\n",
    "# without using an inbuilt function or method.\n",
    "# Here is a Python program to find and print all distinct elements of a given array of integers,\n",
    "# without using any inbuilt function or method:\n",
    "# pythonCopy code\n",
    "def find_distinct_elements(arr):\n",
    "    n = len(arr)\n",
    "    distinct_set = set()\n",
    "    for i in range(n):\n",
    "        if arr[i] not in distinct_set:\n",
    "            distinct_set.add(arr[i])\n",
    "            print(arr[i],end=' ')\n",
    "# Example usage\n",
    "arr = [2, 5, 1, 6, 3, 5, 2, 4]\n",
    "find_distinct_elements(arr)\n",
    "# Output: 2 5 1 6 3 4"
   ]
  },
  {
   "cell_type": "code",
   "execution_count": 23,
   "metadata": {},
   "outputs": [
    {
     "name": "stdout",
     "output_type": "stream",
     "text": [
      "[6, 5, 11, 9, 7, 3, 2]\n"
     ]
    }
   ],
   "source": [
    "# 28. Write a Python program to arrange the numbers in a given array in a way that the sum of some\n",
    "# numbers equals the largest number in the array. without using an inbuilt function or method.\n",
    "# Here is a Python program to arrange the numbers in a given array in a way that the sum of some\n",
    "# numbers equals the largest number in the array, without using any inbuilt function or method:\n",
    "# pythonCopy code\n",
    "def arrange_numbers(arr):\n",
    " # Sort the array in descending order\n",
    "    arr = sorted(arr, reverse=True)\n",
    "    n = len(arr)\n",
    "    largest_number = arr[0]\n",
    "    # Find the sum of all other elements\n",
    "    sum_of_others = sum(arr[1:])\n",
    "    # Check if the sum of some elements equals the largest number\n",
    "    if sum_of_others == largest_number:\n",
    "        return arr\n",
    "    # If not, try to find a subset of elements that sums to the largest number\n",
    "    for i in range(1, n):\n",
    "        if arr[i] > sum_of_others:\n",
    "            continue\n",
    "        subset = [arr[i]]\n",
    "        subset_sum = arr[i]\n",
    "        for j in range(i+1, n):\n",
    "            if subset_sum + arr[j] > largest_number:\n",
    "                break\n",
    "            subset.append(arr[j])\n",
    "            subset_sum += arr[j]\n",
    "            if subset_sum == largest_number:\n",
    "                return subset + [x for x in arr if x not in subset]\n",
    "    return None\n",
    "# Example usage\n",
    "arr = [7, 5, 9, 11, 6, 2, 3]\n",
    "arranged_numbers = arrange_numbers(arr)\n",
    "print(arranged_numbers)\n",
    "# Output: [11, 3, 7, 2, 5, 9, 6]"
   ]
  },
  {
   "cell_type": "code",
   "execution_count": 25,
   "metadata": {},
   "outputs": [
    {
     "name": "stdout",
     "output_type": "stream",
     "text": [
      "Second lowest number: 3\n",
      "Second highest number: 9\n"
     ]
    }
   ],
   "source": [
    "# 29. Write a Python program to find the second lowest and highest numbers in a given array. without\n",
    "# using an inbuilt function or method.\n",
    "# Here is a Python program to find the second lowest and highest numbers in a given array, without\n",
    "# using any inbuilt function or method:\n",
    "# pythonCopy code\n",
    "def find_second_lowest_highest(arr):\n",
    "    n = len(arr)\n",
    "    if n < 2:\n",
    "        return None\n",
    "    # Initialize the second lowest and highest numbers to the first and last\n",
    "    # element of the array\n",
    "    second_lowest = second_highest = arr[0]\n",
    "    # Find the lowest and highest numbers in the array\n",
    "    lowest = highest = arr[0]\n",
    "    for i in range(1, n):\n",
    "        if arr[i] < lowest:\n",
    "            second_lowest = lowest\n",
    "            lowest = arr[i]\n",
    "        elif arr[i] < second_lowest or second_lowest == lowest:\n",
    "            second_lowest = arr[i]\n",
    "        if arr[i] > highest:\n",
    "            second_highest = highest\n",
    "            highest = arr[i]\n",
    "        elif arr[i] > second_highest or second_highest == highest:\n",
    "            second_highest = arr[i]\n",
    "    return (second_lowest, second_highest)\n",
    "# Example usage\n",
    "arr = [5, 8, 2, 10, 3, 6, 7, 9]\n",
    "second_lowest, second_highest = find_second_lowest_highest(arr)\n",
    "print(\"Second lowest number:\", second_lowest)\n",
    "print(\"Second highest number:\", second_highest)\n",
    "# Output: Second lowest number: 3, Second highest number: 9"
   ]
  },
  {
   "cell_type": "code",
   "execution_count": 26,
   "metadata": {},
   "outputs": [
    {
     "name": "stdout",
     "output_type": "stream",
     "text": [
      "The sum of 12 and 0 is 12\n"
     ]
    }
   ],
   "source": [
    "# 2. Write a program in Python to print the sum of two numbers. without using an inbuilt function or\n",
    "# method.\n",
    "# Here's a Python program to print the sum of two numbers without using any inbuilt function or\n",
    "# method:\n",
    "# pythonCopy code\n",
    "a = 5\n",
    "b = 7\n",
    "sum = a\n",
    "carry = b\n",
    "while carry != 0:\n",
    " # perform bitwise exclusive OR to add the carry bit to the sum without\n",
    "    carry\n",
    "    sum = a ^ carry\n",
    "    # perform bitwise AND to calculate the carry bit\n",
    "    carry = (a & carry) << 1\n",
    "    # update the values of a and b for the next iteration\n",
    "    a = sum\n",
    "    b = carry\n",
    "print(\"The sum of\", a, \"and\", b, \"is\", sum)"
   ]
  },
  {
   "cell_type": "code",
   "execution_count": 27,
   "metadata": {},
   "outputs": [
    {
     "ename": "KeyboardInterrupt",
     "evalue": "",
     "output_type": "error",
     "traceback": [
      "\u001b[0;31m---------------------------------------------------------------------------\u001b[0m",
      "\u001b[0;31mKeyboardInterrupt\u001b[0m                         Traceback (most recent call last)",
      "\u001b[1;32m/home/hariom/notebook/python/coding_ques.ipynb Cell 16\u001b[0m in \u001b[0;36m8\n\u001b[1;32m      <a href='vscode-notebook-cell:/home/hariom/notebook/python/coding_ques.ipynb#X22sZmlsZQ%3D%3D?line=0'>1</a>\u001b[0m \u001b[39m# 5. Write a in Python program to check the upper and lower limits of integers. without using an\u001b[39;00m\n\u001b[1;32m      <a href='vscode-notebook-cell:/home/hariom/notebook/python/coding_ques.ipynb#X22sZmlsZQ%3D%3D?line=1'>2</a>\u001b[0m \u001b[39m# inbuilt function or method.\u001b[39;00m\n\u001b[1;32m      <a href='vscode-notebook-cell:/home/hariom/notebook/python/coding_ques.ipynb#X22sZmlsZQ%3D%3D?line=2'>3</a>\u001b[0m \u001b[39m# Here's a Python program to check the upper and lower limits of integers without using any inbuilt\u001b[39;00m\n\u001b[1;32m      <a href='vscode-notebook-cell:/home/hariom/notebook/python/coding_ques.ipynb#X22sZmlsZQ%3D%3D?line=3'>4</a>\u001b[0m \u001b[39m# function or method:\u001b[39;00m\n\u001b[1;32m      <a href='vscode-notebook-cell:/home/hariom/notebook/python/coding_ques.ipynb#X22sZmlsZQ%3D%3D?line=4'>5</a>\u001b[0m \u001b[39m# pythonCopy code\u001b[39;00m\n\u001b[1;32m      <a href='vscode-notebook-cell:/home/hariom/notebook/python/coding_ques.ipynb#X22sZmlsZQ%3D%3D?line=5'>6</a>\u001b[0m \u001b[39m# Check upper limit\u001b[39;00m\n\u001b[1;32m      <a href='vscode-notebook-cell:/home/hariom/notebook/python/coding_ques.ipynb#X22sZmlsZQ%3D%3D?line=6'>7</a>\u001b[0m i \u001b[39m=\u001b[39m \u001b[39m1\u001b[39m\n\u001b[0;32m----> <a href='vscode-notebook-cell:/home/hariom/notebook/python/coding_ques.ipynb#X22sZmlsZQ%3D%3D?line=7'>8</a>\u001b[0m \u001b[39mwhile\u001b[39;00m i \u001b[39m+\u001b[39m \u001b[39m1\u001b[39m \u001b[39m>\u001b[39m i:\n\u001b[1;32m      <a href='vscode-notebook-cell:/home/hariom/notebook/python/coding_ques.ipynb#X22sZmlsZQ%3D%3D?line=8'>9</a>\u001b[0m     i \u001b[39m+\u001b[39m\u001b[39m=\u001b[39m \u001b[39m1\u001b[39m\n\u001b[1;32m     <a href='vscode-notebook-cell:/home/hariom/notebook/python/coding_ques.ipynb#X22sZmlsZQ%3D%3D?line=9'>10</a>\u001b[0m \u001b[39mprint\u001b[39m(\u001b[39m\"\u001b[39m\u001b[39mThe upper limit of integers is\u001b[39m\u001b[39m\"\u001b[39m, i)\n",
      "\u001b[0;31mKeyboardInterrupt\u001b[0m: "
     ]
    }
   ],
   "source": [
    "# 5. Write a in Python program to check the upper and lower limits of integers. without using an\n",
    "# inbuilt function or method.\n",
    "# Here's a Python program to check the upper and lower limits of integers without using any inbuilt\n",
    "# function or method:\n",
    "# pythonCopy code\n",
    "# Check upper limit\n",
    "i = 1\n",
    "while i + 1 > i:\n",
    "    i += 1\n",
    "print(\"The upper limit of integers is\", i)\n",
    "# Check lower limit\n",
    "i = -1\n",
    "while i - 1 < i:\n",
    "    i -= 1\n",
    "print(\"The lower limit of integers is\", i)"
   ]
  },
  {
   "cell_type": "code",
   "execution_count": 28,
   "metadata": {},
   "outputs": [
    {
     "name": "stdout",
     "output_type": "stream",
     "text": [
      "Integer limit not crossed\n",
      "Floating-point limit crossed\n",
      "Boolean limit not crossed\n"
     ]
    }
   ],
   "source": [
    "# 6. Write a Python program that checks whether primitive values cross the limit. without using an\n",
    "# inbuilt function or method.\n",
    "# Primitive values such as integers, floating-point numbers, and booleans have specific limits or\n",
    "# ranges. Here's a Python program that checks whether these primitive values cross their respective\n",
    "# limits or not, without using any inbuilt function or method:\n",
    "# pythonCopy code\n",
    "# Check integer limit\n",
    "i = 2147483647 # Maximum value of a 32-bit signed integer\n",
    "i += 1\n",
    "if i < 0:\n",
    " print(\"Integer limit crossed\")\n",
    "else:\n",
    " print(\"Integer limit not crossed\")\n",
    "# Check floating-point limit\n",
    "f = 1.7976931348623157e+308 # Maximum value of a float\n",
    "f *= 2\n",
    "if f == float('inf'):\n",
    " print(\"Floating-point limit crossed\")\n",
    "else:\n",
    " print(\"Floating-point limit not crossed\")\n",
    "# Check boolean limit\n",
    "b = True\n",
    "b = not b\n",
    "if b:\n",
    " print(\"Boolean limit crossed\")\n",
    "else:\n",
    " print(\"Boolean limit not crossed\")"
   ]
  },
  {
   "cell_type": "code",
   "execution_count": 29,
   "metadata": {},
   "outputs": [
    {
     "name": "stdout",
     "output_type": "stream",
     "text": [
      "Integer not overflow\n",
      "Integer not underflow\n",
      "Floating-point overflow\n",
      "Floating-point not underflow\n"
     ]
    }
   ],
   "source": [
    "# 8. Write a Python program to check overflow/underflow during various arithmetic operations.\n",
    "# without using an inbuilt function or method.\n",
    "# Overflow and underflow can occur during arithmetic operations when the result of the operation\n",
    "# exceeds the maximum or minimum representable value of the data type. Here's a Python program\n",
    "# that checks for overflow and underflow during various arithmetic operations, without using any\n",
    "# inbuilt function or method:\n",
    "# pythonCopy code\n",
    "# Check integer overflow and underflow\n",
    "a = 2147483647 # Maximum value of a 32-bit signed integer\n",
    "b = 1\n",
    "if a + b < 0:\n",
    " print(\"Integer overflow\")\n",
    "else:\n",
    " print(\"Integer not overflow\")\n",
    "a = -2147483648 # Minimum value of a 32-bit signed integer\n",
    "b = -1\n",
    "if a + b > 0:\n",
    " print(\"Integer underflow\")\n",
    "else:\n",
    " print(\"Integer not underflow\")\n",
    "# Check floating-point overflow and underflow\n",
    "a = 1.7976931348623157e+308 # Maximum value of a float\n",
    "b = a * 2\n",
    "if b == float('inf'):\n",
    " print(\"Floating-point overflow\")\n",
    "else:\n",
    " print(\"Floating-point not overflow\")\n",
    "a = 2.2250738585072014e-308 # Minimum value of a normalized float\n",
    "b = a / 2\n",
    "if b == 0.0:\n",
    " print(\"Floating-point underflow\")\n",
    "else:\n",
    " print(\"Floating-point not underflow\")"
   ]
  },
  {
   "cell_type": "code",
   "execution_count": 31,
   "metadata": {},
   "outputs": [
    {
     "name": "stdout",
     "output_type": "stream",
     "text": [
      "The sum of 10 and 20 is 30\n",
      "The sum of 10 and 20 is 30\n"
     ]
    }
   ],
   "source": [
    "# 10. Write a Python program to format the output. without using an inbuilt function or method.\n",
    "# Here's an example Python program that formats the output without using any inbuilt function or\n",
    "# method:\n",
    "# pythonCopy code\n",
    "num1 = 10\n",
    "num2 = 20\n",
    "result = num1 + num2\n",
    "print(\"The sum of {} and {} is {}\".format(num1, num2, result))\n",
    "\n",
    "num1 = 10\n",
    "num2 = 20\n",
    "result = num1 + num2\n",
    "print(\"The sum of %d and %d is %d\" % (num1, num2, result))"
   ]
  },
  {
   "cell_type": "code",
   "execution_count": 32,
   "metadata": {},
   "outputs": [
    {
     "name": "stdout",
     "output_type": "stream",
     "text": [
      "The sum of 1 and 10 is 11\n"
     ]
    }
   ],
   "source": [
    "# 12. Write a Python program to add two numbers and accept them from the keyboard. without using\n",
    "# an inbuilt function or method.\n",
    "# Here's an example Python program that accepts two numbers from the keyboard and adds them\n",
    "# without using any inbuilt function or method:\n",
    "# pythonCopy code\n",
    "num1 = int(input(\"Enter the first number: \"))\n",
    "num2 = int(input(\"Enter the second number: \"))\n",
    "sum = 0\n",
    "for i in range(num1):\n",
    " sum += 1\n",
    "for i in range(num2):\n",
    " sum += 1\n",
    "print(\"The sum of\", num1, \"and\", num2, \"is\", sum)"
   ]
  },
  {
   "cell_type": "code",
   "execution_count": 33,
   "metadata": {},
   "outputs": [
    {
     "name": "stdout",
     "output_type": "stream",
     "text": [
      "Before swapping: num1 = 23 , num2 = 26\n",
      "After swapping: num1 = 26 , num2 = 23\n"
     ]
    }
   ],
   "source": [
    "# 13. Write a Python program that swaps two numbers. without using an inbuilt function or method.\n",
    "# Here's an example Python program that swaps two numbers without using any inbuilt function or\n",
    "# method:\n",
    "# pythonCopy code\n",
    "num1 = int(input(\"Enter the first number: \"))\n",
    "num2 = int(input(\"Enter the second number: \"))\n",
    "print(\"Before swapping: num1 =\", num1, \", num2 =\", num2)\n",
    "# Swapping the values of num1 and num2 using a temporary variable\n",
    "temp = num1\n",
    "num1 = num2\n",
    "num2 = temp\n",
    "print(\"After swapping: num1 =\", num1, \", num2 =\", num2)"
   ]
  },
  {
   "cell_type": "code",
   "execution_count": 34,
   "metadata": {},
   "outputs": [
    {
     "name": "stdout",
     "output_type": "stream",
     "text": [
      "The volume of the sphere is: 523598.33333333326\n"
     ]
    }
   ],
   "source": [
    "# 14. Write a Python program that calculates the volume of a sphere. without using an inbuilt\n",
    "# function or method. \n",
    "\n",
    "radius = float(input(\"Enter the radius of the sphere: \"))\n",
    "pi = 3.14159\n",
    "# Calculating the volume of the sphere using the formula (4/3) * pi * r^3\n",
    "volume = (4/3) * pi * (radius ** 3)\n",
    "print(\"The volume of the sphere is:\", volume)"
   ]
  },
  {
   "cell_type": "code",
   "execution_count": 35,
   "metadata": {},
   "outputs": [
    {
     "name": "stdout",
     "output_type": "stream",
     "text": [
      "The sum of the first 10 natural numbers is: 55\n"
     ]
    }
   ],
   "source": [
    "# 2. Write a program in Python to find the sum of the first 10 natural numbers. without using an\n",
    "# inbuilt function or method.\n",
    "# Here's an example Python program that finds the sum of the first 10 natural numbers without using\n",
    "# any inbuilt function or method:\n",
    "# pythonCopy code\n",
    "# Initializing the variables\n",
    "n = 10\n",
    "sum = 0\n",
    "# Looping through the first 10 natural numbers and adding them to the sum\n",
    "for i in range(1, n+1):\n",
    " sum += i\n",
    "# Printing the sum of the first 10 natural numbers\n",
    "print(\"The sum of the first 10 natural numbers is:\", sum)"
   ]
  },
  {
   "cell_type": "code",
   "execution_count": 41,
   "metadata": {},
   "outputs": [
    {
     "ename": "TypeError",
     "evalue": "'int' object is not callable",
     "output_type": "error",
     "traceback": [
      "\u001b[0;31m---------------------------------------------------------------------------\u001b[0m",
      "\u001b[0;31mTypeError\u001b[0m                                 Traceback (most recent call last)",
      "\u001b[1;32m/home/hariom/notebook/python/coding_ques.ipynb Cell 24\u001b[0m in \u001b[0;36m1\n\u001b[1;32m     <a href='vscode-notebook-cell:/home/hariom/notebook/python/coding_ques.ipynb#X33sZmlsZQ%3D%3D?line=14'>15</a>\u001b[0m         divisors\u001b[39m.\u001b[39mappend(i)\n\u001b[1;32m     <a href='vscode-notebook-cell:/home/hariom/notebook/python/coding_ques.ipynb#X33sZmlsZQ%3D%3D?line=15'>16</a>\u001b[0m \u001b[39m# check if the number is a perfect number\u001b[39;00m\n\u001b[0;32m---> <a href='vscode-notebook-cell:/home/hariom/notebook/python/coding_ques.ipynb#X33sZmlsZQ%3D%3D?line=16'>17</a>\u001b[0m \u001b[39mif\u001b[39;00m \u001b[39msum\u001b[39m(divisors) \u001b[39m==\u001b[39m num:\n\u001b[1;32m     <a href='vscode-notebook-cell:/home/hariom/notebook/python/coding_ques.ipynb#X33sZmlsZQ%3D%3D?line=17'>18</a>\u001b[0m     \u001b[39mprint\u001b[39m(num)\n",
      "\u001b[0;31mTypeError\u001b[0m: 'int' object is not callable"
     ]
    }
   ],
   "source": [
    "# 4. Write a program in Python to find the perfect numbers between 1 and 500. without using an\n",
    "# inbuilt function or method. \n",
    "# A perfect number is a positive integer that is equal to the sum of its proper divisors (excluding\n",
    "# itself). For example, 6 is a perfect number as its proper divisors are 1, 2, and 3, and 1 + 2 + 3 = 6.\n",
    "# To find all the perfect numbers between 1 and 500, we can iterate through all numbers from 1 to\n",
    "# 500, and for each number, we can check if it is a perfect number or not. Here's the Python program\n",
    "# to do that:\n",
    "# pythonCopy code\n",
    "# iterate through all numbers from 1 to 500\n",
    "for num in range(1, 501):\n",
    " # find all proper divisors of the number\n",
    "    divisors = []\n",
    "    for i in range(1, num):\n",
    "        if num % i == 0:\n",
    "            divisors.append(i)\n",
    "    # check if the number is a perfect number\n",
    "    if sum(divisors) == num:\n",
    "        print(num)"
   ]
  },
  {
   "cell_type": "code",
   "execution_count": 42,
   "metadata": {},
   "outputs": [
    {
     "name": "stdout",
     "output_type": "stream",
     "text": [
      "20 is not a prime number\n"
     ]
    }
   ],
   "source": [
    "# 5. Write a program in Python to check whether a number is prime or not. without using an inbuilt\n",
    "# function or method.\n",
    "# Sure, here's a Python program to check whether a given number is prime or not without using any\n",
    "# inbuilt function or method:\n",
    "# pythonCopy code\n",
    "num = int(input(\"Enter a number: \"))\n",
    "is_prime = True\n",
    "if num < 2:\n",
    " is_prime = False\n",
    "else:\n",
    " for i in range(2, num):\n",
    "    if num % i == 0:\n",
    "        is_prime = False\n",
    "        break\n",
    "if is_prime:\n",
    " print(num, \"is a prime number\")\n",
    "else:\n",
    " print(num, \"is not a prime number\")"
   ]
  },
  {
   "cell_type": "code",
   "execution_count": 43,
   "metadata": {},
   "outputs": [
    {
     "name": "stdout",
     "output_type": "stream",
     "text": [
      "The last prime number before 23 is 23\n"
     ]
    }
   ],
   "source": [
    "# 8. Write a program in Python to find the last prime number that occurs before the entered number.\n",
    "# without using an inbuilt function or method.\n",
    "# To find the last prime number before the entered number, we can start checking for prime numbers\n",
    "# from the entered number and decrement it by 1 until we find a prime number. Here is the Python\n",
    "# program to do the same without using any inbuilt function or method:\n",
    "# pythonCopy code\n",
    "# function to check if a number is prime\n",
    "def is_prime(num):\n",
    " if num <= 1:\n",
    "    return False\n",
    " for i in range(2, int(num**(1/2))+1):\n",
    "    if num % i == 0:\n",
    "        return False\n",
    " return True\n",
    "# take user input for the limit\n",
    "limit = int(input(\"Enter the limit: \"))\n",
    "# start checking for prime numbers from the entered number and decrement it by\n",
    "# 1 until we find a prime number\n",
    "while limit > 1:\n",
    " if is_prime(limit):\n",
    "    print(\"The last prime number before\", limit, \"is\", limit)\n",
    "    break\n",
    " limit -= 1\n",
    "else:\n",
    " print(\"There is no prime number before\", limit)"
   ]
  },
  {
   "cell_type": "code",
   "execution_count": 2,
   "metadata": {},
   "outputs": [
    {
     "name": "stdout",
     "output_type": "stream",
     "text": [
      "The sum of digits is: 5\n"
     ]
    }
   ],
   "source": [
    "num = int(input(\"Enter a number: \"))\n",
    "sum = 0\n",
    "while num > 0:\n",
    "    digit = num % 10\n",
    "    sum += digit\n",
    "    num //= 10\n",
    "print(\"The sum of digits is:\", sum)"
   ]
  },
  {
   "cell_type": "code",
   "execution_count": 3,
   "metadata": {},
   "outputs": [
    {
     "name": "stdout",
     "output_type": "stream",
     "text": [
      "The sum of the series is: 2870\n"
     ]
    }
   ],
   "source": [
    "# 12. Write a program in Python to calculate the sum of the series (1*1) + (2*2) + (3*3) + (4*4) +\n",
    "# (5*5) + ... + (n*n). without using an inbuilt function or method.\n",
    "# We can use a loop to iterate from 1 to n and calculate the sum of the series using the formula\n",
    "# (n*(n+1)(2n+1))/6.\n",
    "# Here's the Python code to calculate the sum of the series:\n",
    "# pythonCopy code\n",
    "n = int(input(\"Enter the value of n: \"))\n",
    "sum = 0\n",
    "for i in range(1, n+1):\n",
    "    sum += i*i\n",
    "print(\"The sum of the series is:\", sum)"
   ]
  },
  {
   "cell_type": "code",
   "execution_count": 4,
   "metadata": {},
   "outputs": [
    {
     "name": "stdout",
     "output_type": "stream",
     "text": [
      "The sum of the series is: 35\n"
     ]
    }
   ],
   "source": [
    "# 13. Write a program in Python to calculate the series (1) + (1+2) + (1+2+3) + (1+2+3+4) + ... +\n",
    "# (1+2+3+4+...+n). without using an inbuilt function or method.\n",
    "# We can use a loop to iterate through the numbers from 1 to n and add up the sum of each series.\n",
    "# Here's the Python code:\n",
    "# pythonCopy code\n",
    "n = int(input(\"Enter a number: \"))\n",
    "sum = 0\n",
    "for i in range(1, n+1):\n",
    "    for j in range(1, i+1):\n",
    "        sum += j\n",
    "print(\"The sum of the series is:\", sum)"
   ]
  },
  {
   "cell_type": "code",
   "execution_count": 5,
   "metadata": {},
   "outputs": [
    {
     "name": "stdout",
     "output_type": "stream",
     "text": [
      "Count:  11\n",
      "Maximum:  20\n",
      "Minimum:  1\n",
      "Average:  5.181818181818182\n"
     ]
    }
   ],
   "source": [
    "# 15. Write a Python program that asks the user to enter positive integers in order to process count,\n",
    "# maximum, minimum, and average or terminate the process with -1. without using an inbuilt\n",
    "# function or method.\n",
    "# Here's a program in Python that asks the user to enter positive integers and then calculates the\n",
    "# count, maximum, minimum, and average. The program terminates when the user enters -1. This\n",
    "# program does not use any inbuilt function or method.\n",
    "# pythonCopy code\n",
    "count = 0\n",
    "total = 0\n",
    "maximum = -float(\"inf\")\n",
    "minimum = float(\"inf\")\n",
    "while True:\n",
    "    num = int(input(\"Enter a positive integer (-1 to terminate): \"))\n",
    "    if num == -1:\n",
    "        break\n",
    "    if num < 1:\n",
    "        print(\"Invalid input! Please enter a positive integer.\")\n",
    "        continue\n",
    "    count += 1\n",
    "    total += num\n",
    "    if num > maximum:\n",
    "        maximum = num\n",
    "    if num < minimum:\n",
    "        minimum = num\n",
    "    if count == 0:\n",
    "        print(\"No numbers were entered.\")\n",
    "    else:\n",
    "        average = total / count\n",
    "print(\"Count: \", count)\n",
    "print(\"Maximum: \", maximum)\n",
    "print(\"Minimum: \", minimum)\n",
    "print(\"Average: \", average)"
   ]
  },
  {
   "cell_type": "code",
   "execution_count": 7,
   "metadata": {},
   "outputs": [
    {
     "name": "stdout",
     "output_type": "stream",
     "text": [
      "#####\n",
      "#   #\n",
      "#   #\n",
      "#   #\n",
      "#####\n"
     ]
    }
   ],
   "source": [
    "# 17. Write a program in Python to print a square pattern with the # character. without using an\n",
    "# inbuilt function or method.\n",
    "# Here's a solution to print a square pattern with the # character without using any inbuilt function or\n",
    "# method:\n",
    "# pythonCopy code\n",
    "n = int(input(\"Enter the number of rows: \"))\n",
    "# loop through rows\n",
    "for i in range(n):\n",
    "# loop through columns\n",
    "    for j in range(n):\n",
    "    # print '#' for the first and last rows and columns\n",
    "        if i == 0 or i == n-1 or j == 0 or j == n-1:\n",
    "            print(\"#\", end=\"\")\n",
    "        else:\n",
    "            print(\" \", end=\"\")\n",
    "    print() # move to the next line"
   ]
  },
  {
   "cell_type": "code",
   "execution_count": 8,
   "metadata": {},
   "outputs": [
    {
     "name": "stdout",
     "output_type": "stream",
     "text": [
      "The sum of first 23 odd natural numbers is: 529\n"
     ]
    }
   ],
   "source": [
    "# 20. Write a Python program that displays the sum of n odd natural numbers. without using an\n",
    "# inbuilt function or method.\n",
    "# Here's a Python program that displays the sum of n odd natural numbers without using any inbuilt\n",
    "# functions or methods:\n",
    "# pythonCopy code\n",
    "n = int(input(\"Enter the value of n: \"))\n",
    "sum = 0\n",
    "for i in range(1, 2*n, 2):\n",
    "    sum += i\n",
    "print(\"The sum of first\", n, \"odd natural numbers is:\", sum)"
   ]
  },
  {
   "cell_type": "code",
   "execution_count": 9,
   "metadata": {},
   "outputs": [
    {
     "name": "stdout",
     "output_type": "stream",
     "text": [
      "1 0.5 0.3333333333333333 0.25 0.2 0.16666666666666666 0.14285714285714285 0.125 0.1111111111111111 0.1 0.09090909090909091 0.08333333333333333 0.07692307692307693 0.07142857142857142 0.06666666666666667 0.0625 0.058823529411764705 0.05555555555555555 0.05263157894736842 0.05 0.047619047619047616 0.045454545454545456 0.043478260869565216 \n",
      "The sum of the harmonic series is: 3.73429151108684\n"
     ]
    }
   ],
   "source": [
    "# 22. Write a program in Python to display the n terms of a harmonic series and their sum. without\n",
    "# using an inbuilt function or method.\n",
    "# Here's a program in Python that displays the n terms of a harmonic series and their sum, without\n",
    "# using an inbuilt function or method:\n",
    "# pythonCopy code\n",
    "n = int(input(\"Enter the number of terms: \"))\n",
    "# initialize variables\n",
    "sum = 0\n",
    "term = 1\n",
    "# loop to calculate sum and print terms\n",
    "for i in range(1, n+1):\n",
    "    print(term, end=\" \")\n",
    "    sum += term\n",
    "    term = 1 / (i+1)# print the sum of the series\n",
    "print(\"\\nThe sum of the harmonic series is:\", sum)"
   ]
  },
  {
   "cell_type": "code",
   "execution_count": 10,
   "metadata": {},
   "outputs": [
    {
     "name": "stdout",
     "output_type": "stream",
     "text": [
      "23"
     ]
    }
   ],
   "source": [
    "# get the input number\n",
    "num = int(input(\"Enter a number: \"))\n",
    "# loop through the digits of the number in reverse order\n",
    "while num > 0:\n",
    "    digit = num % 10\n",
    "    print(digit, end='')\n",
    "    num //= 10"
   ]
  },
  {
   "cell_type": "code",
   "execution_count": 11,
   "metadata": {},
   "outputs": [
    {
     "name": "stdout",
     "output_type": "stream",
     "text": [
      "          1 \n",
      "       2  3 \n",
      "    4  5  6 \n",
      " 7  8  9 10 \n"
     ]
    }
   ],
   "source": [
    "rows = int(input(\"Input number of rows: \"))\n",
    "# calculate the maximum number of digits needed\n",
    "max_digits = len(str(rows*(rows+1)//2))\n",
    "# iterate over rows and columns to print the pyramid\n",
    "for i in range(rows):\n",
    "    for j in range(rows-i-1):\n",
    "        print(\" \"*(max_digits+1), end=\"\")\n",
    "    for j in range(i+1):\n",
    "        num = i*(i+1)//2 + j + 1\n",
    "        print(str(num).rjust(max_digits), end=\" \")\n",
    "    print()"
   ]
  },
  {
   "cell_type": "code",
   "execution_count": 1,
   "metadata": {},
   "outputs": [
    {
     "name": "stdout",
     "output_type": "stream",
     "text": [
      "   *\n",
      "  ***\n",
      " *****\n",
      "*******\n"
     ]
    }
   ],
   "source": [
    "# 40. Write a Python program to make such a pattern like a pyramid with an asterisk. without using\n",
    "# an inbuilt function or method. Sample Output: Input number of rows: 5 * * * * * * * * * * * * * * *\n",
    "# Here's the code to display a pyramid pattern with asterisks without using any built-in function:\n",
    "# pythonCopy code\n",
    "rows = int(input(\"Enter the number of rows: \"))\n",
    "for i in range(1, rows+1):\n",
    "    for j in range(1, rows-i+1):\n",
    "        print(\" \", end=\"\")\n",
    "    for j in range(1, i*2):\n",
    "        print(\"*\", end=\"\")\n",
    "    print()"
   ]
  },
  {
   "cell_type": "code",
   "execution_count": 2,
   "metadata": {},
   "outputs": [
    {
     "name": "stdout",
     "output_type": "stream",
     "text": [
      "The ASCII characters:\n",
      "65 --> A\n",
      "66 --> B\n",
      "67 --> C\n",
      "68 --> D\n",
      "69 --> E\n",
      "70 --> F\n",
      "71 --> G\n",
      "72 --> H\n",
      "73 --> I\n",
      "74 --> J\n",
      "75 --> K\n",
      "76 --> L\n",
      "77 --> M\n",
      "78 --> N\n"
     ]
    }
   ],
   "source": [
    "start = int(input(\"Input the starting value for ASCII characters: \"))\n",
    "end = int(input(\"Input the ending value for ASCII characters: \"))\n",
    "print(\"The ASCII characters:\")\n",
    "for i in range(start, end+1):\n",
    "    print(f\"{i} --> {chr(i)}\")"
   ]
  },
  {
   "cell_type": "code",
   "execution_count": 4,
   "metadata": {},
   "outputs": [
    {
     "name": "stdout",
     "output_type": "stream",
     "text": [
      "The factors are: 1 31 "
     ]
    }
   ],
   "source": [
    "num = int(input(\"Input a number: \"))\n",
    "print(\"The factors are:\", end=\" \")\n",
    "for i in range(1, num+1):\n",
    "    if num % i == 0:\n",
    "        print(i, end=\" \")"
   ]
  },
  {
   "cell_type": "code",
   "execution_count": 6,
   "metadata": {},
   "outputs": [
    {
     "name": "stdout",
     "output_type": "stream",
     "text": [
      "The original binary = 01101110\n",
      "After ones complement the value = 10010001\n",
      "After twos complement the value = 10010010\n"
     ]
    }
   ],
   "source": [
    "# 65. Write a program in Python to find the two's complement of a binary number. without using an\n",
    "# inbuilt function or method. Sample Output: Input a 8 bit binary value: 01101110 The original\n",
    "# binary = 01101110 After ones complement the value = 10010001 After twos complement the value\n",
    "# = 10010010\n",
    "# Here's the Python code to find the two's complement of a binary number:\n",
    "# pythonCopy code\n",
    "# Input a binary number\n",
    "binary_num = input(\"Enter an 8 bit binary number: \")\n",
    "# Find the ones complement of the binary number\n",
    "ones_complement = \"\"\n",
    "for bit in binary_num:\n",
    "    ones_complement += \"0\" if bit == \"1\" else \"1\"\n",
    "# Find the twos complement of the binary number\n",
    "    twos_complement = \"\"\n",
    "    carry = 1\n",
    "for bit in ones_complement[::-1]:\n",
    "    if bit == \"1\" and carry == 1:\n",
    "        twos_complement = \"0\" + twos_complement\n",
    "    elif bit == \"0\" and carry == 1:\n",
    "        twos_complement = \"1\" + twos_complement\n",
    "        carry = 0\n",
    "    else:\n",
    "        twos_complement = bit + twos_complement\n",
    "# Print the original binary number, ones complement, and twos complement\n",
    "print(\"The original binary = \" + binary_num)\n",
    "print(\"After ones complement the value = \" + ones_complement)\n",
    "print(\"After twos complement the value = \" + twos_complement)"
   ]
  },
  {
   "cell_type": "code",
   "execution_count": 7,
   "metadata": {},
   "outputs": [
    {
     "name": "stdout",
     "output_type": "stream",
     "text": [
      "The hexadecimal number is:  A\n"
     ]
    }
   ],
   "source": [
    "# 71. Write a program in Python to convert a decimal number to a hexadecimal number. without\n",
    "# using an inbuilt function or method. Sample Output: Input a decimal number: 43 The hexadecimal\n",
    "# number is : 2B\n",
    "# Here's the Python program to convert a decimal number to a hexadecimal number without using\n",
    "# any inbuilt function or method:\n",
    "# pythonCopy code\n",
    "decimal = int(input(\"Input a decimal number: \"))\n",
    "hexadecimal = \"\"\n",
    "hex_digits = \"0123456789ABCDEF\"\n",
    "while decimal > 0:\n",
    "    remainder = decimal % 16\n",
    "    hexadecimal = hex_digits[remainder] + hexadecimal\n",
    "    decimal = decimal // 16\n",
    "print(\"The hexadecimal number is: \", hexadecimal)"
   ]
  },
  {
   "cell_type": "code",
   "execution_count": 8,
   "metadata": {},
   "outputs": [
    {
     "name": "stdout",
     "output_type": "stream",
     "text": [
      "The decimal number: 2\n"
     ]
    }
   ],
   "source": [
    "# 73. Write a Python program to convert a binary number to a decimal number. without using an\n",
    "# inbuilt function or method. Sample Output: Input a binary number: 1011 The decimal number: 11\n",
    "# Here's the solution to your problem:\n",
    "# sqlCopy code\n",
    "binary = input(\"Input a binary number: \")\n",
    "decimal = 0\n",
    "power = len(binary) - 1\n",
    "for digit in binary:\n",
    "    decimal += int(digit) * (2 ** power)\n",
    "    power -= 1\n",
    "print(\"The decimal number:\", decimal)"
   ]
  },
  {
   "cell_type": "code",
   "execution_count": 9,
   "metadata": {},
   "outputs": [
    {
     "name": "stdout",
     "output_type": "stream",
     "text": [
      "Absolute difference is: 6\n"
     ]
    }
   ],
   "source": [
    "# 2. Write a Python program to find the absolute difference between n and 51. If n is greater than 51\n",
    "# return triple the absolute difference. without using an inbuilt function or method. Sample Input: 53\n",
    "# 30 51 Sample Output: 6 21 0\n",
    "# Here's the Python code to find the absolute difference between n and 51 and triple it if n is greater\n",
    "# than 51:pythonCopy code\n",
    "n = int(input(\"Enter a number: \"))\n",
    "if n <= 51:\n",
    "    diff = 51 - n\n",
    "else:\n",
    "    diff = (n - 51) * 3\n",
    "print(\"Absolute difference is:\", diff)"
   ]
  },
  {
   "cell_type": "code",
   "execution_count": 1,
   "metadata": {},
   "outputs": [
    {
     "name": "stdout",
     "output_type": "stream",
     "text": [
      "True\n",
      "False\n",
      "True\n",
      "False\n"
     ]
    }
   ],
   "source": [
    "# 22. Write a Python program to check if a given string contains between 2 and 4 'z' characters.\n",
    "# without using an inbuilt function or method. Sample Input: \"frizz\" \"zane\" \"Zazz\" \"false\" Sample\n",
    "# Output: 1 0 1 0Here's one way to solve this:\n",
    "# pythonCopy code\n",
    "def contains_z(string):\n",
    "    count = 0\n",
    "    for letter in string:\n",
    "        if letter == 'z' or letter == 'Z':\n",
    "            count += 1\n",
    "    return count >= 2 and count <= 4\n",
    "print(contains_z(\"frizz\"))\n",
    "print(contains_z(\"zane\"))\n",
    "print(contains_z(\"Zazz\"))\n",
    "print(contains_z(\"false\"))"
   ]
  },
  {
   "cell_type": "code",
   "execution_count": 2,
   "metadata": {},
   "outputs": [
    {
     "name": "stdout",
     "output_type": "stream",
     "text": [
      "The two integers do not have the same last digit.\n"
     ]
    }
   ],
   "source": [
    "# 23. Write a Python program to check if two given non-negative integers have the same last digit.\n",
    "# without using an inbuilt function or method. Sample Input: 123, 456 12, 512 7, 87 12, 45 Sample\n",
    "# Output: 0 1 1 0\n",
    "# Here's one way to solve the problem:\n",
    "# pythonCopy code\n",
    "num1 = int(input(\"Enter the first non-negative integer: \"))\n",
    "num2 = int(input(\"Enter the second non-negative integer: \"))\n",
    "if num1 % 10 == num2 % 10:\n",
    "    print(\"The two integers have the same last digit.\")\n",
    "else:\n",
    "    print(\"The two integers do not have the same last digit.\")"
   ]
  },
  {
   "cell_type": "code",
   "execution_count": 31,
   "metadata": {},
   "outputs": [
    {
     "name": "stdout",
     "output_type": "stream",
     "text": [
      "     "
     ]
    },
    {
     "data": {
      "text/plain": [
       "'hellothishggjhhgjrgjghj'"
      ]
     },
     "execution_count": 31,
     "metadata": {},
     "output_type": "execute_result"
    }
   ],
   "source": [
    "s='hello this hg gjhhgj rg jghj'\n",
    "s1=''\n",
    "for i in s:\n",
    "    if i==' ':\n",
    "        print(i,end='')\n",
    "        continue\n",
    "    s1+=i\n",
    "    # print(i,end='')\n",
    "s1"
   ]
  },
  {
   "cell_type": "code",
   "execution_count": null,
   "metadata": {},
   "outputs": [],
   "source": []
  }
 ],
 "metadata": {
  "kernelspec": {
   "display_name": "Python 3",
   "language": "python",
   "name": "python3"
  },
  "language_info": {
   "codemirror_mode": {
    "name": "ipython",
    "version": 3
   },
   "file_extension": ".py",
   "mimetype": "text/x-python",
   "name": "python",
   "nbconvert_exporter": "python",
   "pygments_lexer": "ipython3",
   "version": "3.10.6"
  },
  "orig_nbformat": 4
 },
 "nbformat": 4,
 "nbformat_minor": 2
}

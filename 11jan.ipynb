{
 "cells": [
  {
   "cell_type": "code",
   "execution_count": 30,
   "metadata": {},
   "outputs": [
    {
     "name": "stdout",
     "output_type": "stream",
     "text": [
      "            % \n",
      "          % % % \n",
      "        % % % % % \n",
      "      % % % % % % % \n",
      "    % % % % % % % % % \n",
      "  % % % % % % % % % % % \n"
     ]
    }
   ],
   "source": [
    "n=6\n",
    "for i in range(n):\n",
    "    for j in range(i,n):\n",
    "        print(' ',end=' ')\n",
    "    for k in range(i+1):\n",
    "        print('%',end=' ')\n",
    "    for m in range(i):\n",
    "        print('%',end=' ')\n",
    "    print()"
   ]
  },
  {
   "cell_type": "code",
   "execution_count": 134,
   "metadata": {},
   "outputs": [
    {
     "name": "stdout",
     "output_type": "stream",
     "text": [
      "\n",
      "     1 \n",
      "    1     2 \n",
      "   1    2    3 \n",
      "  1   2   3   4 \n",
      " 1  2  3  4  5 \n"
     ]
    }
   ],
   "source": [
    "n=6\n",
    "for i in range(n):\n",
    "    for j in range(1,i+1):\n",
    "        print((' '*(n-i))+(str(j)+\"\"*j),end=' ')\n",
    "    print()"
   ]
  },
  {
   "cell_type": "code",
   "execution_count": 29,
   "metadata": {},
   "outputs": [
    {
     "name": "stdout",
     "output_type": "stream",
     "text": [
      "      \n",
      "     * \n",
      "    * * \n",
      "   * * * \n",
      "  * * * * \n",
      " * * * * * \n"
     ]
    }
   ],
   "source": [
    "n=6\n",
    "for i in range(n):\n",
    "    print((' '*(n-i))+(\"*\"+' ')*i)"
   ]
  },
  {
   "cell_type": "code",
   "execution_count": 36,
   "metadata": {},
   "outputs": [
    {
     "name": "stdout",
     "output_type": "stream",
     "text": [
      "*\n",
      "**\n",
      "***\n",
      "****\n",
      "*****\n"
     ]
    }
   ],
   "source": [
    "n=6\n",
    "for i in range(1,n):\n",
    "    print('*'*(i))"
   ]
  },
  {
   "cell_type": "code",
   "execution_count": 1,
   "metadata": {},
   "outputs": [
    {
     "name": "stdout",
     "output_type": "stream",
     "text": [
      "* * * * * \n",
      "* * * * \n",
      "* * * \n",
      "* * \n",
      "* \n"
     ]
    }
   ],
   "source": [
    "n = 6\n",
    "for i in range(1, n):\n",
    "    print('* '*(n-i))"
   ]
  },
  {
   "cell_type": "code",
   "execution_count": 64,
   "metadata": {},
   "outputs": [
    {
     "name": "stdout",
     "output_type": "stream",
     "text": [
      "           *\n",
      "         * *\n",
      "       * * *\n",
      "     * * * *\n",
      "   * * * * *\n"
     ]
    }
   ],
   "source": [
    "n = 6\n",
    "for i in range(1, n):\n",
    "    print('  '*(n-i)+' *'*i)"
   ]
  },
  {
   "cell_type": "code",
   "execution_count": 99,
   "metadata": {},
   "outputs": [
    {
     "name": "stdout",
     "output_type": "stream",
     "text": [
      "*                      *\n",
      "* *                  * *\n",
      "* * *              * * *\n",
      "* * * *          * * * *\n",
      "* * * * *      * * * * *\n",
      "* * * * * *  * * * * * *\n",
      "* * * * *      * * * * *\n",
      "* * * *          * * * *\n",
      "* * *              * * *\n",
      "* *                  * *\n",
      "*                      *\n"
     ]
    }
   ],
   "source": [
    "n = 6\n",
    "for i in range(1, n+1):\n",
    "    print('* '*(i)+('    '*(n-i))+(' *')*i)\n",
    "for i in range(1, n):\n",
    "    print(('* ')*(n-i)+((\"    \")*(i))+(\" *\")*(n-i))"
   ]
  },
  {
   "cell_type": "code",
   "execution_count": 111,
   "metadata": {},
   "outputs": [
    {
     "name": "stdout",
     "output_type": "stream",
     "text": [
      "* * * * * \n",
      "* * * * \n",
      "* * * \n",
      "* * \n",
      "* \n",
      "* \n",
      "* * \n",
      "* * * \n",
      "* * * * \n",
      "* * * * * \n"
     ]
    }
   ],
   "source": [
    "n = 6\n",
    "for i in range(1, n):\n",
    "    print('* '*(n-i))\n",
    "for i in range(1, n):\n",
    "    print('* '*(i))"
   ]
  },
  {
   "cell_type": "code",
   "execution_count": 119,
   "metadata": {},
   "outputs": [
    {
     "name": "stdout",
     "output_type": "stream",
     "text": [
      "* * * * * \n",
      "* * * * \n",
      "* * * \n",
      "* * \n",
      "* \n",
      "* * \n",
      "* * * \n",
      "* * * * \n",
      "* * * * * \n"
     ]
    }
   ],
   "source": [
    "n = 5\n",
    "for i in range(n-1):\n",
    "    print('* '*(n-i))\n",
    "for i in range(1,n+1):\n",
    "    print('* '*(i))"
   ]
  },
  {
   "cell_type": "code",
   "execution_count": 149,
   "metadata": {},
   "outputs": [
    {
     "name": "stdout",
     "output_type": "stream",
     "text": [
      "\n",
      "               1\n",
      "            1            2\n",
      "         1         2         3\n",
      "      1      2      3      4\n",
      "   1   2   3   4   5\n"
     ]
    }
   ],
   "source": [
    "n = 6\n",
    "for i in range(n):\n",
    "    for j in range(1, i+1):\n",
    "        print(('   '*(n-i))+(str(j)), end='')\n",
    "    print()"
   ]
  },
  {
   "cell_type": "code",
   "execution_count": 174,
   "metadata": {},
   "outputs": [
    {
     "name": "stdout",
     "output_type": "stream",
     "text": [
      "      1 \n",
      "     1 2 \n",
      "    1 2 3 \n",
      "   1 2 3 4 \n",
      "  1 2 3 4 5 \n"
     ]
    }
   ],
   "source": [
    "n = 6\n",
    "for i in range(1,n):\n",
    "    print((' ')*(n-i), end=' ')\n",
    "    for j in range(1,i+1):\n",
    "        print(str(j) , end=' ')\n",
    "    print()"
   ]
  },
  {
   "cell_type": "code",
   "execution_count": 179,
   "metadata": {},
   "outputs": [
    {
     "name": "stdout",
     "output_type": "stream",
     "text": [
      "      A \n",
      "     A B \n",
      "    A B C \n",
      "   A B C D \n",
      "  A B C D E \n"
     ]
    }
   ],
   "source": [
    "n = 6\n",
    "alfa=65\n",
    "for i in range(1, n):\n",
    "    print((' ')*(n-i), end=' ')\n",
    "    for j in range(i):\n",
    "        print(chr(alfa+j), end=' ')\n",
    "    print()"
   ]
  },
  {
   "cell_type": "code",
   "execution_count": 64,
   "metadata": {},
   "outputs": [
    {
     "data": {
      "text/plain": [
       "3"
      ]
     },
     "execution_count": 64,
     "metadata": {},
     "output_type": "execute_result"
    }
   ],
   "source": [
    "# 5. Write a Python program to count the number of strings from a given list of strings. The string\n",
    "# length is 2 or more and the first and last characters are the same. Sample List : ['abc', 'xyz', 'aba',\n",
    "# '1221'] Expected Result : 2\n",
    "l = ['abc', 'xyz', 'aba','1221']\n",
    "count=0\n",
    "for i in l:\n",
    "    if i[0]==i[-1]:\n",
    "        # print(i)\n",
    "        count=count+1\n",
    "count"
   ]
  },
  {
   "cell_type": "code",
   "execution_count": 65,
   "metadata": {},
   "outputs": [
    {
     "data": {
      "text/plain": [
       "2"
      ]
     },
     "execution_count": 65,
     "metadata": {},
     "output_type": "execute_result"
    }
   ],
   "source": [
    "l = ['abc', 'xyz', 'aba', '1221','a']\n",
    "count=0\n",
    "for i in l:\n",
    "    if len(i)>=2 and i[0]==i[-1]:\n",
    "        count+=1\n",
    "count"
   ]
  },
  {
   "cell_type": "code",
   "execution_count": 75,
   "metadata": {},
   "outputs": [
    {
     "data": {
      "text/plain": [
       "[(2, 1), (1, 2), (2, 3), (4, 4), (2, 5)]"
      ]
     },
     "execution_count": 75,
     "metadata": {},
     "output_type": "execute_result"
    }
   ],
   "source": [
    "li = [(2, 5), (1, 2), (4, 4), (2, 3), (2, 1)]\n",
    "res=sorted(li,key=lambda x: x[-1])\n",
    "res"
   ]
  },
  {
   "cell_type": "code",
   "execution_count": 83,
   "metadata": {},
   "outputs": [
    {
     "name": "stdout",
     "output_type": "stream",
     "text": [
      "enmpty list\n",
      "not empty\n"
     ]
    }
   ],
   "source": [
    "def check_list(lst):\n",
    "    if len(lst)==0:\n",
    "        print('enmpty list')\n",
    "    else:\n",
    "        print('not empty')\n",
    "l1=[]\n",
    "l2=[1,2,4,3,2,2]\n",
    "check_list(l1)\n",
    "check_list(l2)"
   ]
  },
  {
   "cell_type": "code",
   "execution_count": 87,
   "metadata": {},
   "outputs": [
    {
     "data": {
      "text/plain": [
       "['banana', 'orange', 'watermelon']"
      ]
     },
     "execution_count": 87,
     "metadata": {},
     "output_type": "execute_result"
    }
   ],
   "source": [
    "def find_long_words(n,w_list):\n",
    "    long_w=[]\n",
    "    for i in w_list:\n",
    "        if len(i)>n:\n",
    "            long_w.append(i)\n",
    "    return long_w\n",
    "\n",
    "n=5\n",
    "l = ['apple', 'banana', 'orange', 'grape', 'watermelon']\n",
    "find_long_words(n,l)\n"
   ]
  },
  {
   "cell_type": "code",
   "execution_count": 89,
   "metadata": {},
   "outputs": [
    {
     "data": {
      "text/plain": [
       "True"
      ]
     },
     "execution_count": 89,
     "metadata": {},
     "output_type": "execute_result"
    }
   ],
   "source": [
    "def comman_member(l1,l2):\n",
    "    for i in l1:\n",
    "        if i in l2:\n",
    "            return True\n",
    "    return False\n",
    "l1=[1, 2, 3, 4, 5]\n",
    "l2 = [4, 5, 6, 7, 8]\n",
    "comman_member(l1,l2)"
   ]
  },
  {
   "cell_type": "code",
   "execution_count": 91,
   "metadata": {},
   "outputs": [
    {
     "data": {
      "text/plain": [
       "['Green', 'White', 'Black']"
      ]
     },
     "execution_count": 91,
     "metadata": {},
     "output_type": "execute_result"
    }
   ],
   "source": [
    "def remove_ele_0_4_5th(lst,remove_li):\n",
    "    res=[]\n",
    "    for i in range( len(lst)):\n",
    "        if i not in remove_li:\n",
    "            res.append(lst[i])\n",
    "    return res\n",
    "\n",
    "lst = ['Red', 'Green', 'White', 'Black', 'Pink', 'Yellow']\n",
    "remove_li = [0, 4, 5]\n",
    "remove_ele_0_4_5th(lst,remove_li)"
   ]
  },
  {
   "cell_type": "code",
   "execution_count": 94,
   "metadata": {},
   "outputs": [
    {
     "name": "stdout",
     "output_type": "stream",
     "text": [
      "[1, 3, 5, 7, 9]\n"
     ]
    }
   ],
   "source": [
    "def remove_even_numbers(lst):\n",
    "    result = []\n",
    "    for num in lst:\n",
    "        if num % 2 != 0:\n",
    "            result.append(num)\n",
    "    return result\n",
    "# Example usage\n",
    "numbers = [1, 2, 3, 4, 5, 6, 7, 8, 9, 10]\n",
    "print(remove_even_numbers(numbers))"
   ]
  },
  {
   "cell_type": "code",
   "execution_count": 110,
   "metadata": {},
   "outputs": [
    {
     "name": "stdout",
     "output_type": "stream",
     "text": [
      "*           \n",
      "* *         \n",
      "*   *       \n",
      "*     *     \n",
      "*       *   \n",
      "* * * * * * \n"
     ]
    }
   ],
   "source": [
    "n=6\n",
    "for i in range(1,n+1):\n",
    "    for j in range(1,n+1):\n",
    "        if (i == j) or (j == 1) or (i == n):\n",
    "            print(\"*\", end=\" \")\n",
    "        else:\n",
    "            print(\" \", end=\" \")\n",
    "    print()\n"
   ]
  },
  {
   "cell_type": "code",
   "execution_count": 204,
   "metadata": {},
   "outputs": [
    {
     "name": "stdout",
     "output_type": "stream",
     "text": [
      "* * * * * \n",
      "*       * \n",
      "*       * \n",
      "*       * \n",
      "* * * * * \n"
     ]
    }
   ],
   "source": [
    "n=5\n",
    "for i in range(1,n+1):\n",
    "    for j in range(1,n+1):\n",
    "        if i==1 or j==1 or i==n or j==n:\n",
    "            print('*',end=' ')\n",
    "        else:\n",
    "            print(' ',end=' ')\n",
    "    print()"
   ]
  },
  {
   "cell_type": "code",
   "execution_count": 189,
   "metadata": {},
   "outputs": [
    {
     "name": "stdout",
     "output_type": "stream",
     "text": [
      "* * * * * * \n",
      "*       * \n",
      "*     * \n",
      "*   * \n",
      "* * \n",
      "* \n"
     ]
    }
   ],
   "source": [
    "n = 6\n",
    "for i in range(n, 0, -1):\n",
    "    for j in range(i, 0, -1):\n",
    "        if i == j or j == 1 or i == n :\n",
    "            print('*', end=' ')\n",
    "        else:\n",
    "            print(' ', end=' ')\n",
    "    print()"
   ]
  },
  {
   "cell_type": "code",
   "execution_count": 217,
   "metadata": {},
   "outputs": [
    {
     "name": "stdout",
     "output_type": "stream",
     "text": [
      "* * * * * * \n",
      "  *       * \n",
      "    *     * \n",
      "      *   * \n",
      "        * * \n",
      "          * \n"
     ]
    }
   ],
   "source": [
    "n = 6\n",
    "for i in range(1,n+1):\n",
    "    for j in range(1,n+1):\n",
    "        if i == 1 or j == n or i==j:\n",
    "            print('*', end=' ')\n",
    "        else:\n",
    "            print(' ', end=' ')\n",
    "    print()"
   ]
  },
  {
   "cell_type": "code",
   "execution_count": 251,
   "metadata": {},
   "outputs": [
    {
     "name": "stdout",
     "output_type": "stream",
     "text": [
      "          *           \n",
      "        * *         \n",
      "      *   *       \n",
      "    *     *     \n",
      "  *       *   \n",
      "* * * * * * \n"
     ]
    }
   ],
   "source": [
    "n = 6\n",
    "for i in range(1,n+1):\n",
    "    print('  '*(n-i),end='')\n",
    "    for j in range(1,n+1):\n",
    "        if   j == 1 or i==n or i==j :\n",
    "            print('*', end=' ')\n",
    "        else:\n",
    "            print(' ', end=' ')\n",
    "    print()"
   ]
  },
  {
   "cell_type": "code",
   "execution_count": 263,
   "metadata": {},
   "outputs": [
    {
     "name": "stdout",
     "output_type": "stream",
     "text": [
      "     *           \n",
      "    * *         \n",
      "   *   *       \n",
      "  *     *     \n",
      " *       *   \n",
      "*         * \n",
      "* * * * * * \n",
      " *       * \n",
      "  *     * \n",
      "   *   * \n",
      "    * * \n",
      "     * \n"
     ]
    }
   ],
   "source": [
    "n = 6\n",
    "for i in range(1, n+1):\n",
    "    print(' '*(n-i), end='')\n",
    "    for j in range(1, n+1):\n",
    "        if j == 1 or  i == j:\n",
    "            print('*', end=' ')\n",
    "        else:\n",
    "            print(' ', end=' ')\n",
    "    print()\n",
    "n = 6\n",
    "for i in range(n, 0, -1):\n",
    "    print(' '*(n-i), end='')\n",
    "\n",
    "    for j in range(i, 0, -1):\n",
    "        if i == j or j == 1 or i == n:\n",
    "            print('*', end=' ')\n",
    "        else:\n",
    "            print(' ', end=' ')\n",
    "    print()"
   ]
  },
  {
   "cell_type": "code",
   "execution_count": 264,
   "metadata": {},
   "outputs": [
    {
     "data": {
      "text/plain": [
       "[1, 3, 5, 7, 9]"
      ]
     },
     "execution_count": 264,
     "metadata": {},
     "output_type": "execute_result"
    }
   ],
   "source": [
    "l=[1,2,3,4,5,6,7,8,9,10]\n",
    "res=[]\n",
    "for i in l:\n",
    "    if i%2!=0:\n",
    "        res.append(i)\n",
    "res"
   ]
  },
  {
   "cell_type": "code",
   "execution_count": 10,
   "metadata": {},
   "outputs": [
    {
     "name": "stdout",
     "output_type": "stream",
     "text": [
      "0 index 0f ele 10\n",
      "1 index 0f ele 20\n",
      "2 index 0f ele 30\n",
      "3 index 0f ele 40\n",
      "4 index 0f ele 50\n"
     ]
    }
   ],
   "source": [
    "l = [10, 20, 30, 40, 50]\n",
    "for i in range(len((l))):\n",
    "    print(i,'index 0f ele',l[i])"
   ]
  },
  {
   "cell_type": "code",
   "execution_count": 11,
   "metadata": {},
   "outputs": [
    {
     "name": "stdout",
     "output_type": "stream",
     "text": [
      "0 index of ele 10\n",
      "1 index of ele 20\n",
      "2 index of ele 30\n",
      "3 index of ele 40\n",
      "4 index of ele 50\n"
     ]
    }
   ],
   "source": [
    "for i,ele in enumerate(l):\n",
    "    print(i,'index of ele',ele)"
   ]
  },
  {
   "cell_type": "code",
   "execution_count": 15,
   "metadata": {},
   "outputs": [
    {
     "data": {
      "text/plain": [
       "'Hello'"
      ]
     },
     "execution_count": 15,
     "metadata": {},
     "output_type": "execute_result"
    }
   ],
   "source": [
    "# Write a Python program to convert a list of characters into a string.\n",
    "l = ['H', 'e', 'l', 'l', 'o']\n",
    "s=''.join(l)\n",
    "s\n"
   ]
  },
  {
   "cell_type": "code",
   "execution_count": 19,
   "metadata": {},
   "outputs": [
    {
     "name": "stdout",
     "output_type": "stream",
     "text": [
      "90 not found\n"
     ]
    }
   ],
   "source": [
    "# Write a Python program to find the index of an item in a specified list.\n",
    "def find_index(l,search):\n",
    "    for index,ele in enumerate(l):\n",
    "        if ele==search:\n",
    "            return index\n",
    "    else:\n",
    "        print(search,'not found')\n",
    "l=[10,20,30,40,50]\n",
    "serch=90\n",
    "find_index(l,serch)\n"
   ]
  },
  {
   "cell_type": "code",
   "execution_count": 20,
   "metadata": {},
   "outputs": [
    {
     "data": {
      "text/plain": [
       "[1, 2, 3, 4, 12, 1, 2, 3, 4]"
      ]
     },
     "execution_count": 20,
     "metadata": {},
     "output_type": "execute_result"
    }
   ],
   "source": [
    "# Write a Python program to append a list to the second list.\n",
    "\n",
    "l=[1,2,3,4]\n",
    "l2=[12,1,2,3,4]\n",
    "l.extend(l2)\n",
    "l\n"
   ]
  },
  {
   "cell_type": "code",
   "execution_count": 24,
   "metadata": {},
   "outputs": [
    {
     "name": "stdout",
     "output_type": "stream",
     "text": [
      "Flattened list: [1, 2, 3, 4, 5, 6, 7, 8]\n"
     ]
    }
   ],
   "source": [
    "# Write a Python program to flatten a shallow list.\n",
    "def flatten_list(shallow_list):\n",
    "    l2 = []\n",
    "    for i in shallow_list:\n",
    "        if isinstance(i, list):\n",
    "            l2.extend(i)\n",
    "        else:\n",
    "            l2.append(i)\n",
    "    return l2\n",
    "# Example usage\n",
    "shallow_list = [1, 2, [3, 4], 5, [6, 7, 8]]\n",
    "l2 = flatten_list(shallow_list)\n",
    "print(\"Flattened list:\", l2)"
   ]
  },
  {
   "cell_type": "code",
   "execution_count": 41,
   "metadata": {},
   "outputs": [
    {
     "data": {
      "text/plain": [
       "12"
      ]
     },
     "execution_count": 41,
     "metadata": {},
     "output_type": "execute_result"
    }
   ],
   "source": [
    "# . Write a Python program to select an item randomly from a list.\n",
    "\n",
    "import random\n",
    "l=[12,3,54,67,3,56,87,4,54,34]\n",
    "rn=random.choice(l)\n",
    "\n",
    "rn"
   ]
  },
  {
   "cell_type": "code",
   "execution_count": 36,
   "metadata": {},
   "outputs": [
    {
     "name": "stdout",
     "output_type": "stream",
     "text": [
      "0.5714025946899135\n"
     ]
    }
   ],
   "source": [
    "random.seed(10,2)\n",
    "print(random.random())"
   ]
  },
  {
   "cell_type": "code",
   "execution_count": 37,
   "metadata": {},
   "outputs": [
    {
     "name": "stdout",
     "output_type": "stream",
     "text": [
      "(3, (2910518045, 2919558713, 592432859, 1634426085, 3924201493, 2436393689, 1577666200, 2922410003, 974169664, 795094350, 229866157, 130904809, 1313496028, 151893204, 3486739395, 1254617844, 3741002464, 4043461294, 940567236, 3349574631, 3489906999, 3261599347, 2403221536, 670872903, 3291149686, 2850655986, 2300538667, 1966995484, 175963536, 924945844, 1168257397, 2243822545, 2476790015, 2148121793, 3534563085, 1634343159, 2195478836, 1940344654, 370949334, 790535762, 1834814106, 4193214965, 3695000399, 2646949069, 1255132785, 3590688196, 3614018245, 1434516408, 1253983818, 2914647727, 2606531973, 2406691187, 1975526356, 189193241, 1108539432, 2680589103, 1694965793, 1270659808, 2973657439, 2369101683, 3184678051, 2395301497, 3818025635, 2083282924, 2495703181, 2124728846, 2038113894, 4244989963, 1156889065, 862609957, 2423551262, 3819059707, 663961624, 1681714007, 956580344, 1691052737, 2131558558, 654187240, 632833144, 3714198047, 567096537, 899554154, 1802427323, 749355744, 2193727072, 814094773, 1966673377, 3483188262, 3304963165, 1367177032, 3891513754, 2505812233, 2020523939, 1985742846, 626704061, 2653107502, 369960010, 286620024, 1371527384, 3694698447, 857611653, 869587454, 2700337194, 2374526720, 49116546, 643099391, 182535168, 3408150791, 1262701388, 2044935380, 66933741, 1206230504, 3689390267, 3730160777, 1209037781, 3887489275, 4160956783, 3262330543, 1378506881, 213395142, 4003002911, 1240622885, 1127976482, 862859126, 951706629, 423108747, 795053686, 963998611, 1732453326, 736754916, 848978347, 3030738943, 3997094088, 3230629491, 2362366182, 380869993, 1437617939, 4032723754, 2655721859, 494454313, 3031980635, 3186607144, 1650607978, 4217776597, 4190195720, 725273803, 4006933892, 2918307247, 2612992595, 3215906428, 2851350426, 138902605, 1697094929, 2328216144, 394484776, 1652463476, 1630639266, 3699042210, 290713434, 3556002357, 1343746095, 1326206488, 655702823, 104936293, 2562826877, 1655598022, 3369850420, 2464204480, 3646132136, 3777599822, 3250707394, 1311671700, 660106068, 2666540169, 3855967181, 3367262877, 3654600570, 4182463737, 2035454178, 3131455025, 3350888983, 2034228846, 3896381437, 553700319, 1513975352, 696913668, 899881025, 2219743994, 1037817141, 1134907302, 393009801, 1982642987, 2425999375, 791671476, 3795955847, 1034404248, 4020367997, 27481502, 1351841369, 2355714421, 2404611283, 479609721, 1112463824, 3928318551, 938984560, 719567750, 110352693, 1639696170, 3186598251, 761292111, 475645688, 2270995138, 728894833, 2926173947, 1320936647, 3383250105, 65720013, 2671014330, 2847387027, 2969121075, 3329352935, 3770288520, 3964206281, 4168182361, 1707359060, 1408257001, 3450715693, 628449203, 610896409, 588905957, 1322830820, 3640462283, 4044750620, 2988164925, 4083824041, 1990129261, 4156233382, 3627401237, 3211010341, 1666616239, 2972480848, 844583042, 44704583, 3282062939, 2321904370, 13127913, 2065944849, 2364468384, 476631061, 3534359369, 1647310850, 266968272, 3454720710, 1795924682, 1820316222, 2507582687, 1496785810, 3992024104, 2288242718, 1335683996, 723170702, 1489652666, 3949068654, 320306710, 4039547071, 1817806802, 3128530084, 1963667656, 2299476734, 2214544820, 256065957, 976636793, 438871982, 3257022782, 3658046347, 1888125657, 3003359985, 3232519787, 2193873780, 2536958314, 612736659, 1757352080, 4126160663, 4208600692, 3357929051, 1349803408, 709797723, 2862193196, 2733865338, 1847917732, 2982838690, 756992610, 416120390, 1772328840, 3511192812, 3639215236, 581323757, 3429866854, 3299034763, 81263526, 2143662131, 3509206122, 1142149236, 2288638797, 2314182509, 3192068459, 2648103877, 31364268, 2871284653, 1933723073, 3554926164, 3163027549, 896467848, 3570120642, 4038118284, 392098617, 1167346532, 1785455384, 2033872205, 1693658308, 2059628508, 2889657430, 2071562487, 4113666792, 3822310955, 3533962258, 1371655696, 1403861461, 421464014, 3959461194, 4149058179, 1086465771, 1015946246, 2621382350, 2000582283, 2881047661, 1627167598, 3039242003, 870964291, 3355521124, 2260981, 1193867314, 1982094414, 3007508121, 2789947772, 167554690, 3028775942, 3246523627, 3674172133, 2758002636, 1559765501, 2027717592, 2915111825, 1190458685, 1058903556, 2432688681, 971451939, 1888620569, 975460118, 1624467345, 136309091, 3997234029, 598318846, 2989382797, 3608316101, 45266846, 1528146332, 1965658838, 3637786198, 2524595919, 4232358541, 1631453446, 1639144870, 4020252532, 3236917143, 1360250576, 2788984411, 3762745571, 3613352771, 3217621372, 301525683, 1343328237, 376601489, 1111565393, 3852204545, 425855701, 3603214514, 336697868, 803277263, 4248673218, 3324796209, 1656738380, 3899708684, 4031041788, 2708835100, 1110160947, 1298501877, 1740735328, 862669803, 3200748959, 1070336453, 1445010694, 780106578, 153499529, 1688823727, 3505867478, 2474839954, 4132413130, 3784848098, 2090083651, 4108657297, 1011350285, 1479116717, 988654479, 1105442054, 380740504, 3203487161, 2643610060, 3322988986, 3221217626, 3592249213, 2779884253, 2044186223, 3076165135, 3806351734, 3060357717, 2863011615, 1169058161, 1113969302, 1045981805, 311464233, 2236176646, 1435805243, 3509008257, 2512719556, 3206195232, 1171330831, 3022981576, 3076049986, 1677146765, 3823183119, 1331676465, 774674370, 2425031589, 3005427466, 3407759373, 3141051671, 3903949247, 3364298405, 1079187575, 3726093522, 2717490088, 3888044370, 1773096918, 123582274, 3938703114, 116639222, 1093335968, 4230241756, 592927768, 1215086274, 990026541, 2309421364, 1242303966, 996591525, 4178510717, 3476836050, 2178247059, 3556310446, 2628742925, 122665979, 1780590194, 2922761788, 1222392510, 631653315, 3959254022, 3653793144, 612798403, 3314303312, 3895051139, 1208878662, 484620038, 3626750088, 3921956316, 3904249617, 3353478870, 249377279, 1753034227, 3565445698, 2095500303, 2480455683, 1292245244, 946291267, 684375320, 104145271, 2913686448, 2225127489, 2472333904, 750174656, 4004286304, 4085497527, 3271252141, 1864494644, 4199917053, 1358886282, 358292498, 2284423264, 797448349, 2293886434, 2336156133, 2389862705, 1443734706, 1644943784, 4261302510, 3324227082, 2865938428, 3042091860, 454590046, 1243572319, 1931670576, 709576968, 1404809709, 434868187, 2115929572, 4209433267, 1742225740, 824328396, 2952650178, 3096666239, 2887532264, 4149344548, 2648994466, 1276043052, 2495228838, 3764729951, 730275817, 4277707459, 1591279516, 312613621, 1748807698, 397249599, 3326824925, 892425536, 1889212692, 1705415062, 2399075847, 2028569480, 2077597603, 559770995, 216133874, 813523529, 1663090043, 1327536309, 1126315189, 3535249660, 1641628170, 348337888, 3109355426, 4058285115, 859672864, 2699711497, 816683043, 2182992420, 1814760603, 3746802868, 3646961272, 3713358315, 492059394, 1300908413, 3272406897, 1809600926, 2628610618, 244337251, 1948103926, 991353850, 543539075, 1534159671, 1747272920, 4028644690, 2570417421, 2025455257, 1249379269, 2357813788, 266006694, 1706446538, 1938738160, 2482161797, 3559851357, 3073890391, 227514435, 152405858, 1227333167, 261909105, 3384151334, 1102033054, 197708743, 1157470553, 478563148, 440882900, 686627002, 357675544, 477440013, 1561143843, 2428402127, 3322010885, 3820876946, 3288851063, 2607677986, 222929805, 4257935406, 3469582068, 3578401122, 3245095917, 1435026106, 1525707182, 1550874090, 3218908085, 1476614429, 1169975610, 1160989991, 1383567367, 4084887544, 2096043608, 2194693540, 2), None)\n"
     ]
    }
   ],
   "source": [
    "print(random.getstate())"
   ]
  },
  {
   "cell_type": "code",
   "execution_count": 38,
   "metadata": {},
   "outputs": [
    {
     "name": "stdout",
     "output_type": "stream",
     "text": [
      "6\n"
     ]
    }
   ],
   "source": [
    "print(random.randrange(3, 9))"
   ]
  },
  {
   "cell_type": "code",
   "execution_count": 40,
   "metadata": {},
   "outputs": [
    {
     "name": "stdout",
     "output_type": "stream",
     "text": [
      "7\n"
     ]
    }
   ],
   "source": [
    "print(random.randint(3, 9))"
   ]
  },
  {
   "cell_type": "code",
   "execution_count": 42,
   "metadata": {},
   "outputs": [
    {
     "data": {
      "text/plain": [
       "[34, 3, 56, 12, 3, 54, 87, 54, 4, 67]"
      ]
     },
     "execution_count": 42,
     "metadata": {},
     "output_type": "execute_result"
    }
   ],
   "source": [
    "random.shuffle(l)\n",
    "l"
   ]
  },
  {
   "cell_type": "code",
   "execution_count": 45,
   "metadata": {},
   "outputs": [
    {
     "name": "stdout",
     "output_type": "stream",
     "text": [
      "[34, 87]\n"
     ]
    }
   ],
   "source": [
    "print(random.sample(l, k=2))"
   ]
  },
  {
   "cell_type": "code",
   "execution_count": 46,
   "metadata": {},
   "outputs": [
    {
     "name": "stdout",
     "output_type": "stream",
     "text": [
      "0.860161037286291\n"
     ]
    }
   ],
   "source": [
    "print(random.random())"
   ]
  },
  {
   "cell_type": "code",
   "execution_count": 47,
   "metadata": {},
   "outputs": [
    {
     "name": "stdout",
     "output_type": "stream",
     "text": [
      "44.1276244387274\n"
     ]
    }
   ],
   "source": [
    "print(random.uniform(20, 60))"
   ]
  },
  {
   "cell_type": "code",
   "execution_count": 54,
   "metadata": {},
   "outputs": [
    {
     "name": "stdout",
     "output_type": "stream",
     "text": [
      "27.29323370562641\n"
     ]
    }
   ],
   "source": [
    "print(random.triangular(20, 60, 30))"
   ]
  },
  {
   "cell_type": "code",
   "execution_count": 64,
   "metadata": {},
   "outputs": [
    {
     "data": {
      "text/plain": [
       "2"
      ]
     },
     "execution_count": 64,
     "metadata": {},
     "output_type": "execute_result"
    }
   ],
   "source": [
    "# Write a Python program to find the second smallest number in a list.\n",
    "\n",
    "l=[2,5,23,46,56,23,0.1,4,5,23]\n",
    "if len(l)<2:\n",
    "    print('None')\n",
    "small=float('inf')\n",
    "sec_sm=float('inf')\n",
    "for i in l:\n",
    "    if i<small:\n",
    "        sec_sm=small\n",
    "        small=i\n",
    "    elif i<sec_sm and i!=small:\n",
    "        sec_sm=i\n",
    "sec_sm"
   ]
  },
  {
   "cell_type": "code",
   "execution_count": 58,
   "metadata": {},
   "outputs": [
    {
     "data": {
      "text/plain": [
       "0.1"
      ]
     },
     "execution_count": 58,
     "metadata": {},
     "output_type": "execute_result"
    }
   ],
   "source": [
    "small=float('inf')\n",
    "for i in l:\n",
    "    if i<small:\n",
    "        small=i\n",
    "small"
   ]
  },
  {
   "cell_type": "code",
   "execution_count": 59,
   "metadata": {},
   "outputs": [
    {
     "data": {
      "text/plain": [
       "56"
      ]
     },
     "execution_count": 59,
     "metadata": {},
     "output_type": "execute_result"
    }
   ],
   "source": [
    "maxi=0\n",
    "for i in l:\n",
    "    if i>maxi:\n",
    "        maxi=i\n",
    "\n",
    "maxi"
   ]
  },
  {
   "cell_type": "code",
   "execution_count": 74,
   "metadata": {},
   "outputs": [
    {
     "data": {
      "text/plain": [
       "46"
      ]
     },
     "execution_count": 74,
     "metadata": {},
     "output_type": "execute_result"
    }
   ],
   "source": [
    "sec_max=l[0]\n",
    "mac=l[0]\n",
    "l = [2, 5,46, 46, 56, 56, 23, 0.1, 4, 5, 23]\n",
    "\n",
    "for i in l:\n",
    "    if i>mac:\n",
    "        sec_max=mac\n",
    "        mac=i\n",
    "    elif i>sec_max and i!=mac:\n",
    "        sec_max=i\n",
    "sec_max"
   ]
  },
  {
   "cell_type": "code",
   "execution_count": 77,
   "metadata": {},
   "outputs": [
    {
     "data": {
      "text/plain": [
       "{2: 1, 5: 2, 46: 2, 56: 2, 23: 2, 0.1: 1, 4: 4}"
      ]
     },
     "execution_count": 77,
     "metadata": {},
     "output_type": "execute_result"
    }
   ],
   "source": [
    "# 30. Write a Python program to get the frequency of elements in a list.\n",
    "\n",
    "l = [2, 5, 46, 46, 56, 56, 23, 0.1,4,4,4, 4, 5, 23]\n",
    "d={}\n",
    "co=0\n",
    "for i in l:\n",
    "    if i not in d:\n",
    "        d[i]=1\n",
    "    else:\n",
    "        d[i]+=1\n",
    "d"
   ]
  },
  {
   "cell_type": "code",
   "execution_count": 3,
   "metadata": {},
   "outputs": [
    {
     "name": "stdout",
     "output_type": "stream",
     "text": [
      "Yes\n",
      "No\n",
      "Yes\n"
     ]
    }
   ],
   "source": [
    "\n",
    "t=int(input())\n",
    "for _ in range(t):\n",
    "    n=int(input())\n",
    "    s=input()\n",
    "    co=s.count('1')\n",
    "    if n%2==0:\n",
    "        if co%2 or co%2:\n",
    "            print('Yes')\n",
    "    else:\n",
    "        print('No')"
   ]
  },
  {
   "cell_type": "code",
   "execution_count": 2,
   "metadata": {},
   "outputs": [
    {
     "name": "stdout",
     "output_type": "stream",
     "text": [
      "Yes\n"
     ]
    }
   ],
   "source": [
    "T = int(input())\n",
    "for _ in range(T):\n",
    "    n = int(input())\n",
    "    str1 = input()\n",
    "    count1 = str1.count('1')\n",
    "    count0 = str1.count('0')\n",
    "    com =  0\n",
    "    if n % 2 == 0:\n",
    "        if count1 % 2 and count0 % 2:\n",
    "            print('NO')\n",
    "        else:\n",
    "            print('YES')\n",
    "    else:\n",
    "        print('YES')"
   ]
  },
  {
   "cell_type": "code",
   "execution_count": 4,
   "metadata": {},
   "outputs": [
    {
     "name": "stdout",
     "output_type": "stream",
     "text": [
      "77\n",
      "23\n"
     ]
    },
    {
     "ename": "ValueError",
     "evalue": "invalid literal for int() with base 10: 'dfd'",
     "output_type": "error",
     "traceback": [
      "\u001b[0;31m---------------------------------------------------------------------------\u001b[0m",
      "\u001b[0;31mValueError\u001b[0m                                Traceback (most recent call last)",
      "Cell \u001b[0;32mIn[4], line 15\u001b[0m\n\u001b[1;32m     13\u001b[0m \u001b[38;5;28;01mfor\u001b[39;00m _ \u001b[38;5;129;01min\u001b[39;00m \u001b[38;5;28mrange\u001b[39m(t):\n\u001b[1;32m     14\u001b[0m     n \u001b[38;5;241m=\u001b[39m \u001b[38;5;28mint\u001b[39m(\u001b[38;5;28minput\u001b[39m())\n\u001b[0;32m---> 15\u001b[0m     quantities \u001b[38;5;241m=\u001b[39m \u001b[38;5;28;43mlist\u001b[39;49m\u001b[43m(\u001b[49m\u001b[38;5;28;43mmap\u001b[39;49m\u001b[43m(\u001b[49m\u001b[38;5;28;43mint\u001b[39;49m\u001b[43m,\u001b[49m\u001b[43m \u001b[49m\u001b[38;5;28;43minput\u001b[39;49m\u001b[43m(\u001b[49m\u001b[43m)\u001b[49m\u001b[38;5;241;43m.\u001b[39;49m\u001b[43msplit\u001b[49m\u001b[43m(\u001b[49m\u001b[43m)\u001b[49m\u001b[43m)\u001b[49m\u001b[43m)\u001b[49m\n\u001b[1;32m     17\u001b[0m     result \u001b[38;5;241m=\u001b[39m count_mixes(n, quantities)\n\u001b[1;32m     18\u001b[0m     \u001b[38;5;28mprint\u001b[39m(result)\n",
      "\u001b[0;31mValueError\u001b[0m: invalid literal for int() with base 10: 'dfd'"
     ]
    }
   ],
   "source": [
    "def count_mixes(n, quantities):\n",
    "    total_mixes = 0\n",
    "\n",
    "    for i in range(n):\n",
    "        for j in range(i + 1, n):\n",
    "            total_mixes += quantities[i] * quantities[j]\n",
    "\n",
    "    return total_mixes\n",
    "\n",
    "\n",
    "t = int(input())\n",
    "\n",
    "for _ in range(t):\n",
    "    n = int(input())\n",
    "    quantities = list(map(int, input().split()))\n",
    "\n",
    "    result = count_mixes(n, quantities)\n",
    "    print(result)\n",
    "\n"
   ]
  },
  {
   "cell_type": "code",
   "execution_count": null,
   "metadata": {},
   "outputs": [],
   "source": []
  }
 ],
 "metadata": {
  "kernelspec": {
   "display_name": "Python 3",
   "language": "python",
   "name": "python3"
  },
  "language_info": {
   "codemirror_mode": {
    "name": "ipython",
    "version": 3
   },
   "file_extension": ".py",
   "mimetype": "text/x-python",
   "name": "python",
   "nbconvert_exporter": "python",
   "pygments_lexer": "ipython3",
   "version": "3.10.12"
  }
 },
 "nbformat": 4,
 "nbformat_minor": 2
}

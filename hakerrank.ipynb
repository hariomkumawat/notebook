{
 "cells": [
  {
   "cell_type": "code",
   "execution_count": 1,
   "metadata": {},
   "outputs": [
    {
     "name": "stdout",
     "output_type": "stream",
     "text": [
      "1\n"
     ]
    }
   ],
   "source": [
    "def numCells(grid):\n",
    "    def is_dominant(row, col):\n",
    "        current_value = grid[row][col]\n",
    "\n",
    "        # Check all neighbors\n",
    "        for i in range(row - 1, row + 2):\n",
    "            for j in range(col - 1, col + 2):\n",
    "                if 0 <= i < len(grid) and 0 <= j < len(grid[0]) and (i != row or j != col):\n",
    "                    if grid[i][j] >= current_value:\n",
    "                        return False  # Not a dominant cell\n",
    "\n",
    "        return True  # Dominant cell\n",
    "\n",
    "    count_dominant_cells = 0\n",
    "\n",
    "    # Iterate through each cell in the grid\n",
    "    for i in range(len(grid)):\n",
    "        for j in range(len(grid[0])):\n",
    "            if is_dominant(i, j):\n",
    "                count_dominant_cells += 1\n",
    "\n",
    "    return count_dominant_cells\n",
    "\n",
    "\n",
    "if __name__ == '__main__':\n",
    "    # Example usage\n",
    "    grid = [\n",
    "        [1, 2, 3],\n",
    "        [4, 5, 6],\n",
    "        [7, 8, 9]\n",
    "    ]\n",
    "\n",
    "    result = numCells(grid)\n",
    "\n",
    "    print(result)  # Output: 3 (cells with values 9, 8, 9 are dominant)"
   ]
  },
  {
   "cell_type": "code",
   "execution_count": 2,
   "metadata": {},
   "outputs": [
    {
     "name": "stdout",
     "output_type": "stream",
     "text": [
      "True\n",
      "False\n",
      "3\n",
      "2\n"
     ]
    }
   ],
   "source": [
    "class Multiset:\n",
    "    def __init__(self):\n",
    "        # Initialize an empty dictionary to store element counts\n",
    "        self.elements = {}\n",
    "\n",
    "    def add(self, val):\n",
    "        # Add one occurrence of val to the multiset\n",
    "        self.elements[val] = self.elements.get(val, 0) + 1\n",
    "\n",
    "    def remove(self, val):\n",
    "        # Remove one occurrence of val from the multiset, if any\n",
    "        if val in self.elements:\n",
    "            self.elements[val] -= 1\n",
    "            if self.elements[val] == 0:\n",
    "                del self.elements[val]\n",
    "\n",
    "    def __contains__(self, val):\n",
    "        # Check if val is in the multiset\n",
    "        return val in self.elements\n",
    "\n",
    "    def __len__(self):\n",
    "        # Return the total number of elements in the multiset\n",
    "        return sum(self.elements.values())\n",
    "\n",
    "\n",
    "if __name__ == '__main__':\n",
    "    # Example usage\n",
    "    multiset = Multiset()\n",
    "    multiset.add(1)\n",
    "    multiset.add(2)\n",
    "    multiset.add(1)\n",
    "\n",
    "    print(1 in multiset)  # Output: True\n",
    "    print(3 in multiset)  # Output: False\n",
    "\n",
    "    print(len(multiset))  # Output: 3\n",
    "\n",
    "    multiset.remove(1)\n",
    "    print(len(multiset))  # Output: 2"
   ]
  },
  {
   "cell_type": "code",
   "execution_count": 1,
   "metadata": {},
   "outputs": [
    {
     "name": "stdout",
     "output_type": "stream",
     "text": [
      "------------.|.------------\n",
      "---------.|..|..|.---------\n",
      "------.|..|..|..|..|.------\n",
      "---.|..|..|..|..|..|..|.---\n",
      "----------WELCOME----------\n",
      "---.|..|..|..|..|..|..|.---\n",
      "------.|..|..|..|..|.------\n",
      "---------.|..|..|.---------\n",
      "------------.|.------------\n"
     ]
    }
   ],
   "source": [
    "def door_mat_design(m, n):\n",
    "    pattern = [('.|.' * (2 * i + 1)).center(n, '-') for i in range(m // 2)]\n",
    "    welcome_line = 'WELCOME'.center(n, '-')\n",
    "    result = '\\n'.join(pattern + [welcome_line] + pattern[::-1])\n",
    "    print(result)\n",
    "\n",
    "if __name__ == \"__main__\":\n",
    "    m, n = map(int, input().split())\n",
    "    door_mat_design(m, n)\n"
   ]
  },
  {
   "cell_type": "code",
   "execution_count": 7,
   "metadata": {},
   "outputs": [
    {
     "name": "stdout",
     "output_type": "stream",
     "text": [
      "AB\n",
      "CA\n",
      "AD\n"
     ]
    }
   ],
   "source": [
    " string='AABCAAADA'\n",
    " k=3\n",
    " n = len(string)\n",
    "for i in range(0, n, k):\n",
    "    substring = string[i:i+k]\n",
    "    unique_substring = \"\"\n",
    "    for char in substring:\n",
    "        if char not in unique_substring:\n",
    "            unique_substring += char\n",
    "    print(unique_substring)"
   ]
  },
  {
   "cell_type": "code",
   "execution_count": null,
   "metadata": {},
   "outputs": [],
   "source": []
  },
  {
   "cell_type": "code",
   "execution_count": null,
   "metadata": {},
   "outputs": [],
   "source": []
  }
 ],
 "metadata": {
  "kernelspec": {
   "display_name": "Python 3",
   "language": "python",
   "name": "python3"
  },
  "language_info": {
   "codemirror_mode": {
    "name": "ipython",
    "version": 3
   },
   "file_extension": ".py",
   "mimetype": "text/x-python",
   "name": "python",
   "nbconvert_exporter": "python",
   "pygments_lexer": "ipython3",
   "version": "3.10.12"
  }
 },
 "nbformat": 4,
 "nbformat_minor": 2
}

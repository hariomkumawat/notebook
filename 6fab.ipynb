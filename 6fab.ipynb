{
 "cells": [
  {
   "cell_type": "code",
   "execution_count": 5,
   "metadata": {},
   "outputs": [
    {
     "name": "stdout",
     "output_type": "stream",
     "text": [
      "['__class__', '__class_getitem__', '__contains__', '__delattr__', '__delitem__', '__dir__', '__doc__', '__eq__', '__format__', '__ge__', '__getattribute__', '__getitem__', '__gt__', '__hash__', '__init__', '__init_subclass__', '__ior__', '__iter__', '__le__', '__len__', '__lt__', '__ne__', '__new__', '__or__', '__reduce__', '__reduce_ex__', '__repr__', '__reversed__', '__ror__', '__setattr__', '__setitem__', '__sizeof__', '__str__', '__subclasshook__', 'clear', 'copy', 'fromkeys', 'get', 'items', 'keys', 'pop', 'popitem', 'setdefault', 'update', 'values']\n"
     ]
    }
   ],
   "source": [
    "number = {24:1}\n",
    "\n",
    "# returns valid attributes of the number list\n",
    "print(dir(number))"
   ]
  },
  {
   "cell_type": "code",
   "execution_count": 6,
   "metadata": {},
   "outputs": [
    {
     "name": "stdout",
     "output_type": "stream",
     "text": [
      "Help on class list in module builtins:\n",
      "\n",
      "class list(object)\n",
      " |  list(iterable=(), /)\n",
      " |  \n",
      " |  Built-in mutable sequence.\n",
      " |  \n",
      " |  If no argument is given, the constructor creates a new empty list.\n",
      " |  The argument must be an iterable if specified.\n",
      " |  \n",
      " |  Methods defined here:\n",
      " |  \n",
      " |  __add__(self, value, /)\n",
      " |      Return self+value.\n",
      " |  \n",
      " |  __contains__(self, key, /)\n",
      " |      Return key in self.\n",
      " |  \n",
      " |  __delitem__(self, key, /)\n",
      " |      Delete self[key].\n",
      " |  \n",
      " |  __eq__(self, value, /)\n",
      " |      Return self==value.\n",
      " |  \n",
      " |  __ge__(self, value, /)\n",
      " |      Return self>=value.\n",
      " |  \n",
      " |  __getattribute__(self, name, /)\n",
      " |      Return getattr(self, name).\n",
      " |  \n",
      " |  __getitem__(...)\n",
      " |      x.__getitem__(y) <==> x[y]\n",
      " |  \n",
      " |  __gt__(self, value, /)\n",
      " |      Return self>value.\n",
      " |  \n",
      " |  __iadd__(self, value, /)\n",
      " |      Implement self+=value.\n",
      " |  \n",
      " |  __imul__(self, value, /)\n",
      " |      Implement self*=value.\n",
      " |  \n",
      " |  __init__(self, /, *args, **kwargs)\n",
      " |      Initialize self.  See help(type(self)) for accurate signature.\n",
      " |  \n",
      " |  __iter__(self, /)\n",
      " |      Implement iter(self).\n",
      " |  \n",
      " |  __le__(self, value, /)\n",
      " |      Return self<=value.\n",
      " |  \n",
      " |  __len__(self, /)\n",
      " |      Return len(self).\n",
      " |  \n",
      " |  __lt__(self, value, /)\n",
      " |      Return self<value.\n",
      " |  \n",
      " |  __mul__(self, value, /)\n",
      " |      Return self*value.\n",
      " |  \n",
      " |  __ne__(self, value, /)\n",
      " |      Return self!=value.\n",
      " |  \n",
      " |  __repr__(self, /)\n",
      " |      Return repr(self).\n",
      " |  \n",
      " |  __reversed__(self, /)\n",
      " |      Return a reverse iterator over the list.\n",
      " |  \n",
      " |  __rmul__(self, value, /)\n",
      " |      Return value*self.\n",
      " |  \n",
      " |  __setitem__(self, key, value, /)\n",
      " |      Set self[key] to value.\n",
      " |  \n",
      " |  __sizeof__(self, /)\n",
      " |      Return the size of the list in memory, in bytes.\n",
      " |  \n",
      " |  append(self, object, /)\n",
      " |      Append object to the end of the list.\n",
      " |  \n",
      " |  clear(self, /)\n",
      " |      Remove all items from list.\n",
      " |  \n",
      " |  copy(self, /)\n",
      " |      Return a shallow copy of the list.\n",
      " |  \n",
      " |  count(self, value, /)\n",
      " |      Return number of occurrences of value.\n",
      " |  \n",
      " |  extend(self, iterable, /)\n",
      " |      Extend list by appending elements from the iterable.\n",
      " |  \n",
      " |  index(self, value, start=0, stop=9223372036854775807, /)\n",
      " |      Return first index of value.\n",
      " |      \n",
      " |      Raises ValueError if the value is not present.\n",
      " |  \n",
      " |  insert(self, index, object, /)\n",
      " |      Insert object before index.\n",
      " |  \n",
      " |  pop(self, index=-1, /)\n",
      " |      Remove and return item at index (default last).\n",
      " |      \n",
      " |      Raises IndexError if list is empty or index is out of range.\n",
      " |  \n",
      " |  remove(self, value, /)\n",
      " |      Remove first occurrence of value.\n",
      " |      \n",
      " |      Raises ValueError if the value is not present.\n",
      " |  \n",
      " |  reverse(self, /)\n",
      " |      Reverse *IN PLACE*.\n",
      " |  \n",
      " |  sort(self, /, *, key=None, reverse=False)\n",
      " |      Sort the list in ascending order and return None.\n",
      " |      \n",
      " |      The sort is in-place (i.e. the list itself is modified) and stable (i.e. the\n",
      " |      order of two equal elements is maintained).\n",
      " |      \n",
      " |      If a key function is given, apply it once to each list item and sort them,\n",
      " |      ascending or descending, according to their function values.\n",
      " |      \n",
      " |      The reverse flag can be set to sort in descending order.\n",
      " |  \n",
      " |  ----------------------------------------------------------------------\n",
      " |  Class methods defined here:\n",
      " |  \n",
      " |  __class_getitem__(...) from builtins.type\n",
      " |      See PEP 585\n",
      " |  \n",
      " |  ----------------------------------------------------------------------\n",
      " |  Static methods defined here:\n",
      " |  \n",
      " |  __new__(*args, **kwargs) from builtins.type\n",
      " |      Create and return a new object.  See help(type) for accurate signature.\n",
      " |  \n",
      " |  ----------------------------------------------------------------------\n",
      " |  Data and other attributes defined here:\n",
      " |  \n",
      " |  __hash__ = None\n",
      "\n"
     ]
    }
   ],
   "source": [
    " help(list)"
   ]
  },
  {
   "cell_type": "code",
   "execution_count": 7,
   "metadata": {},
   "outputs": [
    {
     "name": "stdout",
     "output_type": "stream",
     "text": [
      "81\n"
     ]
    }
   ],
   "source": [
    "print(pow(3, 4))"
   ]
  },
  {
   "cell_type": "code",
   "execution_count": 9,
   "metadata": {},
   "outputs": [
    {
     "name": "stdout",
     "output_type": "stream",
     "text": [
      "25 prime\n"
     ]
    }
   ],
   "source": [
    "n=25\n",
    "flag=False\n",
    "if n==1:\n",
    "    print(n,'not prime')\n",
    "else:\n",
    "    for i in range(2,n):\n",
    "        if n%i==0:\n",
    "            flag=True\n",
    "            break\n",
    "if flag:\n",
    "    print(n,'prime')\n",
    "else:\n",
    "    print(n, 'not prime')"
   ]
  },
  {
   "cell_type": "code",
   "execution_count": 10,
   "metadata": {},
   "outputs": [
    {
     "name": "stdout",
     "output_type": "stream",
     "text": [
      "Prime numbers between 900 and 1000 are:\n",
      "907 911 919 929 937 941 947 953 967 971 977 983 991 997 "
     ]
    }
   ],
   "source": [
    "# Python program to display all the prime numbers within an interval\n",
    "\n",
    "lower = 900\n",
    "upper = 1000\n",
    "\n",
    "print(\"Prime numbers between\", lower, \"and\", upper, \"are:\")\n",
    "\n",
    "for num in range(lower, upper + 1):\n",
    "   # all prime numbers are greater than 1\n",
    "   if num > 1:\n",
    "       for i in range(2, num):\n",
    "           if (num % i) == 0:\n",
    "               break\n",
    "       else:\n",
    "           print(num,end=' ')"
   ]
  },
  {
   "cell_type": "code",
   "execution_count": 17,
   "metadata": {},
   "outputs": [
    {
     "ename": "TypeError",
     "evalue": "can only concatenate str (not \"int\") to str",
     "output_type": "error",
     "traceback": [
      "\u001b[0;31m---------------------------------------------------------------------------\u001b[0m",
      "\u001b[0;31mTypeError\u001b[0m                                 Traceback (most recent call last)",
      "Cell \u001b[0;32mIn[17], line 2\u001b[0m\n\u001b[1;32m      1\u001b[0m a\u001b[38;5;241m=\u001b[39m\u001b[38;5;124m'\u001b[39m\u001b[38;5;124mq\u001b[39m\u001b[38;5;124m'\u001b[39m\n\u001b[0;32m----> 2\u001b[0m \u001b[38;5;28mprint\u001b[39m(\u001b[43ma\u001b[49m\u001b[38;5;241;43m+\u001b[39;49m\u001b[38;5;241;43m1\u001b[39;49m)\n",
      "\u001b[0;31mTypeError\u001b[0m: can only concatenate str (not \"int\") to str"
     ]
    }
   ],
   "source": [
    "a='q'\n",
    "print(a+1)"
   ]
  },
  {
   "cell_type": "code",
   "execution_count": 1,
   "metadata": {},
   "outputs": [
    {
     "name": "stdout",
     "output_type": "stream",
     "text": [
      "[0, 0, 0, 0]\n",
      "[0, 0, 0, 0]\n",
      "[0, 0, 0, 0]\n"
     ]
    }
   ],
   "source": [
    "# Function to create a 2D array with dimensions rows x cols\n",
    "def create_2d_array(rows, cols):\n",
    "    # Using list comprehension to create rows\n",
    "    array_2d = [[0 for _ in range(cols)] for _ in range(rows)]\n",
    "    return array_2d\n",
    "\n",
    "# Example: Create a 3x4 2D array\n",
    "rows = 3\n",
    "cols = 4\n",
    "my_2d_array = create_2d_array(rows, cols)\n",
    "\n",
    "# Display the 2D array\n",
    "for row in my_2d_array:\n",
    "    print(row)\n"
   ]
  },
  {
   "cell_type": "code",
   "execution_count": 3,
   "metadata": {},
   "outputs": [
    {
     "name": "stdout",
     "output_type": "stream",
     "text": [
      "[0, 0, 0, 0]\n",
      "[0, 0, 0, 0]\n",
      "[0, 0, 0, 0]\n"
     ]
    }
   ],
   "source": [
    "\n",
    "def my2dArray(row,cols):\n",
    "    a=[[0 for _ in range(cols)] for _ in range(row)]\n",
    "    return a\n",
    "\n",
    "row=3\n",
    "cols=4\n",
    "arrary=my2dArray(row,cols)\n",
    "for i in arrary:\n",
    "    print(i)\n"
   ]
  },
  {
   "cell_type": "code",
   "execution_count": 8,
   "metadata": {},
   "outputs": [
    {
     "name": "stdout",
     "output_type": "stream",
     "text": [
      "[1, 1, 1, 1]\n",
      "[1, 1, 1, 1]\n",
      "[1, 1, 1, 1]\n",
      "\n",
      "[1, 1, 1, 1]\n",
      "[1, 1, 1, 1]\n",
      "[1, 1, 1, 1]\n",
      "\n"
     ]
    }
   ],
   "source": [
    "# Function to create a 3D array with dimensions depth x rows x cols\n",
    "def create_3d_array(depth, rows, cols):\n",
    "    # Using list comprehension to create depth, rows, and cols\n",
    "    array_3d = [[[1 for _ in range(cols)]\n",
    "                 for _ in range(rows)] for _ in range(depth)]\n",
    "    return array_3d\n",
    "\n",
    "\n",
    "# Example: Create a 2x3x4 3D array\n",
    "depth = 2\n",
    "my_3d_array = create_3d_array(depth, rows, cols)\n",
    "\n",
    "# Display the 3D array\n",
    "for matrix in my_3d_array:\n",
    "    for row in matrix:\n",
    "        print(row)\n",
    "    print()"
   ]
  },
  {
   "cell_type": "code",
   "execution_count": 24,
   "metadata": {},
   "outputs": [
    {
     "name": "stdout",
     "output_type": "stream",
     "text": [
      "[0, 0, 0, 0]\n",
      "[0, 0, 0, 0]\n",
      "[0, 0, 0, 0]\n",
      "\n",
      "[0, 0, 0, 0]\n",
      "[0, 0, 0, 0]\n",
      "[0, 0, 0, 0]\n",
      "\n"
     ]
    }
   ],
   "source": [
    "def threedarrary(r,c,d):\n",
    "    a=[[[0 for i in range(c)] for _ in range(r)] for _ in range(d)]\n",
    "    return a\n",
    "c=3\n",
    "r=4\n",
    "d=2\n",
    "ar=threedarrary(c,r,d)\n",
    "for i in ar:\n",
    "    for j in i:\n",
    "        print(j)\n",
    "    print()"
   ]
  },
  {
   "cell_type": "code",
   "execution_count": 28,
   "metadata": {},
   "outputs": [
    {
     "name": "stdout",
     "output_type": "stream",
     "text": [
      "[1, 2, 3, 4]\n",
      "[1, 2, 3, 4]\n",
      "[1, 2, 3, 4]\n"
     ]
    }
   ],
   "source": [
    "# Specify dimensions\n",
    "rows = 3\n",
    "cols = 4\n",
    "\n",
    "# Create a 2D array using nested loops\n",
    "my_2d_array = []\n",
    "for i in range(rows):\n",
    "    row = []\n",
    "    co=0\n",
    "    for j in range(cols):\n",
    "        co+=1\n",
    "        row.append(co)\n",
    "    my_2d_array.append(row)\n",
    "\n",
    "# Display the 2D array\n",
    "for row in my_2d_array:\n",
    "    print(row)"
   ]
  },
  {
   "cell_type": "code",
   "execution_count": 29,
   "metadata": {},
   "outputs": [
    {
     "name": "stdout",
     "output_type": "stream",
     "text": [
      "[0, 0, 0, 0]\n",
      "[0, 0, 0, 0]\n",
      "[0, 0, 0, 0]\n",
      "\n",
      "[0, 0, 0, 0]\n",
      "[0, 0, 0, 0]\n",
      "[0, 0, 0, 0]\n",
      "\n"
     ]
    }
   ],
   "source": [
    "# Specify dimensions\n",
    "depth = 2\n",
    "rows = 3\n",
    "cols = 4\n",
    "\n",
    "# Create a 3D array using nested loops\n",
    "my_3d_array = []\n",
    "for i in range(depth):\n",
    "    matrix = []\n",
    "    for j in range(rows):\n",
    "        row = []\n",
    "        for k in range(cols):\n",
    "            row.append(0)\n",
    "        matrix.append(row)\n",
    "    my_3d_array.append(matrix)\n",
    "\n",
    "# Display the 3D array\n",
    "for matrix in my_3d_array:\n",
    "    for row in matrix:\n",
    "        print(row)\n",
    "    print()"
   ]
  },
  {
   "cell_type": "code",
   "execution_count": 31,
   "metadata": {},
   "outputs": [
    {
     "name": "stdout",
     "output_type": "stream",
     "text": [
      "[10, 20, 30, 40, 50, 60, 70, 80, 90]\n"
     ]
    }
   ],
   "source": [
    "n=[i*10 for i in range(1,10)]\n",
    "print(n)"
   ]
  },
  {
   "cell_type": "code",
   "execution_count": 37,
   "metadata": {},
   "outputs": [
    {
     "name": "stdout",
     "output_type": "stream",
     "text": [
      "[0, 2, 4, 6, 8, 10]\n"
     ]
    }
   ],
   "source": [
    "n=[n for n in range(11) if n%2==0]\n",
    "print(n)"
   ]
  },
  {
   "cell_type": "code",
   "execution_count": 41,
   "metadata": {},
   "outputs": [
    {
     "data": {
      "text/plain": [
       "[(4, 0), (3, 1), (1, 2)]"
      ]
     },
     "execution_count": 41,
     "metadata": {},
     "output_type": "execute_result"
    }
   ],
   "source": [
    "l=[(1,2),(3,1),(4,0)]\n",
    "a=list((sorted(l,key=lambda x: x[-1])))\n",
    "a"
   ]
  },
  {
   "cell_type": "code",
   "execution_count": 1,
   "metadata": {},
   "outputs": [
    {
     "data": {
      "text/plain": [
       "2"
      ]
     },
     "execution_count": 1,
     "metadata": {},
     "output_type": "execute_result"
    }
   ],
   "source": [
    "l = ['abc', 'xyz', 'aba','1221']\n",
    "co=0\n",
    "for i in l:\n",
    "    if len(i)>2 and i[0]==i[-1]:\n",
    "        co+=1\n",
    "co"
   ]
  },
  {
   "cell_type": "code",
   "execution_count": 3,
   "metadata": {},
   "outputs": [
    {
     "data": {
      "text/plain": [
       "[(2, 1), (1, 2), (2, 3), (4, 4), (2, 5)]"
      ]
     },
     "execution_count": 3,
     "metadata": {},
     "output_type": "execute_result"
    }
   ],
   "source": [
    "l = [(2, 5), (1, 2), (4, 4), (2, 3), (2, 1)]\n",
    "a=sorted(l,key=lambda x:x[-1])\n",
    "a"
   ]
  },
  {
   "cell_type": "code",
   "execution_count": 9,
   "metadata": {},
   "outputs": [
    {
     "data": {
      "text/plain": [
       "[(2, 1), (1, 2), (2, 3), (4, 4), (2, 5)]"
      ]
     },
     "execution_count": 9,
     "metadata": {},
     "output_type": "execute_result"
    }
   ],
   "source": [
    "lst= [(2, 5), (1, 2), (4, 4), (2, 3), (2, 1)]\n",
    "n = len(lst)\n",
    "for i in range(n):\n",
    " for j in range(0, n-i-1):\n",
    "  if lst[j][-1] > lst[j+1][-1]:\n",
    "    lst[j], lst[j+1] = lst[j+1], lst[j]\n",
    "lst"
   ]
  },
  {
   "cell_type": "code",
   "execution_count": 13,
   "metadata": {},
   "outputs": [
    {
     "name": "stdout",
     "output_type": "stream",
     "text": [
      " empty\n"
     ]
    }
   ],
   "source": [
    "l=[]\n",
    "if len(l)==0:\n",
    "    print(' empty')\n",
    "else:\n",
    "    print(\"not empty\")"
   ]
  },
  {
   "cell_type": "code",
   "execution_count": 3,
   "metadata": {},
   "outputs": [
    {
     "data": {
      "text/plain": [
       "'Hello'"
      ]
     },
     "execution_count": 3,
     "metadata": {},
     "output_type": "execute_result"
    }
   ],
   "source": [
    "l = ['H', 'e', 'l', 'l', 'o']\n",
    "a=''.join(l)\n",
    "a"
   ]
  },
  {
   "cell_type": "code",
   "execution_count": 10,
   "metadata": {},
   "outputs": [
    {
     "data": {
      "text/plain": [
       "['hariom', 'Hello']"
      ]
     },
     "execution_count": 10,
     "metadata": {},
     "output_type": "execute_result"
    }
   ],
   "source": [
    "s='Hello hariom' #hariom Hello\n",
    "s1=s.split()\n",
    "s2=[]\n",
    "for i in s1:\n",
    "    s2.insert(0,i)\n",
    "print(s2)"
   ]
  },
  {
   "cell_type": "code",
   "execution_count": null,
   "metadata": {},
   "outputs": [],
   "source": []
  },
  {
   "cell_type": "code",
   "execution_count": 26,
   "metadata": {},
   "outputs": [
    {
     "data": {
      "text/plain": [
       "'hariom Hello'"
      ]
     },
     "execution_count": 26,
     "metadata": {},
     "output_type": "execute_result"
    }
   ],
   "source": [
    "s = 'Hello hariom'  # hariom Hello\n",
    "s2=s.split()[::-1]\n",
    "s3=' '.join(s2)\n",
    "s3"
   ]
  },
  {
   "cell_type": "code",
   "execution_count": 29,
   "metadata": {},
   "outputs": [
    {
     "data": {
      "text/plain": [
       "'resta$t'"
      ]
     },
     "execution_count": 29,
     "metadata": {},
     "output_type": "execute_result"
    }
   ],
   "source": [
    "s='restart' #resta$t\n",
    "s1=s[0]\n",
    "s=s.replace(s1,'$')\n",
    "s=s1+s[1:]\n",
    "s"
   ]
  },
  {
   "cell_type": "code",
   "execution_count": 33,
   "metadata": {},
   "outputs": [
    {
     "data": {
      "text/plain": [
       "'xyc abz'"
      ]
     },
     "execution_count": 33,
     "metadata": {},
     "output_type": "execute_result"
    }
   ],
   "source": [
    "def mix(a,b):\n",
    "    na=b[:2]+a[2:]\n",
    "    nb=a[:2]+b[2:]\n",
    "    return na+' ' +nb\n",
    "\n",
    "mix('abc', 'xyz')  # 'xyc abz'\n"
   ]
  },
  {
   "cell_type": "code",
   "execution_count": 1,
   "metadata": {},
   "outputs": [
    {
     "name": "stdout",
     "output_type": "stream",
     "text": [
      "25.00%\n"
     ]
    }
   ],
   "source": [
    "x=0.25\n",
    "print(\"{:.2%}\".format(x))"
   ]
  },
  {
   "cell_type": "code",
   "execution_count": 8,
   "metadata": {},
   "outputs": [
    {
     "name": "stdout",
     "output_type": "stream",
     "text": [
      "2,000,000\n"
     ]
    }
   ],
   "source": [
    "x=2000000\n",
    "print(\"{:,}\".format(x))"
   ]
  },
  {
   "cell_type": "code",
   "execution_count": 11,
   "metadata": {},
   "outputs": [
    {
     "name": "stdout",
     "output_type": "stream",
     "text": [
      " 22       \n"
     ]
    }
   ],
   "source": [
    "x = 22\n",
    "print(\"{:< 10d}\".format(x))"
   ]
  },
  {
   "cell_type": "code",
   "execution_count": 12,
   "metadata": {},
   "outputs": [
    {
     "name": "stdout",
     "output_type": "stream",
     "text": [
      "        22\n"
     ]
    }
   ],
   "source": [
    "x = 22\n",
    "print(\"{: 10d}\".format(x))"
   ]
  },
  {
   "cell_type": "code",
   "execution_count": 15,
   "metadata": {},
   "outputs": [
    {
     "name": "stdout",
     "output_type": "stream",
     "text": [
      "    22    \n"
     ]
    }
   ],
   "source": [
    "x = 22\n",
    "print(\"{:^ 10d}\".format(x))"
   ]
  },
  {
   "cell_type": "code",
   "execution_count": 16,
   "metadata": {},
   "outputs": [
    {
     "name": "stdout",
     "output_type": "stream",
     "text": [
      "All the duplicate characters in the string are: \n",
      "e  -  2\n",
      "l  -  3\n",
      "o  -  4\n",
      "m  -  2\n",
      "t  -  3\n",
      "o  -  3\n",
      "t  -  2\n",
      "o  -  2\n",
      "i  -  3\n",
      "a  -  2\n",
      "l  -  2\n",
      "i  -  2\n"
     ]
    }
   ],
   "source": [
    "string = \"Welcome to TutorialsPoint family\"\n",
    "for s in range(0, len(string)):\n",
    "   count = 1\n",
    "   for t in range(s+1, len(string)):\n",
    "      if (string[s] == string[t] and string[s] != ' '):\n",
    "         count = count + 1\n",
    "   string = string[:t] + '0' + string[t+1:]\n",
    "   if (count > 1 and string[s] != '0'):\n",
    "      print(string[s], \" - \",count);"
   ]
  },
  {
   "cell_type": "code",
   "execution_count": 26,
   "metadata": {},
   "outputs": [
    {
     "name": "stdout",
     "output_type": "stream",
     "text": [
      "t 2\n",
      "h 2\n",
      "e 3\n",
      "u 2\n",
      "b 17\n",
      "r 2\n",
      "o 4\n"
     ]
    }
   ],
   "source": [
    "s = 'thequickbbbbbbbbbbbbbbbbbrownfoxjumpsoverthelazydog'\n",
    "d={}\n",
    "for i in s:\n",
    "    if i in d:\n",
    "        d[i]+=1\n",
    "    else:\n",
    "        d[i] = 1\n",
    "for j in d:\n",
    "    if d[j]>1:\n",
    "        print(j,d[j])"
   ]
  },
  {
   "cell_type": "code",
   "execution_count": 31,
   "metadata": {},
   "outputs": [
    {
     "data": {
      "text/plain": [
       "'abcdefghijklmnopqrstuvwxyzABCDEFGHIJKLMNOPQRSTUVWXYZ'"
      ]
     },
     "execution_count": 31,
     "metadata": {},
     "output_type": "execute_result"
    }
   ],
   "source": [
    "import string\n",
    "alphabet = (string.ascii_lowercase)\n",
    "alphabet"
   ]
  },
  {
   "cell_type": "code",
   "execution_count": 33,
   "metadata": {},
   "outputs": [
    {
     "data": {
      "text/plain": [
       "4"
      ]
     },
     "execution_count": 33,
     "metadata": {},
     "output_type": "execute_result"
    }
   ],
   "source": [
    "s=\"welcome to my school\"\n",
    "co=0\n",
    "for i in s:\n",
    "    if i=='o':\n",
    "        co+=1\n",
    "co"
   ]
  },
  {
   "cell_type": "code",
   "execution_count": 36,
   "metadata": {},
   "outputs": [
    {
     "data": {
      "text/plain": [
       "38"
      ]
     },
     "execution_count": 36,
     "metadata": {},
     "output_type": "execute_result"
    }
   ],
   "source": [
    "s = \"welcome to my46544654 school\"\n",
    "sum=0\n",
    "for i in s:\n",
    "    if i.isdigit():\n",
    "        sum=sum+int(i)\n",
    "sum"
   ]
  },
  {
   "cell_type": "code",
   "execution_count": 40,
   "metadata": {},
   "outputs": [
    {
     "data": {
      "text/plain": [
       "'Black Green Pink Red White'"
      ]
     },
     "execution_count": 40,
     "metadata": {},
     "output_type": "execute_result"
    }
   ],
   "source": [
    "word = \"Red Green Black White Pink\"\n",
    "re=' '.join(sorted(word.split()))\n",
    "re"
   ]
  },
  {
   "cell_type": "code",
   "execution_count": 43,
   "metadata": {},
   "outputs": [
    {
     "data": {
      "text/plain": [
       "'Black Green Pink Red White'"
      ]
     },
     "execution_count": 43,
     "metadata": {},
     "output_type": "execute_result"
    }
   ],
   "source": [
    "word = \"Red Green Black White Pink\"\n",
    "re=' '.join(sorted(word.split()))\n",
    "re"
   ]
  },
  {
   "cell_type": "code",
   "execution_count": 46,
   "metadata": {},
   "outputs": [
    {
     "name": "stdout",
     "output_type": "stream",
     "text": [
      "139941817111920\n"
     ]
    }
   ],
   "source": [
    "x='Shalu'\n",
    "print(id(x))"
   ]
  },
  {
   "cell_type": "code",
   "execution_count": 54,
   "metadata": {},
   "outputs": [
    {
     "name": "stdout",
     "output_type": "stream",
     "text": [
      "leap year\n"
     ]
    }
   ],
   "source": [
    "leap_year=1608\n",
    "if leap_year%4==0 and leap_year%400==0:\n",
    "    print('Leap year')\n",
    "\n",
    "elif leap_year%4==0 and leap_year%100 !=0:\n",
    "    print('leap year')\n",
    "else:\n",
    "    print('not')"
   ]
  },
  {
   "cell_type": "code",
   "execution_count": 58,
   "metadata": {},
   "outputs": [
    {
     "name": "stdout",
     "output_type": "stream",
     "text": [
      "armstrong\n"
     ]
    }
   ],
   "source": [
    "#armstromg\n",
    "n=153\n",
    "l=len(str(n))\n",
    "s=n\n",
    "sum=0\n",
    "while n!=0:\n",
    "    r=n%10\n",
    "    sum+=r**l\n",
    "    n//=10\n",
    "\n",
    "if s==sum:\n",
    "    print('armstrong')\n",
    "else:\n",
    "    print('not')"
   ]
  },
  {
   "cell_type": "code",
   "execution_count": 61,
   "metadata": {},
   "outputs": [
    {
     "name": "stdout",
     "output_type": "stream",
     "text": [
      "1 2 3 4 5 6 7 8 9 153 370 371 407 "
     ]
    }
   ],
   "source": [
    "n = 153\n",
    "for n in range(1,1000):\n",
    "    l = len(str(n))\n",
    "    s = n\n",
    "    sum = 0\n",
    "    while n != 0:\n",
    "        r = n % 10\n",
    "        sum += r**l\n",
    "        n //= 10\n",
    "\n",
    "    if s == sum:\n",
    "        print(s,end=' ')\n"
   ]
  },
  {
   "cell_type": "code",
   "execution_count": 68,
   "metadata": {},
   "outputs": [
    {
     "name": "stdout",
     "output_type": "stream",
     "text": [
      "1 2 3 4 5 6 7 8 9 11 22 33 44 55 66 77 88 99 "
     ]
    }
   ],
   "source": [
    "for n in range(1,100):\n",
    "\n",
    "    s = n\n",
    "    res=0\n",
    "    while n != 0:\n",
    "        r = n % 10\n",
    "        res =(res*10)+r\n",
    "        n //= 10\n",
    "\n",
    "    if s == res:\n",
    "        print(s,end=' ')\n"
   ]
  },
  {
   "cell_type": "code",
   "execution_count": null,
   "metadata": {},
   "outputs": [],
   "source": []
  }
 ],
 "metadata": {
  "kernelspec": {
   "display_name": "Python 3",
   "language": "python",
   "name": "python3"
  },
  "language_info": {
   "codemirror_mode": {
    "name": "ipython",
    "version": 3
   },
   "file_extension": ".py",
   "mimetype": "text/x-python",
   "name": "python",
   "nbconvert_exporter": "python",
   "pygments_lexer": "ipython3",
   "version": "3.10.12"
  }
 },
 "nbformat": 4,
 "nbformat_minor": 2
}
